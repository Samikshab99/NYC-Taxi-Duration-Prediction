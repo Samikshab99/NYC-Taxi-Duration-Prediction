{
  "nbformat": 4,
  "nbformat_minor": 0,
  "metadata": {
    "kernelspec": {
      "display_name": "Python 3",
      "language": "python",
      "name": "python3"
    },
    "language_info": {
      "codemirror_mode": {
        "name": "ipython",
        "version": 3
      },
      "file_extension": ".py",
      "mimetype": "text/x-python",
      "name": "python",
      "nbconvert_exporter": "python",
      "pygments_lexer": "ipython3",
      "version": "3.6.6"
    },
    "colab": {
      "name": "(Sami) NYC Taxi Trip Time Prediction - Capstone Project.ipynb",
      "provenance": [],
      "collapsed_sections": [],
      "include_colab_link": true
    }
  },
  "cells": [
    {
      "cell_type": "markdown",
      "metadata": {
        "id": "view-in-github",
        "colab_type": "text"
      },
      "source": [
        "<a href=\"https://colab.research.google.com/github/Samikshab99/NYC-Taxi-Duration-Prediction/blob/main/(Sami)_NYC_Taxi_Trip_Time_Prediction_Capstone_Project.ipynb\" target=\"_parent\"><img src=\"https://colab.research.google.com/assets/colab-badge.svg\" alt=\"Open In Colab\"/></a>"
      ]
    },
    {
      "cell_type": "markdown",
      "metadata": {
        "id": "tOGC-qoyhJeX"
      },
      "source": [
        "# <b><u> Project Title : Taxi trip time Prediction : Predicting total ride duration of taxi trips in New York City</u></b>"
      ]
    },
    {
      "cell_type": "markdown",
      "metadata": {
        "id": "Y06xIdG26kRF"
      },
      "source": [
        "## <b> Problem Description </b>\n",
        "\n",
        "### Your task is to build a model that predicts the total ride duration of taxi trips in New York City. Your primary dataset is one released by the NYC Taxi and Limousine Commission, which includes pickup time, geo-coordinates, number of passengers, and several other variables."
      ]
    },
    {
      "cell_type": "markdown",
      "metadata": {
        "id": "WWeU1f9bwqQq"
      },
      "source": [
        "## <b> Data Description </b>\n",
        "\n",
        "### The dataset is based on the 2016 NYC Yellow Cab trip record data made available in Big Query on Google Cloud Platform. The data was originally published by the NYC Taxi and Limousine Commission (TLC). The data was sampled and cleaned for the purposes of this project. Based on individual trip attributes, you should predict the duration of each trip in the test set.\n",
        "\n",
        "### <b>NYC Taxi Data.csv</b> - the training set (contains 1458644 trip records)\n",
        "\n",
        "\n",
        "### Data fields\n",
        "* #### id - a unique identifier for each trip\n",
        "* #### vendor_id - a code indicating the provider associated with the trip record\n",
        "* #### pickup_datetime - date and time when the meter was engaged\n",
        "* #### dropoff_datetime - date and time when the meter was disengaged\n",
        "* #### passenger_count - the number of passengers in the vehicle (driver entered value)\n",
        "* #### pickup_longitude - the longitude where the meter was engaged\n",
        "* #### pickup_latitude - the latitude where the meter was engaged\n",
        "* #### dropoff_longitude - the longitude where the meter was disengaged\n",
        "* #### dropoff_latitude - the latitude where the meter was disengaged\n",
        "* #### store_and_fwd_flag - This flag indicates whether the trip record was held in vehicle memory before sending to the vendor because the vehicle did not have a connection to the server - Y=store and forward; N=not a store and forward trip\n",
        "* #### trip_duration - duration of the trip in seconds"
      ]
    },
    {
      "cell_type": "code",
      "source": [
        "import pandas as pd\n",
        "import numpy as np\n",
        "\n",
        "import seaborn as sns\n",
        "import matplotlib.pyplot as plt\n",
        "import plotly.express as px\n",
        "import matplotlib\n",
        "import datetime as dt\n",
        "from math import radians, cos, sin, asin, sqrt\n",
        "from datetime import datetime, timedelta\n",
        "from math import radians, cos, sin, asin, sqrt\n",
        "from pandas.tseries.holiday import USFederalHolidayCalendar  \n",
        "import datetime as dt\n",
        "\n",
        "from sklearn.linear_model import LinearRegression\n",
        "from sklearn.ensemble import RandomForestRegressor\n",
        "from xgboost import XGBRegressor\n",
        "from sklearn import metrics\n",
        "from sklearn.model_selection import train_test_split, GridSearchCV\n",
        "\n",
        "import statsmodels.formula.api as sm\n",
        "from sklearn.model_selection import learning_curve\n",
        "from sklearn.model_selection import ShuffleSplit\n",
        "import warnings; warnings.simplefilter('ignore')\n"
      ],
      "metadata": {
        "id": "LpveLwkDmx_R"
      },
      "execution_count": null,
      "outputs": []
    },
    {
      "cell_type": "code",
      "metadata": {
        "id": "dByMsuzT8Tnw",
        "colab": {
          "base_uri": "https://localhost:8080/"
        },
        "outputId": "7f7a53f5-5332-4882-ef93-8a0bd955c795"
      },
      "source": [
        "from google.colab import drive\n",
        "drive.mount('/content/drive')"
      ],
      "execution_count": null,
      "outputs": [
        {
          "output_type": "stream",
          "name": "stdout",
          "text": [
            "Mounted at /content/drive\n"
          ]
        }
      ]
    },
    {
      "cell_type": "code",
      "source": [
        "taxi = pd.read_csv(\"/content/drive/MyDrive/NYC Taxi Data.csv\")\n",
        "taxi"
      ],
      "metadata": {
        "colab": {
          "base_uri": "https://localhost:8080/",
          "height": 661
        },
        "id": "pb7ahqm1mR2S",
        "outputId": "9ea3e7aa-fba0-4edf-916b-fcc61e139415"
      },
      "execution_count": null,
      "outputs": [
        {
          "output_type": "execute_result",
          "data": {
            "text/plain": [
              "                id  vendor_id      pickup_datetime     dropoff_datetime  \\\n",
              "0        id2875421          2  2016-03-14 17:24:55  2016-03-14 17:32:30   \n",
              "1        id2377394          1  2016-06-12 00:43:35  2016-06-12 00:54:38   \n",
              "2        id3858529          2  2016-01-19 11:35:24  2016-01-19 12:10:48   \n",
              "3        id3504673          2  2016-04-06 19:32:31  2016-04-06 19:39:40   \n",
              "4        id2181028          2  2016-03-26 13:30:55  2016-03-26 13:38:10   \n",
              "...            ...        ...                  ...                  ...   \n",
              "1458639  id2376096          2  2016-04-08 13:31:04  2016-04-08 13:44:02   \n",
              "1458640  id1049543          1  2016-01-10 07:35:15  2016-01-10 07:46:10   \n",
              "1458641  id2304944          2  2016-04-22 06:57:41  2016-04-22 07:10:25   \n",
              "1458642  id2714485          1  2016-01-05 15:56:26  2016-01-05 16:02:39   \n",
              "1458643  id1209952          1  2016-04-05 14:44:25  2016-04-05 14:47:43   \n",
              "\n",
              "         passenger_count  pickup_longitude  pickup_latitude  \\\n",
              "0                      1        -73.982155        40.767937   \n",
              "1                      1        -73.980415        40.738564   \n",
              "2                      1        -73.979027        40.763939   \n",
              "3                      1        -74.010040        40.719971   \n",
              "4                      1        -73.973053        40.793209   \n",
              "...                  ...               ...              ...   \n",
              "1458639                4        -73.982201        40.745522   \n",
              "1458640                1        -74.000946        40.747379   \n",
              "1458641                1        -73.959129        40.768799   \n",
              "1458642                1        -73.982079        40.749062   \n",
              "1458643                1        -73.979538        40.781750   \n",
              "\n",
              "         dropoff_longitude  dropoff_latitude store_and_fwd_flag  trip_duration  \n",
              "0               -73.964630         40.765602                  N            455  \n",
              "1               -73.999481         40.731152                  N            663  \n",
              "2               -74.005333         40.710087                  N           2124  \n",
              "3               -74.012268         40.706718                  N            429  \n",
              "4               -73.972923         40.782520                  N            435  \n",
              "...                    ...               ...                ...            ...  \n",
              "1458639         -73.994911         40.740170                  N            778  \n",
              "1458640         -73.970184         40.796547                  N            655  \n",
              "1458641         -74.004433         40.707371                  N            764  \n",
              "1458642         -73.974632         40.757107                  N            373  \n",
              "1458643         -73.972809         40.790585                  N            198  \n",
              "\n",
              "[1458644 rows x 11 columns]"
            ],
            "text/html": [
              "\n",
              "  <div id=\"df-c38570f8-fc83-4d6f-b941-ba4ff0fa1508\">\n",
              "    <div class=\"colab-df-container\">\n",
              "      <div>\n",
              "<style scoped>\n",
              "    .dataframe tbody tr th:only-of-type {\n",
              "        vertical-align: middle;\n",
              "    }\n",
              "\n",
              "    .dataframe tbody tr th {\n",
              "        vertical-align: top;\n",
              "    }\n",
              "\n",
              "    .dataframe thead th {\n",
              "        text-align: right;\n",
              "    }\n",
              "</style>\n",
              "<table border=\"1\" class=\"dataframe\">\n",
              "  <thead>\n",
              "    <tr style=\"text-align: right;\">\n",
              "      <th></th>\n",
              "      <th>id</th>\n",
              "      <th>vendor_id</th>\n",
              "      <th>pickup_datetime</th>\n",
              "      <th>dropoff_datetime</th>\n",
              "      <th>passenger_count</th>\n",
              "      <th>pickup_longitude</th>\n",
              "      <th>pickup_latitude</th>\n",
              "      <th>dropoff_longitude</th>\n",
              "      <th>dropoff_latitude</th>\n",
              "      <th>store_and_fwd_flag</th>\n",
              "      <th>trip_duration</th>\n",
              "    </tr>\n",
              "  </thead>\n",
              "  <tbody>\n",
              "    <tr>\n",
              "      <th>0</th>\n",
              "      <td>id2875421</td>\n",
              "      <td>2</td>\n",
              "      <td>2016-03-14 17:24:55</td>\n",
              "      <td>2016-03-14 17:32:30</td>\n",
              "      <td>1</td>\n",
              "      <td>-73.982155</td>\n",
              "      <td>40.767937</td>\n",
              "      <td>-73.964630</td>\n",
              "      <td>40.765602</td>\n",
              "      <td>N</td>\n",
              "      <td>455</td>\n",
              "    </tr>\n",
              "    <tr>\n",
              "      <th>1</th>\n",
              "      <td>id2377394</td>\n",
              "      <td>1</td>\n",
              "      <td>2016-06-12 00:43:35</td>\n",
              "      <td>2016-06-12 00:54:38</td>\n",
              "      <td>1</td>\n",
              "      <td>-73.980415</td>\n",
              "      <td>40.738564</td>\n",
              "      <td>-73.999481</td>\n",
              "      <td>40.731152</td>\n",
              "      <td>N</td>\n",
              "      <td>663</td>\n",
              "    </tr>\n",
              "    <tr>\n",
              "      <th>2</th>\n",
              "      <td>id3858529</td>\n",
              "      <td>2</td>\n",
              "      <td>2016-01-19 11:35:24</td>\n",
              "      <td>2016-01-19 12:10:48</td>\n",
              "      <td>1</td>\n",
              "      <td>-73.979027</td>\n",
              "      <td>40.763939</td>\n",
              "      <td>-74.005333</td>\n",
              "      <td>40.710087</td>\n",
              "      <td>N</td>\n",
              "      <td>2124</td>\n",
              "    </tr>\n",
              "    <tr>\n",
              "      <th>3</th>\n",
              "      <td>id3504673</td>\n",
              "      <td>2</td>\n",
              "      <td>2016-04-06 19:32:31</td>\n",
              "      <td>2016-04-06 19:39:40</td>\n",
              "      <td>1</td>\n",
              "      <td>-74.010040</td>\n",
              "      <td>40.719971</td>\n",
              "      <td>-74.012268</td>\n",
              "      <td>40.706718</td>\n",
              "      <td>N</td>\n",
              "      <td>429</td>\n",
              "    </tr>\n",
              "    <tr>\n",
              "      <th>4</th>\n",
              "      <td>id2181028</td>\n",
              "      <td>2</td>\n",
              "      <td>2016-03-26 13:30:55</td>\n",
              "      <td>2016-03-26 13:38:10</td>\n",
              "      <td>1</td>\n",
              "      <td>-73.973053</td>\n",
              "      <td>40.793209</td>\n",
              "      <td>-73.972923</td>\n",
              "      <td>40.782520</td>\n",
              "      <td>N</td>\n",
              "      <td>435</td>\n",
              "    </tr>\n",
              "    <tr>\n",
              "      <th>...</th>\n",
              "      <td>...</td>\n",
              "      <td>...</td>\n",
              "      <td>...</td>\n",
              "      <td>...</td>\n",
              "      <td>...</td>\n",
              "      <td>...</td>\n",
              "      <td>...</td>\n",
              "      <td>...</td>\n",
              "      <td>...</td>\n",
              "      <td>...</td>\n",
              "      <td>...</td>\n",
              "    </tr>\n",
              "    <tr>\n",
              "      <th>1458639</th>\n",
              "      <td>id2376096</td>\n",
              "      <td>2</td>\n",
              "      <td>2016-04-08 13:31:04</td>\n",
              "      <td>2016-04-08 13:44:02</td>\n",
              "      <td>4</td>\n",
              "      <td>-73.982201</td>\n",
              "      <td>40.745522</td>\n",
              "      <td>-73.994911</td>\n",
              "      <td>40.740170</td>\n",
              "      <td>N</td>\n",
              "      <td>778</td>\n",
              "    </tr>\n",
              "    <tr>\n",
              "      <th>1458640</th>\n",
              "      <td>id1049543</td>\n",
              "      <td>1</td>\n",
              "      <td>2016-01-10 07:35:15</td>\n",
              "      <td>2016-01-10 07:46:10</td>\n",
              "      <td>1</td>\n",
              "      <td>-74.000946</td>\n",
              "      <td>40.747379</td>\n",
              "      <td>-73.970184</td>\n",
              "      <td>40.796547</td>\n",
              "      <td>N</td>\n",
              "      <td>655</td>\n",
              "    </tr>\n",
              "    <tr>\n",
              "      <th>1458641</th>\n",
              "      <td>id2304944</td>\n",
              "      <td>2</td>\n",
              "      <td>2016-04-22 06:57:41</td>\n",
              "      <td>2016-04-22 07:10:25</td>\n",
              "      <td>1</td>\n",
              "      <td>-73.959129</td>\n",
              "      <td>40.768799</td>\n",
              "      <td>-74.004433</td>\n",
              "      <td>40.707371</td>\n",
              "      <td>N</td>\n",
              "      <td>764</td>\n",
              "    </tr>\n",
              "    <tr>\n",
              "      <th>1458642</th>\n",
              "      <td>id2714485</td>\n",
              "      <td>1</td>\n",
              "      <td>2016-01-05 15:56:26</td>\n",
              "      <td>2016-01-05 16:02:39</td>\n",
              "      <td>1</td>\n",
              "      <td>-73.982079</td>\n",
              "      <td>40.749062</td>\n",
              "      <td>-73.974632</td>\n",
              "      <td>40.757107</td>\n",
              "      <td>N</td>\n",
              "      <td>373</td>\n",
              "    </tr>\n",
              "    <tr>\n",
              "      <th>1458643</th>\n",
              "      <td>id1209952</td>\n",
              "      <td>1</td>\n",
              "      <td>2016-04-05 14:44:25</td>\n",
              "      <td>2016-04-05 14:47:43</td>\n",
              "      <td>1</td>\n",
              "      <td>-73.979538</td>\n",
              "      <td>40.781750</td>\n",
              "      <td>-73.972809</td>\n",
              "      <td>40.790585</td>\n",
              "      <td>N</td>\n",
              "      <td>198</td>\n",
              "    </tr>\n",
              "  </tbody>\n",
              "</table>\n",
              "<p>1458644 rows × 11 columns</p>\n",
              "</div>\n",
              "      <button class=\"colab-df-convert\" onclick=\"convertToInteractive('df-c38570f8-fc83-4d6f-b941-ba4ff0fa1508')\"\n",
              "              title=\"Convert this dataframe to an interactive table.\"\n",
              "              style=\"display:none;\">\n",
              "        \n",
              "  <svg xmlns=\"http://www.w3.org/2000/svg\" height=\"24px\"viewBox=\"0 0 24 24\"\n",
              "       width=\"24px\">\n",
              "    <path d=\"M0 0h24v24H0V0z\" fill=\"none\"/>\n",
              "    <path d=\"M18.56 5.44l.94 2.06.94-2.06 2.06-.94-2.06-.94-.94-2.06-.94 2.06-2.06.94zm-11 1L8.5 8.5l.94-2.06 2.06-.94-2.06-.94L8.5 2.5l-.94 2.06-2.06.94zm10 10l.94 2.06.94-2.06 2.06-.94-2.06-.94-.94-2.06-.94 2.06-2.06.94z\"/><path d=\"M17.41 7.96l-1.37-1.37c-.4-.4-.92-.59-1.43-.59-.52 0-1.04.2-1.43.59L10.3 9.45l-7.72 7.72c-.78.78-.78 2.05 0 2.83L4 21.41c.39.39.9.59 1.41.59.51 0 1.02-.2 1.41-.59l7.78-7.78 2.81-2.81c.8-.78.8-2.07 0-2.86zM5.41 20L4 18.59l7.72-7.72 1.47 1.35L5.41 20z\"/>\n",
              "  </svg>\n",
              "      </button>\n",
              "      \n",
              "  <style>\n",
              "    .colab-df-container {\n",
              "      display:flex;\n",
              "      flex-wrap:wrap;\n",
              "      gap: 12px;\n",
              "    }\n",
              "\n",
              "    .colab-df-convert {\n",
              "      background-color: #E8F0FE;\n",
              "      border: none;\n",
              "      border-radius: 50%;\n",
              "      cursor: pointer;\n",
              "      display: none;\n",
              "      fill: #1967D2;\n",
              "      height: 32px;\n",
              "      padding: 0 0 0 0;\n",
              "      width: 32px;\n",
              "    }\n",
              "\n",
              "    .colab-df-convert:hover {\n",
              "      background-color: #E2EBFA;\n",
              "      box-shadow: 0px 1px 2px rgba(60, 64, 67, 0.3), 0px 1px 3px 1px rgba(60, 64, 67, 0.15);\n",
              "      fill: #174EA6;\n",
              "    }\n",
              "\n",
              "    [theme=dark] .colab-df-convert {\n",
              "      background-color: #3B4455;\n",
              "      fill: #D2E3FC;\n",
              "    }\n",
              "\n",
              "    [theme=dark] .colab-df-convert:hover {\n",
              "      background-color: #434B5C;\n",
              "      box-shadow: 0px 1px 3px 1px rgba(0, 0, 0, 0.15);\n",
              "      filter: drop-shadow(0px 1px 2px rgba(0, 0, 0, 0.3));\n",
              "      fill: #FFFFFF;\n",
              "    }\n",
              "  </style>\n",
              "\n",
              "      <script>\n",
              "        const buttonEl =\n",
              "          document.querySelector('#df-c38570f8-fc83-4d6f-b941-ba4ff0fa1508 button.colab-df-convert');\n",
              "        buttonEl.style.display =\n",
              "          google.colab.kernel.accessAllowed ? 'block' : 'none';\n",
              "\n",
              "        async function convertToInteractive(key) {\n",
              "          const element = document.querySelector('#df-c38570f8-fc83-4d6f-b941-ba4ff0fa1508');\n",
              "          const dataTable =\n",
              "            await google.colab.kernel.invokeFunction('convertToInteractive',\n",
              "                                                     [key], {});\n",
              "          if (!dataTable) return;\n",
              "\n",
              "          const docLinkHtml = 'Like what you see? Visit the ' +\n",
              "            '<a target=\"_blank\" href=https://colab.research.google.com/notebooks/data_table.ipynb>data table notebook</a>'\n",
              "            + ' to learn more about interactive tables.';\n",
              "          element.innerHTML = '';\n",
              "          dataTable['output_type'] = 'display_data';\n",
              "          await google.colab.output.renderOutput(dataTable, element);\n",
              "          const docLink = document.createElement('div');\n",
              "          docLink.innerHTML = docLinkHtml;\n",
              "          element.appendChild(docLink);\n",
              "        }\n",
              "      </script>\n",
              "    </div>\n",
              "  </div>\n",
              "  "
            ]
          },
          "metadata": {},
          "execution_count": 3
        }
      ]
    },
    {
      "cell_type": "code",
      "source": [
        "taxi.info()"
      ],
      "metadata": {
        "colab": {
          "base_uri": "https://localhost:8080/"
        },
        "id": "g6dsqX3-nLGr",
        "outputId": "7c37ff4a-6cda-49d5-e9b9-26b7849b8619"
      },
      "execution_count": null,
      "outputs": [
        {
          "output_type": "stream",
          "name": "stdout",
          "text": [
            "<class 'pandas.core.frame.DataFrame'>\n",
            "RangeIndex: 1458644 entries, 0 to 1458643\n",
            "Data columns (total 11 columns):\n",
            " #   Column              Non-Null Count    Dtype  \n",
            "---  ------              --------------    -----  \n",
            " 0   id                  1458644 non-null  object \n",
            " 1   vendor_id           1458644 non-null  int64  \n",
            " 2   pickup_datetime     1458644 non-null  object \n",
            " 3   dropoff_datetime    1458644 non-null  object \n",
            " 4   passenger_count     1458644 non-null  int64  \n",
            " 5   pickup_longitude    1458644 non-null  float64\n",
            " 6   pickup_latitude     1458644 non-null  float64\n",
            " 7   dropoff_longitude   1458644 non-null  float64\n",
            " 8   dropoff_latitude    1458644 non-null  float64\n",
            " 9   store_and_fwd_flag  1458644 non-null  object \n",
            " 10  trip_duration       1458644 non-null  int64  \n",
            "dtypes: float64(4), int64(3), object(4)\n",
            "memory usage: 122.4+ MB\n"
          ]
        }
      ]
    },
    {
      "cell_type": "code",
      "source": [
        "taxi.describe()"
      ],
      "metadata": {
        "colab": {
          "base_uri": "https://localhost:8080/",
          "height": 300
        },
        "id": "KHx1AW29qnfL",
        "outputId": "278ca8e8-568a-4d52-c401-bdff1c74457a"
      },
      "execution_count": null,
      "outputs": [
        {
          "output_type": "execute_result",
          "data": {
            "text/plain": [
              "          vendor_id  passenger_count  pickup_longitude  pickup_latitude  \\\n",
              "count  1.458644e+06     1.458644e+06      1.458644e+06     1.458644e+06   \n",
              "mean   1.534950e+00     1.664530e+00     -7.397349e+01     4.075092e+01   \n",
              "std    4.987772e-01     1.314242e+00      7.090186e-02     3.288119e-02   \n",
              "min    1.000000e+00     0.000000e+00     -1.219333e+02     3.435970e+01   \n",
              "25%    1.000000e+00     1.000000e+00     -7.399187e+01     4.073735e+01   \n",
              "50%    2.000000e+00     1.000000e+00     -7.398174e+01     4.075410e+01   \n",
              "75%    2.000000e+00     2.000000e+00     -7.396733e+01     4.076836e+01   \n",
              "max    2.000000e+00     9.000000e+00     -6.133553e+01     5.188108e+01   \n",
              "\n",
              "       dropoff_longitude  dropoff_latitude  trip_duration  \n",
              "count       1.458644e+06      1.458644e+06   1.458644e+06  \n",
              "mean       -7.397342e+01      4.075180e+01   9.594923e+02  \n",
              "std         7.064327e-02      3.589056e-02   5.237432e+03  \n",
              "min        -1.219333e+02      3.218114e+01   1.000000e+00  \n",
              "25%        -7.399133e+01      4.073588e+01   3.970000e+02  \n",
              "50%        -7.397975e+01      4.075452e+01   6.620000e+02  \n",
              "75%        -7.396301e+01      4.076981e+01   1.075000e+03  \n",
              "max        -6.133553e+01      4.392103e+01   3.526282e+06  "
            ],
            "text/html": [
              "\n",
              "  <div id=\"df-a39ee7e0-4372-4048-9395-d2b7361ea9cf\">\n",
              "    <div class=\"colab-df-container\">\n",
              "      <div>\n",
              "<style scoped>\n",
              "    .dataframe tbody tr th:only-of-type {\n",
              "        vertical-align: middle;\n",
              "    }\n",
              "\n",
              "    .dataframe tbody tr th {\n",
              "        vertical-align: top;\n",
              "    }\n",
              "\n",
              "    .dataframe thead th {\n",
              "        text-align: right;\n",
              "    }\n",
              "</style>\n",
              "<table border=\"1\" class=\"dataframe\">\n",
              "  <thead>\n",
              "    <tr style=\"text-align: right;\">\n",
              "      <th></th>\n",
              "      <th>vendor_id</th>\n",
              "      <th>passenger_count</th>\n",
              "      <th>pickup_longitude</th>\n",
              "      <th>pickup_latitude</th>\n",
              "      <th>dropoff_longitude</th>\n",
              "      <th>dropoff_latitude</th>\n",
              "      <th>trip_duration</th>\n",
              "    </tr>\n",
              "  </thead>\n",
              "  <tbody>\n",
              "    <tr>\n",
              "      <th>count</th>\n",
              "      <td>1.458644e+06</td>\n",
              "      <td>1.458644e+06</td>\n",
              "      <td>1.458644e+06</td>\n",
              "      <td>1.458644e+06</td>\n",
              "      <td>1.458644e+06</td>\n",
              "      <td>1.458644e+06</td>\n",
              "      <td>1.458644e+06</td>\n",
              "    </tr>\n",
              "    <tr>\n",
              "      <th>mean</th>\n",
              "      <td>1.534950e+00</td>\n",
              "      <td>1.664530e+00</td>\n",
              "      <td>-7.397349e+01</td>\n",
              "      <td>4.075092e+01</td>\n",
              "      <td>-7.397342e+01</td>\n",
              "      <td>4.075180e+01</td>\n",
              "      <td>9.594923e+02</td>\n",
              "    </tr>\n",
              "    <tr>\n",
              "      <th>std</th>\n",
              "      <td>4.987772e-01</td>\n",
              "      <td>1.314242e+00</td>\n",
              "      <td>7.090186e-02</td>\n",
              "      <td>3.288119e-02</td>\n",
              "      <td>7.064327e-02</td>\n",
              "      <td>3.589056e-02</td>\n",
              "      <td>5.237432e+03</td>\n",
              "    </tr>\n",
              "    <tr>\n",
              "      <th>min</th>\n",
              "      <td>1.000000e+00</td>\n",
              "      <td>0.000000e+00</td>\n",
              "      <td>-1.219333e+02</td>\n",
              "      <td>3.435970e+01</td>\n",
              "      <td>-1.219333e+02</td>\n",
              "      <td>3.218114e+01</td>\n",
              "      <td>1.000000e+00</td>\n",
              "    </tr>\n",
              "    <tr>\n",
              "      <th>25%</th>\n",
              "      <td>1.000000e+00</td>\n",
              "      <td>1.000000e+00</td>\n",
              "      <td>-7.399187e+01</td>\n",
              "      <td>4.073735e+01</td>\n",
              "      <td>-7.399133e+01</td>\n",
              "      <td>4.073588e+01</td>\n",
              "      <td>3.970000e+02</td>\n",
              "    </tr>\n",
              "    <tr>\n",
              "      <th>50%</th>\n",
              "      <td>2.000000e+00</td>\n",
              "      <td>1.000000e+00</td>\n",
              "      <td>-7.398174e+01</td>\n",
              "      <td>4.075410e+01</td>\n",
              "      <td>-7.397975e+01</td>\n",
              "      <td>4.075452e+01</td>\n",
              "      <td>6.620000e+02</td>\n",
              "    </tr>\n",
              "    <tr>\n",
              "      <th>75%</th>\n",
              "      <td>2.000000e+00</td>\n",
              "      <td>2.000000e+00</td>\n",
              "      <td>-7.396733e+01</td>\n",
              "      <td>4.076836e+01</td>\n",
              "      <td>-7.396301e+01</td>\n",
              "      <td>4.076981e+01</td>\n",
              "      <td>1.075000e+03</td>\n",
              "    </tr>\n",
              "    <tr>\n",
              "      <th>max</th>\n",
              "      <td>2.000000e+00</td>\n",
              "      <td>9.000000e+00</td>\n",
              "      <td>-6.133553e+01</td>\n",
              "      <td>5.188108e+01</td>\n",
              "      <td>-6.133553e+01</td>\n",
              "      <td>4.392103e+01</td>\n",
              "      <td>3.526282e+06</td>\n",
              "    </tr>\n",
              "  </tbody>\n",
              "</table>\n",
              "</div>\n",
              "      <button class=\"colab-df-convert\" onclick=\"convertToInteractive('df-a39ee7e0-4372-4048-9395-d2b7361ea9cf')\"\n",
              "              title=\"Convert this dataframe to an interactive table.\"\n",
              "              style=\"display:none;\">\n",
              "        \n",
              "  <svg xmlns=\"http://www.w3.org/2000/svg\" height=\"24px\"viewBox=\"0 0 24 24\"\n",
              "       width=\"24px\">\n",
              "    <path d=\"M0 0h24v24H0V0z\" fill=\"none\"/>\n",
              "    <path d=\"M18.56 5.44l.94 2.06.94-2.06 2.06-.94-2.06-.94-.94-2.06-.94 2.06-2.06.94zm-11 1L8.5 8.5l.94-2.06 2.06-.94-2.06-.94L8.5 2.5l-.94 2.06-2.06.94zm10 10l.94 2.06.94-2.06 2.06-.94-2.06-.94-.94-2.06-.94 2.06-2.06.94z\"/><path d=\"M17.41 7.96l-1.37-1.37c-.4-.4-.92-.59-1.43-.59-.52 0-1.04.2-1.43.59L10.3 9.45l-7.72 7.72c-.78.78-.78 2.05 0 2.83L4 21.41c.39.39.9.59 1.41.59.51 0 1.02-.2 1.41-.59l7.78-7.78 2.81-2.81c.8-.78.8-2.07 0-2.86zM5.41 20L4 18.59l7.72-7.72 1.47 1.35L5.41 20z\"/>\n",
              "  </svg>\n",
              "      </button>\n",
              "      \n",
              "  <style>\n",
              "    .colab-df-container {\n",
              "      display:flex;\n",
              "      flex-wrap:wrap;\n",
              "      gap: 12px;\n",
              "    }\n",
              "\n",
              "    .colab-df-convert {\n",
              "      background-color: #E8F0FE;\n",
              "      border: none;\n",
              "      border-radius: 50%;\n",
              "      cursor: pointer;\n",
              "      display: none;\n",
              "      fill: #1967D2;\n",
              "      height: 32px;\n",
              "      padding: 0 0 0 0;\n",
              "      width: 32px;\n",
              "    }\n",
              "\n",
              "    .colab-df-convert:hover {\n",
              "      background-color: #E2EBFA;\n",
              "      box-shadow: 0px 1px 2px rgba(60, 64, 67, 0.3), 0px 1px 3px 1px rgba(60, 64, 67, 0.15);\n",
              "      fill: #174EA6;\n",
              "    }\n",
              "\n",
              "    [theme=dark] .colab-df-convert {\n",
              "      background-color: #3B4455;\n",
              "      fill: #D2E3FC;\n",
              "    }\n",
              "\n",
              "    [theme=dark] .colab-df-convert:hover {\n",
              "      background-color: #434B5C;\n",
              "      box-shadow: 0px 1px 3px 1px rgba(0, 0, 0, 0.15);\n",
              "      filter: drop-shadow(0px 1px 2px rgba(0, 0, 0, 0.3));\n",
              "      fill: #FFFFFF;\n",
              "    }\n",
              "  </style>\n",
              "\n",
              "      <script>\n",
              "        const buttonEl =\n",
              "          document.querySelector('#df-a39ee7e0-4372-4048-9395-d2b7361ea9cf button.colab-df-convert');\n",
              "        buttonEl.style.display =\n",
              "          google.colab.kernel.accessAllowed ? 'block' : 'none';\n",
              "\n",
              "        async function convertToInteractive(key) {\n",
              "          const element = document.querySelector('#df-a39ee7e0-4372-4048-9395-d2b7361ea9cf');\n",
              "          const dataTable =\n",
              "            await google.colab.kernel.invokeFunction('convertToInteractive',\n",
              "                                                     [key], {});\n",
              "          if (!dataTable) return;\n",
              "\n",
              "          const docLinkHtml = 'Like what you see? Visit the ' +\n",
              "            '<a target=\"_blank\" href=https://colab.research.google.com/notebooks/data_table.ipynb>data table notebook</a>'\n",
              "            + ' to learn more about interactive tables.';\n",
              "          element.innerHTML = '';\n",
              "          dataTable['output_type'] = 'display_data';\n",
              "          await google.colab.output.renderOutput(dataTable, element);\n",
              "          const docLink = document.createElement('div');\n",
              "          docLink.innerHTML = docLinkHtml;\n",
              "          element.appendChild(docLink);\n",
              "        }\n",
              "      </script>\n",
              "    </div>\n",
              "  </div>\n",
              "  "
            ]
          },
          "metadata": {},
          "execution_count": 5
        }
      ]
    },
    {
      "cell_type": "code",
      "source": [
        "taxi.shape"
      ],
      "metadata": {
        "colab": {
          "base_uri": "https://localhost:8080/"
        },
        "id": "xc5wDgRNPV44",
        "outputId": "7d917ffa-ee80-40a1-eaa6-2d84ebe2ea60"
      },
      "execution_count": null,
      "outputs": [
        {
          "output_type": "execute_result",
          "data": {
            "text/plain": [
              "(1458644, 11)"
            ]
          },
          "metadata": {},
          "execution_count": 6
        }
      ]
    },
    {
      "cell_type": "code",
      "source": [
        "print(\"There are %d unique id's in Training dataset, which is equal to the number of records\"%(taxi.id.nunique()))"
      ],
      "metadata": {
        "colab": {
          "base_uri": "https://localhost:8080/"
        },
        "id": "FMX-7LEdPjOM",
        "outputId": "8890e40e-5cd5-47fe-bf53-f7662816bcc4"
      },
      "execution_count": null,
      "outputs": [
        {
          "output_type": "stream",
          "name": "stdout",
          "text": [
            "There are 1458644 unique id's in Training dataset, which is equal to the number of records\n"
          ]
        }
      ]
    },
    {
      "cell_type": "code",
      "source": [
        "#Check for NaN values\n",
        "taxi.isnull().sum()"
      ],
      "metadata": {
        "colab": {
          "base_uri": "https://localhost:8080/"
        },
        "id": "KY4NmyNYPrKu",
        "outputId": "38de7a96-f960-4c8e-a82f-3e628f9805a8"
      },
      "execution_count": null,
      "outputs": [
        {
          "output_type": "execute_result",
          "data": {
            "text/plain": [
              "id                    0\n",
              "vendor_id             0\n",
              "pickup_datetime       0\n",
              "dropoff_datetime      0\n",
              "passenger_count       0\n",
              "pickup_longitude      0\n",
              "pickup_latitude       0\n",
              "dropoff_longitude     0\n",
              "dropoff_latitude      0\n",
              "store_and_fwd_flag    0\n",
              "trip_duration         0\n",
              "dtype: int64"
            ]
          },
          "metadata": {},
          "execution_count": 8
        }
      ]
    },
    {
      "cell_type": "code",
      "source": [
        "#Convert timestamp to datetime format to fetch the other details as listed below\n",
        "taxi['pickup_datetime'] = pd.to_datetime(taxi['pickup_datetime'])\n",
        "taxi['dropoff_datetime'] = pd.to_datetime(taxi['dropoff_datetime'])"
      ],
      "metadata": {
        "id": "csY3l1_APyOp"
      },
      "execution_count": null,
      "outputs": []
    },
    {
      "cell_type": "code",
      "source": [
        "taxi.dtypes.reset_index()"
      ],
      "metadata": {
        "id": "X9s7dzexSBI6",
        "colab": {
          "base_uri": "https://localhost:8080/",
          "height": 394
        },
        "outputId": "6c259142-7210-4371-81a4-2f441b2ce194"
      },
      "execution_count": null,
      "outputs": [
        {
          "output_type": "execute_result",
          "data": {
            "text/plain": [
              "                 index               0\n",
              "0                   id          object\n",
              "1            vendor_id           int64\n",
              "2      pickup_datetime  datetime64[ns]\n",
              "3     dropoff_datetime  datetime64[ns]\n",
              "4      passenger_count           int64\n",
              "5     pickup_longitude         float64\n",
              "6      pickup_latitude         float64\n",
              "7    dropoff_longitude         float64\n",
              "8     dropoff_latitude         float64\n",
              "9   store_and_fwd_flag          object\n",
              "10       trip_duration           int64"
            ],
            "text/html": [
              "\n",
              "  <div id=\"df-f930b466-5f63-476c-8b69-e5c5e9fa405a\">\n",
              "    <div class=\"colab-df-container\">\n",
              "      <div>\n",
              "<style scoped>\n",
              "    .dataframe tbody tr th:only-of-type {\n",
              "        vertical-align: middle;\n",
              "    }\n",
              "\n",
              "    .dataframe tbody tr th {\n",
              "        vertical-align: top;\n",
              "    }\n",
              "\n",
              "    .dataframe thead th {\n",
              "        text-align: right;\n",
              "    }\n",
              "</style>\n",
              "<table border=\"1\" class=\"dataframe\">\n",
              "  <thead>\n",
              "    <tr style=\"text-align: right;\">\n",
              "      <th></th>\n",
              "      <th>index</th>\n",
              "      <th>0</th>\n",
              "    </tr>\n",
              "  </thead>\n",
              "  <tbody>\n",
              "    <tr>\n",
              "      <th>0</th>\n",
              "      <td>id</td>\n",
              "      <td>object</td>\n",
              "    </tr>\n",
              "    <tr>\n",
              "      <th>1</th>\n",
              "      <td>vendor_id</td>\n",
              "      <td>int64</td>\n",
              "    </tr>\n",
              "    <tr>\n",
              "      <th>2</th>\n",
              "      <td>pickup_datetime</td>\n",
              "      <td>datetime64[ns]</td>\n",
              "    </tr>\n",
              "    <tr>\n",
              "      <th>3</th>\n",
              "      <td>dropoff_datetime</td>\n",
              "      <td>datetime64[ns]</td>\n",
              "    </tr>\n",
              "    <tr>\n",
              "      <th>4</th>\n",
              "      <td>passenger_count</td>\n",
              "      <td>int64</td>\n",
              "    </tr>\n",
              "    <tr>\n",
              "      <th>5</th>\n",
              "      <td>pickup_longitude</td>\n",
              "      <td>float64</td>\n",
              "    </tr>\n",
              "    <tr>\n",
              "      <th>6</th>\n",
              "      <td>pickup_latitude</td>\n",
              "      <td>float64</td>\n",
              "    </tr>\n",
              "    <tr>\n",
              "      <th>7</th>\n",
              "      <td>dropoff_longitude</td>\n",
              "      <td>float64</td>\n",
              "    </tr>\n",
              "    <tr>\n",
              "      <th>8</th>\n",
              "      <td>dropoff_latitude</td>\n",
              "      <td>float64</td>\n",
              "    </tr>\n",
              "    <tr>\n",
              "      <th>9</th>\n",
              "      <td>store_and_fwd_flag</td>\n",
              "      <td>object</td>\n",
              "    </tr>\n",
              "    <tr>\n",
              "      <th>10</th>\n",
              "      <td>trip_duration</td>\n",
              "      <td>int64</td>\n",
              "    </tr>\n",
              "  </tbody>\n",
              "</table>\n",
              "</div>\n",
              "      <button class=\"colab-df-convert\" onclick=\"convertToInteractive('df-f930b466-5f63-476c-8b69-e5c5e9fa405a')\"\n",
              "              title=\"Convert this dataframe to an interactive table.\"\n",
              "              style=\"display:none;\">\n",
              "        \n",
              "  <svg xmlns=\"http://www.w3.org/2000/svg\" height=\"24px\"viewBox=\"0 0 24 24\"\n",
              "       width=\"24px\">\n",
              "    <path d=\"M0 0h24v24H0V0z\" fill=\"none\"/>\n",
              "    <path d=\"M18.56 5.44l.94 2.06.94-2.06 2.06-.94-2.06-.94-.94-2.06-.94 2.06-2.06.94zm-11 1L8.5 8.5l.94-2.06 2.06-.94-2.06-.94L8.5 2.5l-.94 2.06-2.06.94zm10 10l.94 2.06.94-2.06 2.06-.94-2.06-.94-.94-2.06-.94 2.06-2.06.94z\"/><path d=\"M17.41 7.96l-1.37-1.37c-.4-.4-.92-.59-1.43-.59-.52 0-1.04.2-1.43.59L10.3 9.45l-7.72 7.72c-.78.78-.78 2.05 0 2.83L4 21.41c.39.39.9.59 1.41.59.51 0 1.02-.2 1.41-.59l7.78-7.78 2.81-2.81c.8-.78.8-2.07 0-2.86zM5.41 20L4 18.59l7.72-7.72 1.47 1.35L5.41 20z\"/>\n",
              "  </svg>\n",
              "      </button>\n",
              "      \n",
              "  <style>\n",
              "    .colab-df-container {\n",
              "      display:flex;\n",
              "      flex-wrap:wrap;\n",
              "      gap: 12px;\n",
              "    }\n",
              "\n",
              "    .colab-df-convert {\n",
              "      background-color: #E8F0FE;\n",
              "      border: none;\n",
              "      border-radius: 50%;\n",
              "      cursor: pointer;\n",
              "      display: none;\n",
              "      fill: #1967D2;\n",
              "      height: 32px;\n",
              "      padding: 0 0 0 0;\n",
              "      width: 32px;\n",
              "    }\n",
              "\n",
              "    .colab-df-convert:hover {\n",
              "      background-color: #E2EBFA;\n",
              "      box-shadow: 0px 1px 2px rgba(60, 64, 67, 0.3), 0px 1px 3px 1px rgba(60, 64, 67, 0.15);\n",
              "      fill: #174EA6;\n",
              "    }\n",
              "\n",
              "    [theme=dark] .colab-df-convert {\n",
              "      background-color: #3B4455;\n",
              "      fill: #D2E3FC;\n",
              "    }\n",
              "\n",
              "    [theme=dark] .colab-df-convert:hover {\n",
              "      background-color: #434B5C;\n",
              "      box-shadow: 0px 1px 3px 1px rgba(0, 0, 0, 0.15);\n",
              "      filter: drop-shadow(0px 1px 2px rgba(0, 0, 0, 0.3));\n",
              "      fill: #FFFFFF;\n",
              "    }\n",
              "  </style>\n",
              "\n",
              "      <script>\n",
              "        const buttonEl =\n",
              "          document.querySelector('#df-f930b466-5f63-476c-8b69-e5c5e9fa405a button.colab-df-convert');\n",
              "        buttonEl.style.display =\n",
              "          google.colab.kernel.accessAllowed ? 'block' : 'none';\n",
              "\n",
              "        async function convertToInteractive(key) {\n",
              "          const element = document.querySelector('#df-f930b466-5f63-476c-8b69-e5c5e9fa405a');\n",
              "          const dataTable =\n",
              "            await google.colab.kernel.invokeFunction('convertToInteractive',\n",
              "                                                     [key], {});\n",
              "          if (!dataTable) return;\n",
              "\n",
              "          const docLinkHtml = 'Like what you see? Visit the ' +\n",
              "            '<a target=\"_blank\" href=https://colab.research.google.com/notebooks/data_table.ipynb>data table notebook</a>'\n",
              "            + ' to learn more about interactive tables.';\n",
              "          element.innerHTML = '';\n",
              "          dataTable['output_type'] = 'display_data';\n",
              "          await google.colab.output.renderOutput(dataTable, element);\n",
              "          const docLink = document.createElement('div');\n",
              "          docLink.innerHTML = docLinkHtml;\n",
              "          element.appendChild(docLink);\n",
              "        }\n",
              "      </script>\n",
              "    </div>\n",
              "  </div>\n",
              "  "
            ]
          },
          "metadata": {},
          "execution_count": 10
        }
      ]
    },
    {
      "cell_type": "code",
      "source": [
        "#Dummify all the categorical features like \"store_and_fwd_flag, vendor_id, passenger_count\" except the label i.e. \"trip_duration\"\n",
        "\n",
        "dummy = pd.get_dummies(taxi.store_and_fwd_flag, prefix='flag')\n",
        "dummy.drop(dummy.columns[0], axis=1, inplace=True) #avoid dummy trap\n",
        "data = pd.concat([taxi,dummy], axis = 1)\n",
        "\n",
        "dummy = pd.get_dummies(taxi.vendor_id, prefix='vendor_id')\n",
        "dummy.drop(dummy.columns[0], axis=1, inplace=True) #avoid dummy trap\n",
        "data = pd.concat([taxi,dummy], axis = 1)\n",
        "\n",
        "\n",
        "dummy = pd.get_dummies(taxi.passenger_count, prefix='passenger_count')\n",
        "dummy.drop(dummy.columns[0], axis=1, inplace=True) #avoid dummy trap\n",
        "data = pd.concat([taxi,dummy], axis = 1)"
      ],
      "metadata": {
        "id": "YtNiZ4-ASMsz"
      },
      "execution_count": null,
      "outputs": []
    },
    {
      "cell_type": "code",
      "source": [
        "data.head()"
      ],
      "metadata": {
        "id": "JPDkC7zdTrx2",
        "colab": {
          "base_uri": "https://localhost:8080/",
          "height": 357
        },
        "outputId": "72c16395-a4ea-43ee-aae0-c991580ede0e"
      },
      "execution_count": null,
      "outputs": [
        {
          "output_type": "execute_result",
          "data": {
            "text/plain": [
              "          id  vendor_id     pickup_datetime    dropoff_datetime  \\\n",
              "0  id2875421          2 2016-03-14 17:24:55 2016-03-14 17:32:30   \n",
              "1  id2377394          1 2016-06-12 00:43:35 2016-06-12 00:54:38   \n",
              "2  id3858529          2 2016-01-19 11:35:24 2016-01-19 12:10:48   \n",
              "3  id3504673          2 2016-04-06 19:32:31 2016-04-06 19:39:40   \n",
              "4  id2181028          2 2016-03-26 13:30:55 2016-03-26 13:38:10   \n",
              "\n",
              "   passenger_count  pickup_longitude  pickup_latitude  dropoff_longitude  \\\n",
              "0                1        -73.982155        40.767937         -73.964630   \n",
              "1                1        -73.980415        40.738564         -73.999481   \n",
              "2                1        -73.979027        40.763939         -74.005333   \n",
              "3                1        -74.010040        40.719971         -74.012268   \n",
              "4                1        -73.973053        40.793209         -73.972923   \n",
              "\n",
              "   dropoff_latitude store_and_fwd_flag  trip_duration  passenger_count_1  \\\n",
              "0         40.765602                  N            455                  1   \n",
              "1         40.731152                  N            663                  1   \n",
              "2         40.710087                  N           2124                  1   \n",
              "3         40.706718                  N            429                  1   \n",
              "4         40.782520                  N            435                  1   \n",
              "\n",
              "   passenger_count_2  passenger_count_3  passenger_count_4  passenger_count_5  \\\n",
              "0                  0                  0                  0                  0   \n",
              "1                  0                  0                  0                  0   \n",
              "2                  0                  0                  0                  0   \n",
              "3                  0                  0                  0                  0   \n",
              "4                  0                  0                  0                  0   \n",
              "\n",
              "   passenger_count_6  passenger_count_7  passenger_count_8  passenger_count_9  \n",
              "0                  0                  0                  0                  0  \n",
              "1                  0                  0                  0                  0  \n",
              "2                  0                  0                  0                  0  \n",
              "3                  0                  0                  0                  0  \n",
              "4                  0                  0                  0                  0  "
            ],
            "text/html": [
              "\n",
              "  <div id=\"df-f2e18769-5303-4ab8-915a-38599b22639e\">\n",
              "    <div class=\"colab-df-container\">\n",
              "      <div>\n",
              "<style scoped>\n",
              "    .dataframe tbody tr th:only-of-type {\n",
              "        vertical-align: middle;\n",
              "    }\n",
              "\n",
              "    .dataframe tbody tr th {\n",
              "        vertical-align: top;\n",
              "    }\n",
              "\n",
              "    .dataframe thead th {\n",
              "        text-align: right;\n",
              "    }\n",
              "</style>\n",
              "<table border=\"1\" class=\"dataframe\">\n",
              "  <thead>\n",
              "    <tr style=\"text-align: right;\">\n",
              "      <th></th>\n",
              "      <th>id</th>\n",
              "      <th>vendor_id</th>\n",
              "      <th>pickup_datetime</th>\n",
              "      <th>dropoff_datetime</th>\n",
              "      <th>passenger_count</th>\n",
              "      <th>pickup_longitude</th>\n",
              "      <th>pickup_latitude</th>\n",
              "      <th>dropoff_longitude</th>\n",
              "      <th>dropoff_latitude</th>\n",
              "      <th>store_and_fwd_flag</th>\n",
              "      <th>trip_duration</th>\n",
              "      <th>passenger_count_1</th>\n",
              "      <th>passenger_count_2</th>\n",
              "      <th>passenger_count_3</th>\n",
              "      <th>passenger_count_4</th>\n",
              "      <th>passenger_count_5</th>\n",
              "      <th>passenger_count_6</th>\n",
              "      <th>passenger_count_7</th>\n",
              "      <th>passenger_count_8</th>\n",
              "      <th>passenger_count_9</th>\n",
              "    </tr>\n",
              "  </thead>\n",
              "  <tbody>\n",
              "    <tr>\n",
              "      <th>0</th>\n",
              "      <td>id2875421</td>\n",
              "      <td>2</td>\n",
              "      <td>2016-03-14 17:24:55</td>\n",
              "      <td>2016-03-14 17:32:30</td>\n",
              "      <td>1</td>\n",
              "      <td>-73.982155</td>\n",
              "      <td>40.767937</td>\n",
              "      <td>-73.964630</td>\n",
              "      <td>40.765602</td>\n",
              "      <td>N</td>\n",
              "      <td>455</td>\n",
              "      <td>1</td>\n",
              "      <td>0</td>\n",
              "      <td>0</td>\n",
              "      <td>0</td>\n",
              "      <td>0</td>\n",
              "      <td>0</td>\n",
              "      <td>0</td>\n",
              "      <td>0</td>\n",
              "      <td>0</td>\n",
              "    </tr>\n",
              "    <tr>\n",
              "      <th>1</th>\n",
              "      <td>id2377394</td>\n",
              "      <td>1</td>\n",
              "      <td>2016-06-12 00:43:35</td>\n",
              "      <td>2016-06-12 00:54:38</td>\n",
              "      <td>1</td>\n",
              "      <td>-73.980415</td>\n",
              "      <td>40.738564</td>\n",
              "      <td>-73.999481</td>\n",
              "      <td>40.731152</td>\n",
              "      <td>N</td>\n",
              "      <td>663</td>\n",
              "      <td>1</td>\n",
              "      <td>0</td>\n",
              "      <td>0</td>\n",
              "      <td>0</td>\n",
              "      <td>0</td>\n",
              "      <td>0</td>\n",
              "      <td>0</td>\n",
              "      <td>0</td>\n",
              "      <td>0</td>\n",
              "    </tr>\n",
              "    <tr>\n",
              "      <th>2</th>\n",
              "      <td>id3858529</td>\n",
              "      <td>2</td>\n",
              "      <td>2016-01-19 11:35:24</td>\n",
              "      <td>2016-01-19 12:10:48</td>\n",
              "      <td>1</td>\n",
              "      <td>-73.979027</td>\n",
              "      <td>40.763939</td>\n",
              "      <td>-74.005333</td>\n",
              "      <td>40.710087</td>\n",
              "      <td>N</td>\n",
              "      <td>2124</td>\n",
              "      <td>1</td>\n",
              "      <td>0</td>\n",
              "      <td>0</td>\n",
              "      <td>0</td>\n",
              "      <td>0</td>\n",
              "      <td>0</td>\n",
              "      <td>0</td>\n",
              "      <td>0</td>\n",
              "      <td>0</td>\n",
              "    </tr>\n",
              "    <tr>\n",
              "      <th>3</th>\n",
              "      <td>id3504673</td>\n",
              "      <td>2</td>\n",
              "      <td>2016-04-06 19:32:31</td>\n",
              "      <td>2016-04-06 19:39:40</td>\n",
              "      <td>1</td>\n",
              "      <td>-74.010040</td>\n",
              "      <td>40.719971</td>\n",
              "      <td>-74.012268</td>\n",
              "      <td>40.706718</td>\n",
              "      <td>N</td>\n",
              "      <td>429</td>\n",
              "      <td>1</td>\n",
              "      <td>0</td>\n",
              "      <td>0</td>\n",
              "      <td>0</td>\n",
              "      <td>0</td>\n",
              "      <td>0</td>\n",
              "      <td>0</td>\n",
              "      <td>0</td>\n",
              "      <td>0</td>\n",
              "    </tr>\n",
              "    <tr>\n",
              "      <th>4</th>\n",
              "      <td>id2181028</td>\n",
              "      <td>2</td>\n",
              "      <td>2016-03-26 13:30:55</td>\n",
              "      <td>2016-03-26 13:38:10</td>\n",
              "      <td>1</td>\n",
              "      <td>-73.973053</td>\n",
              "      <td>40.793209</td>\n",
              "      <td>-73.972923</td>\n",
              "      <td>40.782520</td>\n",
              "      <td>N</td>\n",
              "      <td>435</td>\n",
              "      <td>1</td>\n",
              "      <td>0</td>\n",
              "      <td>0</td>\n",
              "      <td>0</td>\n",
              "      <td>0</td>\n",
              "      <td>0</td>\n",
              "      <td>0</td>\n",
              "      <td>0</td>\n",
              "      <td>0</td>\n",
              "    </tr>\n",
              "  </tbody>\n",
              "</table>\n",
              "</div>\n",
              "      <button class=\"colab-df-convert\" onclick=\"convertToInteractive('df-f2e18769-5303-4ab8-915a-38599b22639e')\"\n",
              "              title=\"Convert this dataframe to an interactive table.\"\n",
              "              style=\"display:none;\">\n",
              "        \n",
              "  <svg xmlns=\"http://www.w3.org/2000/svg\" height=\"24px\"viewBox=\"0 0 24 24\"\n",
              "       width=\"24px\">\n",
              "    <path d=\"M0 0h24v24H0V0z\" fill=\"none\"/>\n",
              "    <path d=\"M18.56 5.44l.94 2.06.94-2.06 2.06-.94-2.06-.94-.94-2.06-.94 2.06-2.06.94zm-11 1L8.5 8.5l.94-2.06 2.06-.94-2.06-.94L8.5 2.5l-.94 2.06-2.06.94zm10 10l.94 2.06.94-2.06 2.06-.94-2.06-.94-.94-2.06-.94 2.06-2.06.94z\"/><path d=\"M17.41 7.96l-1.37-1.37c-.4-.4-.92-.59-1.43-.59-.52 0-1.04.2-1.43.59L10.3 9.45l-7.72 7.72c-.78.78-.78 2.05 0 2.83L4 21.41c.39.39.9.59 1.41.59.51 0 1.02-.2 1.41-.59l7.78-7.78 2.81-2.81c.8-.78.8-2.07 0-2.86zM5.41 20L4 18.59l7.72-7.72 1.47 1.35L5.41 20z\"/>\n",
              "  </svg>\n",
              "      </button>\n",
              "      \n",
              "  <style>\n",
              "    .colab-df-container {\n",
              "      display:flex;\n",
              "      flex-wrap:wrap;\n",
              "      gap: 12px;\n",
              "    }\n",
              "\n",
              "    .colab-df-convert {\n",
              "      background-color: #E8F0FE;\n",
              "      border: none;\n",
              "      border-radius: 50%;\n",
              "      cursor: pointer;\n",
              "      display: none;\n",
              "      fill: #1967D2;\n",
              "      height: 32px;\n",
              "      padding: 0 0 0 0;\n",
              "      width: 32px;\n",
              "    }\n",
              "\n",
              "    .colab-df-convert:hover {\n",
              "      background-color: #E2EBFA;\n",
              "      box-shadow: 0px 1px 2px rgba(60, 64, 67, 0.3), 0px 1px 3px 1px rgba(60, 64, 67, 0.15);\n",
              "      fill: #174EA6;\n",
              "    }\n",
              "\n",
              "    [theme=dark] .colab-df-convert {\n",
              "      background-color: #3B4455;\n",
              "      fill: #D2E3FC;\n",
              "    }\n",
              "\n",
              "    [theme=dark] .colab-df-convert:hover {\n",
              "      background-color: #434B5C;\n",
              "      box-shadow: 0px 1px 3px 1px rgba(0, 0, 0, 0.15);\n",
              "      filter: drop-shadow(0px 1px 2px rgba(0, 0, 0, 0.3));\n",
              "      fill: #FFFFFF;\n",
              "    }\n",
              "  </style>\n",
              "\n",
              "      <script>\n",
              "        const buttonEl =\n",
              "          document.querySelector('#df-f2e18769-5303-4ab8-915a-38599b22639e button.colab-df-convert');\n",
              "        buttonEl.style.display =\n",
              "          google.colab.kernel.accessAllowed ? 'block' : 'none';\n",
              "\n",
              "        async function convertToInteractive(key) {\n",
              "          const element = document.querySelector('#df-f2e18769-5303-4ab8-915a-38599b22639e');\n",
              "          const dataTable =\n",
              "            await google.colab.kernel.invokeFunction('convertToInteractive',\n",
              "                                                     [key], {});\n",
              "          if (!dataTable) return;\n",
              "\n",
              "          const docLinkHtml = 'Like what you see? Visit the ' +\n",
              "            '<a target=\"_blank\" href=https://colab.research.google.com/notebooks/data_table.ipynb>data table notebook</a>'\n",
              "            + ' to learn more about interactive tables.';\n",
              "          element.innerHTML = '';\n",
              "          dataTable['output_type'] = 'display_data';\n",
              "          await google.colab.output.renderOutput(dataTable, element);\n",
              "          const docLink = document.createElement('div');\n",
              "          docLink.innerHTML = docLinkHtml;\n",
              "          element.appendChild(docLink);\n",
              "        }\n",
              "      </script>\n",
              "    </div>\n",
              "  </div>\n",
              "  "
            ]
          },
          "metadata": {},
          "execution_count": 12
        }
      ]
    },
    {
      "cell_type": "markdown",
      "source": [
        "#taxi Preprocessing"
      ],
      "metadata": {
        "id": "la0DPwXKq99O"
      }
    },
    {
      "cell_type": "code",
      "source": [
        "m = np.mean(taxi['trip_duration'])\n",
        "std = np.std(taxi['trip_duration'])\n",
        "taxi = taxi[taxi['trip_duration'] <= m + 2*std]\n",
        "taxi = taxi[taxi['trip_duration'] >= m- 2*std]\n",
        "taxi.trip_duration"
      ],
      "metadata": {
        "id": "Aj6edwAkrCfG",
        "colab": {
          "base_uri": "https://localhost:8080/"
        },
        "outputId": "5fb95233-4273-4562-afc0-100a4e2a172a"
      },
      "execution_count": null,
      "outputs": [
        {
          "output_type": "execute_result",
          "data": {
            "text/plain": [
              "0           455\n",
              "1           663\n",
              "2          2124\n",
              "3           429\n",
              "4           435\n",
              "           ... \n",
              "1458639     778\n",
              "1458640     655\n",
              "1458641     764\n",
              "1458642     373\n",
              "1458643     198\n",
              "Name: trip_duration, Length: 1456540, dtype: int64"
            ]
          },
          "metadata": {},
          "execution_count": 13
        }
      ]
    },
    {
      "cell_type": "code",
      "source": [
        "print(min(taxi['dropoff_latitude']))\n",
        "print(max(taxi['dropoff_latitude']))\n",
        "print(min(taxi['dropoff_longitude']))\n",
        "print(max(taxi['dropoff_longitude']))"
      ],
      "metadata": {
        "id": "HinZyLWSrXo1",
        "colab": {
          "base_uri": "https://localhost:8080/"
        },
        "outputId": "15e014a3-5aa8-4fe2-952f-6a09149b987c"
      },
      "execution_count": null,
      "outputs": [
        {
          "output_type": "stream",
          "name": "stdout",
          "text": [
            "32.1811408996582\n",
            "43.92102813720703\n",
            "-121.9333038330078\n",
            "-61.33552932739258\n"
          ]
        }
      ]
    },
    {
      "cell_type": "markdown",
      "source": [
        "#Distance and Speed"
      ],
      "metadata": {
        "id": "JEkmGIa0SrfR"
      }
    },
    {
      "cell_type": "code",
      "source": [
        "from geopy.distance import great_circle\n",
        "def cal_distance(pickup_lat,pickup_long,dropoff_lat,dropoff_long):\n",
        "  start_coordinates=(pickup_lat,pickup_long)\n",
        "  stop_coordinates=(dropoff_lat,dropoff_long)\n",
        "  return great_circle(start_coordinates,stop_coordinates).km\n",
        "\n",
        "#    Applying the above details and creating the feature ‘distance’\n",
        "taxi['distance'] = taxi.apply(lambda x: cal_distance \n",
        "                              (x['pickup_latitude'],x['pickup_longitude'],\n",
        "                               x['dropoff_latitude'],x['dropoff_longitude'] ),\n",
        "                               axis=1)\n",
        "\n",
        "#Calculation of SPEED in KM per Hour\n",
        "taxi['speed'] = (taxi.distance/(taxi.trip_duration/3600))"
      ],
      "metadata": {
        "id": "dDmqy2opRWzb"
      },
      "execution_count": null,
      "outputs": []
    },
    {
      "cell_type": "code",
      "source": [
        "taxi.head()"
      ],
      "metadata": {
        "colab": {
          "base_uri": "https://localhost:8080/",
          "height": 357
        },
        "id": "qLJd0wQUSwiM",
        "outputId": "411ddc20-800c-401f-fb16-6c7a71439670"
      },
      "execution_count": null,
      "outputs": [
        {
          "output_type": "execute_result",
          "data": {
            "text/plain": [
              "          id  vendor_id     pickup_datetime    dropoff_datetime  \\\n",
              "0  id2875421          2 2016-03-14 17:24:55 2016-03-14 17:32:30   \n",
              "1  id2377394          1 2016-06-12 00:43:35 2016-06-12 00:54:38   \n",
              "2  id3858529          2 2016-01-19 11:35:24 2016-01-19 12:10:48   \n",
              "3  id3504673          2 2016-04-06 19:32:31 2016-04-06 19:39:40   \n",
              "4  id2181028          2 2016-03-26 13:30:55 2016-03-26 13:38:10   \n",
              "\n",
              "   passenger_count  pickup_longitude  pickup_latitude  dropoff_longitude  \\\n",
              "0                1        -73.982155        40.767937         -73.964630   \n",
              "1                1        -73.980415        40.738564         -73.999481   \n",
              "2                1        -73.979027        40.763939         -74.005333   \n",
              "3                1        -74.010040        40.719971         -74.012268   \n",
              "4                1        -73.973053        40.793209         -73.972923   \n",
              "\n",
              "   dropoff_latitude store_and_fwd_flag  trip_duration  distance      speed  \n",
              "0         40.765602                  N            455  1.498523  11.856445  \n",
              "1         40.731152                  N            663  1.805510   9.803673  \n",
              "2         40.710087                  N           2124  6.385108  10.822216  \n",
              "3         40.706718                  N            429  1.485501  12.465739  \n",
              "4         40.782520                  N            435  1.188590   9.836608  "
            ],
            "text/html": [
              "\n",
              "  <div id=\"df-e5c9b299-bfe2-4932-b2dc-e9133430b126\">\n",
              "    <div class=\"colab-df-container\">\n",
              "      <div>\n",
              "<style scoped>\n",
              "    .dataframe tbody tr th:only-of-type {\n",
              "        vertical-align: middle;\n",
              "    }\n",
              "\n",
              "    .dataframe tbody tr th {\n",
              "        vertical-align: top;\n",
              "    }\n",
              "\n",
              "    .dataframe thead th {\n",
              "        text-align: right;\n",
              "    }\n",
              "</style>\n",
              "<table border=\"1\" class=\"dataframe\">\n",
              "  <thead>\n",
              "    <tr style=\"text-align: right;\">\n",
              "      <th></th>\n",
              "      <th>id</th>\n",
              "      <th>vendor_id</th>\n",
              "      <th>pickup_datetime</th>\n",
              "      <th>dropoff_datetime</th>\n",
              "      <th>passenger_count</th>\n",
              "      <th>pickup_longitude</th>\n",
              "      <th>pickup_latitude</th>\n",
              "      <th>dropoff_longitude</th>\n",
              "      <th>dropoff_latitude</th>\n",
              "      <th>store_and_fwd_flag</th>\n",
              "      <th>trip_duration</th>\n",
              "      <th>distance</th>\n",
              "      <th>speed</th>\n",
              "    </tr>\n",
              "  </thead>\n",
              "  <tbody>\n",
              "    <tr>\n",
              "      <th>0</th>\n",
              "      <td>id2875421</td>\n",
              "      <td>2</td>\n",
              "      <td>2016-03-14 17:24:55</td>\n",
              "      <td>2016-03-14 17:32:30</td>\n",
              "      <td>1</td>\n",
              "      <td>-73.982155</td>\n",
              "      <td>40.767937</td>\n",
              "      <td>-73.964630</td>\n",
              "      <td>40.765602</td>\n",
              "      <td>N</td>\n",
              "      <td>455</td>\n",
              "      <td>1.498523</td>\n",
              "      <td>11.856445</td>\n",
              "    </tr>\n",
              "    <tr>\n",
              "      <th>1</th>\n",
              "      <td>id2377394</td>\n",
              "      <td>1</td>\n",
              "      <td>2016-06-12 00:43:35</td>\n",
              "      <td>2016-06-12 00:54:38</td>\n",
              "      <td>1</td>\n",
              "      <td>-73.980415</td>\n",
              "      <td>40.738564</td>\n",
              "      <td>-73.999481</td>\n",
              "      <td>40.731152</td>\n",
              "      <td>N</td>\n",
              "      <td>663</td>\n",
              "      <td>1.805510</td>\n",
              "      <td>9.803673</td>\n",
              "    </tr>\n",
              "    <tr>\n",
              "      <th>2</th>\n",
              "      <td>id3858529</td>\n",
              "      <td>2</td>\n",
              "      <td>2016-01-19 11:35:24</td>\n",
              "      <td>2016-01-19 12:10:48</td>\n",
              "      <td>1</td>\n",
              "      <td>-73.979027</td>\n",
              "      <td>40.763939</td>\n",
              "      <td>-74.005333</td>\n",
              "      <td>40.710087</td>\n",
              "      <td>N</td>\n",
              "      <td>2124</td>\n",
              "      <td>6.385108</td>\n",
              "      <td>10.822216</td>\n",
              "    </tr>\n",
              "    <tr>\n",
              "      <th>3</th>\n",
              "      <td>id3504673</td>\n",
              "      <td>2</td>\n",
              "      <td>2016-04-06 19:32:31</td>\n",
              "      <td>2016-04-06 19:39:40</td>\n",
              "      <td>1</td>\n",
              "      <td>-74.010040</td>\n",
              "      <td>40.719971</td>\n",
              "      <td>-74.012268</td>\n",
              "      <td>40.706718</td>\n",
              "      <td>N</td>\n",
              "      <td>429</td>\n",
              "      <td>1.485501</td>\n",
              "      <td>12.465739</td>\n",
              "    </tr>\n",
              "    <tr>\n",
              "      <th>4</th>\n",
              "      <td>id2181028</td>\n",
              "      <td>2</td>\n",
              "      <td>2016-03-26 13:30:55</td>\n",
              "      <td>2016-03-26 13:38:10</td>\n",
              "      <td>1</td>\n",
              "      <td>-73.973053</td>\n",
              "      <td>40.793209</td>\n",
              "      <td>-73.972923</td>\n",
              "      <td>40.782520</td>\n",
              "      <td>N</td>\n",
              "      <td>435</td>\n",
              "      <td>1.188590</td>\n",
              "      <td>9.836608</td>\n",
              "    </tr>\n",
              "  </tbody>\n",
              "</table>\n",
              "</div>\n",
              "      <button class=\"colab-df-convert\" onclick=\"convertToInteractive('df-e5c9b299-bfe2-4932-b2dc-e9133430b126')\"\n",
              "              title=\"Convert this dataframe to an interactive table.\"\n",
              "              style=\"display:none;\">\n",
              "        \n",
              "  <svg xmlns=\"http://www.w3.org/2000/svg\" height=\"24px\"viewBox=\"0 0 24 24\"\n",
              "       width=\"24px\">\n",
              "    <path d=\"M0 0h24v24H0V0z\" fill=\"none\"/>\n",
              "    <path d=\"M18.56 5.44l.94 2.06.94-2.06 2.06-.94-2.06-.94-.94-2.06-.94 2.06-2.06.94zm-11 1L8.5 8.5l.94-2.06 2.06-.94-2.06-.94L8.5 2.5l-.94 2.06-2.06.94zm10 10l.94 2.06.94-2.06 2.06-.94-2.06-.94-.94-2.06-.94 2.06-2.06.94z\"/><path d=\"M17.41 7.96l-1.37-1.37c-.4-.4-.92-.59-1.43-.59-.52 0-1.04.2-1.43.59L10.3 9.45l-7.72 7.72c-.78.78-.78 2.05 0 2.83L4 21.41c.39.39.9.59 1.41.59.51 0 1.02-.2 1.41-.59l7.78-7.78 2.81-2.81c.8-.78.8-2.07 0-2.86zM5.41 20L4 18.59l7.72-7.72 1.47 1.35L5.41 20z\"/>\n",
              "  </svg>\n",
              "      </button>\n",
              "      \n",
              "  <style>\n",
              "    .colab-df-container {\n",
              "      display:flex;\n",
              "      flex-wrap:wrap;\n",
              "      gap: 12px;\n",
              "    }\n",
              "\n",
              "    .colab-df-convert {\n",
              "      background-color: #E8F0FE;\n",
              "      border: none;\n",
              "      border-radius: 50%;\n",
              "      cursor: pointer;\n",
              "      display: none;\n",
              "      fill: #1967D2;\n",
              "      height: 32px;\n",
              "      padding: 0 0 0 0;\n",
              "      width: 32px;\n",
              "    }\n",
              "\n",
              "    .colab-df-convert:hover {\n",
              "      background-color: #E2EBFA;\n",
              "      box-shadow: 0px 1px 2px rgba(60, 64, 67, 0.3), 0px 1px 3px 1px rgba(60, 64, 67, 0.15);\n",
              "      fill: #174EA6;\n",
              "    }\n",
              "\n",
              "    [theme=dark] .colab-df-convert {\n",
              "      background-color: #3B4455;\n",
              "      fill: #D2E3FC;\n",
              "    }\n",
              "\n",
              "    [theme=dark] .colab-df-convert:hover {\n",
              "      background-color: #434B5C;\n",
              "      box-shadow: 0px 1px 3px 1px rgba(0, 0, 0, 0.15);\n",
              "      filter: drop-shadow(0px 1px 2px rgba(0, 0, 0, 0.3));\n",
              "      fill: #FFFFFF;\n",
              "    }\n",
              "  </style>\n",
              "\n",
              "      <script>\n",
              "        const buttonEl =\n",
              "          document.querySelector('#df-e5c9b299-bfe2-4932-b2dc-e9133430b126 button.colab-df-convert');\n",
              "        buttonEl.style.display =\n",
              "          google.colab.kernel.accessAllowed ? 'block' : 'none';\n",
              "\n",
              "        async function convertToInteractive(key) {\n",
              "          const element = document.querySelector('#df-e5c9b299-bfe2-4932-b2dc-e9133430b126');\n",
              "          const dataTable =\n",
              "            await google.colab.kernel.invokeFunction('convertToInteractive',\n",
              "                                                     [key], {});\n",
              "          if (!dataTable) return;\n",
              "\n",
              "          const docLinkHtml = 'Like what you see? Visit the ' +\n",
              "            '<a target=\"_blank\" href=https://colab.research.google.com/notebooks/data_table.ipynb>data table notebook</a>'\n",
              "            + ' to learn more about interactive tables.';\n",
              "          element.innerHTML = '';\n",
              "          dataTable['output_type'] = 'display_data';\n",
              "          await google.colab.output.renderOutput(dataTable, element);\n",
              "          const docLink = document.createElement('div');\n",
              "          docLink.innerHTML = docLinkHtml;\n",
              "          element.appendChild(docLink);\n",
              "        }\n",
              "      </script>\n",
              "    </div>\n",
              "  </div>\n",
              "  "
            ]
          },
          "metadata": {},
          "execution_count": 16
        }
      ]
    },
    {
      "cell_type": "markdown",
      "source": [
        "#EDA"
      ],
      "metadata": {
        "id": "GmSTTa4KscFP"
      }
    },
    {
      "cell_type": "markdown",
      "source": [
        "**Passengers**"
      ],
      "metadata": {
        "id": "Mm__atrLULSF"
      }
    },
    {
      "cell_type": "code",
      "source": [
        "pd.options.display.float_format = '{:.2f}'.format #To suppres scientific notation.\n",
        "taxi.passenger_count.value_counts()"
      ],
      "metadata": {
        "id": "VnfgRYhyUJs3",
        "colab": {
          "base_uri": "https://localhost:8080/"
        },
        "outputId": "897bdc46-4cdd-48d9-8452-0a870a70606e"
      },
      "execution_count": null,
      "outputs": [
        {
          "output_type": "execute_result",
          "data": {
            "text/plain": [
              "1    1032274\n",
              "2     210008\n",
              "5      77869\n",
              "3      59777\n",
              "6      48200\n",
              "4      28348\n",
              "0         59\n",
              "7          3\n",
              "9          1\n",
              "8          1\n",
              "Name: passenger_count, dtype: int64"
            ]
          },
          "metadata": {},
          "execution_count": 17
        }
      ]
    },
    {
      "cell_type": "code",
      "source": [
        "plt.figure(figsize = (20,5))\n",
        "sns.countplot(taxi.passenger_count)\n",
        "plt.show()"
      ],
      "metadata": {
        "id": "r2gPMs_SUX3k",
        "colab": {
          "base_uri": "https://localhost:8080/",
          "height": 345
        },
        "outputId": "338cbc4c-e4c7-472c-da49-cdd4ac79cd0f"
      },
      "execution_count": null,
      "outputs": [
        {
          "output_type": "display_data",
          "data": {
            "text/plain": [
              "<Figure size 1440x360 with 1 Axes>"
            ],
            "image/png": "[encoded data removed]"
          },
          "metadata": {
            "needs_background": "light"
          }
        }
      ]
    },
    {
      "cell_type": "markdown",
      "source": [
        "There are some trips with 0 passenger count.\n",
        "Few trips consisted of even 7, 8 or 9 passengers. \n",
        "Most of trip consist of passenger either 1 or 2.\n",
        "\n",
        "\n"
      ],
      "metadata": {
        "id": "a29idfeqUwTU"
      }
    },
    {
      "cell_type": "code",
      "source": [
        "data.passenger_count.describe()"
      ],
      "metadata": {
        "id": "1x7l3zMCVKZv",
        "colab": {
          "base_uri": "https://localhost:8080/"
        },
        "outputId": "cdc3f445-462a-4000-fbeb-ced82f4636fe"
      },
      "execution_count": null,
      "outputs": [
        {
          "output_type": "execute_result",
          "data": {
            "text/plain": [
              "count   1458644.00\n",
              "mean          1.66\n",
              "std           1.31\n",
              "min           0.00\n",
              "25%           1.00\n",
              "50%           1.00\n",
              "75%           2.00\n",
              "max           9.00\n",
              "Name: passenger_count, dtype: float64"
            ]
          },
          "metadata": {},
          "execution_count": 19
        }
      ]
    },
    {
      "cell_type": "markdown",
      "source": [
        "**Vendor**"
      ],
      "metadata": {
        "id": "-iYYmW7NVYnn"
      }
    },
    {
      "cell_type": "code",
      "source": [
        "sns.countplot(data.vendor_id)\n",
        "plt.show()"
      ],
      "metadata": {
        "id": "GQwEdkIXVblk",
        "colab": {
          "base_uri": "https://localhost:8080/",
          "height": 280
        },
        "outputId": "dcfa6350-9c14-491a-c5df-735cd39b674e"
      },
      "execution_count": null,
      "outputs": [
        {
          "output_type": "display_data",
          "data": {
            "text/plain": [
              "<Figure size 432x288 with 1 Axes>"
            ],
            "image/png": "[encoded data removed]"
          },
          "metadata": {
            "needs_background": "light"
          }
        }
      ]
    },
    {
      "cell_type": "markdown",
      "source": [
        "**Trip duration**"
      ],
      "metadata": {
        "id": "jGbobAYTWf6X"
      }
    },
    {
      "cell_type": "code",
      "source": [
        "taxi.trip_duration.describe()"
      ],
      "metadata": {
        "id": "bqIktVs7Wkkt",
        "colab": {
          "base_uri": "https://localhost:8080/"
        },
        "outputId": "5090de0a-d140-446c-a5f1-cab56fcf0b32"
      },
      "execution_count": null,
      "outputs": [
        {
          "output_type": "execute_result",
          "data": {
            "text/plain": [
              "count   1456540.00\n",
              "mean        836.86\n",
              "std         658.93\n",
              "min           1.00\n",
              "25%         397.00\n",
              "50%         662.00\n",
              "75%        1073.00\n",
              "max       11411.00\n",
              "Name: trip_duration, dtype: float64"
            ]
          },
          "metadata": {},
          "execution_count": 21
        }
      ]
    },
    {
      "cell_type": "code",
      "source": [
        "plt.figure(figsize = (20,5))\n",
        "sns.boxplot(taxi.trip_duration)\n",
        "plt.show()"
      ],
      "metadata": {
        "id": "DZ8trYaPWtVS",
        "colab": {
          "base_uri": "https://localhost:8080/",
          "height": 335
        },
        "outputId": "0c357b33-8d29-4088-95f6-3f7bddb518a1"
      },
      "execution_count": null,
      "outputs": [
        {
          "output_type": "display_data",
          "data": {
            "text/plain": [
              "<Figure size 1440x360 with 1 Axes>"
            ],
            "image/png": "[encoded data removed]"
          },
          "metadata": {
            "needs_background": "light"
          }
        }
      ]
    },
    {
      "cell_type": "markdown",
      "source": [
        "Some trip durations are over 100000 seconds which are clear outliers and should be removed.\n"
      ],
      "metadata": {
        "id": "7nDwzKi9XkNA"
      }
    },
    {
      "cell_type": "code",
      "source": [
        "taxi.trip_duration.groupby(pd.cut(taxi.trip_duration, np.arange(1,7200,600))).count().plot(kind='barh')\n",
        "plt.xlabel('Trip Counts')\n",
        "plt.ylabel('Trip Duration (seconds)')\n",
        "plt.show()"
      ],
      "metadata": {
        "id": "grB7FmGaXyE1",
        "colab": {
          "base_uri": "https://localhost:8080/",
          "height": 279
        },
        "outputId": "3c0dfefe-feea-420d-93a1-07bc0c03c575"
      },
      "execution_count": null,
      "outputs": [
        {
          "output_type": "display_data",
          "data": {
            "text/plain": [
              "<Figure size 432x288 with 1 Axes>"
            ],
            "image/png": "[encoded data removed]"
          },
          "metadata": {
            "needs_background": "light"
          }
        }
      ]
    },
    {
      "cell_type": "markdown",
      "source": [
        "We can observe that most of the trips took 0 - 30 mins to complete i.e. approx 1800 secs"
      ],
      "metadata": {
        "id": "BLtHBa3eYxjh"
      }
    },
    {
      "cell_type": "markdown",
      "source": [
        "**Store_and_fwd_flag**\n",
        "\n",
        "Y=store and forward; N=not a store and forward trip\n",
        "\n",
        "\n"
      ],
      "metadata": {
        "id": "hTHu4beiel05"
      }
    },
    {
      "cell_type": "code",
      "source": [
        "taxi.vendor_id[taxi.store_and_fwd_flag == 1].value_counts()"
      ],
      "metadata": {
        "id": "YmTMhJ86fPzK",
        "colab": {
          "base_uri": "https://localhost:8080/"
        },
        "outputId": "e6691dd9-76ff-439f-f0c9-c8b0cb5bcf9e"
      },
      "execution_count": null,
      "outputs": [
        {
          "output_type": "execute_result",
          "data": {
            "text/plain": [
              "Series([], Name: vendor_id, dtype: int64)"
            ]
          },
          "metadata": {},
          "execution_count": 24
        }
      ]
    },
    {
      "cell_type": "code",
      "source": [
        "plt.figure(figsize=(8,8))\n",
        "plt.pie(taxi['store_and_fwd_flag'].value_counts(), colors=['lightgreen', 'lightcoral'], shadow=True, explode=[0.5,0], autopct='%1.2f%%', startangle=200)\n",
        "plt.legend(labels=['Y','N'])\n",
        "plt.title(\"Store and Forward Flag\")"
      ],
      "metadata": {
        "id": "UjM9n5TDZeP0",
        "colab": {
          "base_uri": "https://localhost:8080/",
          "height": 499
        },
        "outputId": "30b0768e-465a-449c-acee-abfd9b8d412e"
      },
      "execution_count": null,
      "outputs": [
        {
          "output_type": "execute_result",
          "data": {
            "text/plain": [
              "Text(0.5, 1.0, 'Store and Forward Flag')"
            ]
          },
          "metadata": {},
          "execution_count": 25
        },
        {
          "output_type": "display_data",
          "data": {
            "text/plain": [
              "<Figure size 576x576 with 1 Axes>"
            ],
            "image/png": "[encoded data removed]"
          },
          "metadata": {}
        }
      ]
    },
    {
      "cell_type": "markdown",
      "source": [
        "**Total trips Per Hour**"
      ],
      "metadata": {
        "id": "2xQeTEuufkGr"
      }
    },
    {
      "cell_type": "code",
      "source": [],
      "metadata": {
        "id": "J_zn2tzGfsen"
      },
      "execution_count": null,
      "outputs": []
    },
    {
      "cell_type": "code",
      "source": [
        "taxi.columns"
      ],
      "metadata": {
        "id": "EOABetwyse2u",
        "colab": {
          "base_uri": "https://localhost:8080/"
        },
        "outputId": "c95d2202-f9de-46ea-d0e9-bdab2d55e101"
      },
      "execution_count": null,
      "outputs": [
        {
          "output_type": "execute_result",
          "data": {
            "text/plain": [
              "Index(['id', 'vendor_id', 'pickup_datetime', 'dropoff_datetime',\n",
              "       'passenger_count', 'pickup_longitude', 'pickup_latitude',\n",
              "       'dropoff_longitude', 'dropoff_latitude', 'store_and_fwd_flag',\n",
              "       'trip_duration', 'distance', 'speed'],\n",
              "      dtype='object')"
            ]
          },
          "metadata": {},
          "execution_count": 26
        }
      ]
    },
    {
      "cell_type": "code",
      "source": [
        "plt.title(\"Distribution of trip duration\")\n",
        "sns.histplot(taxi['trip_duration'],bins=100)"
      ],
      "metadata": {
        "id": "uI7_J47csk5D",
        "colab": {
          "base_uri": "https://localhost:8080/",
          "height": 313
        },
        "outputId": "9b09eda1-5a5f-4ee9-e54d-8969a585202b"
      },
      "execution_count": null,
      "outputs": [
        {
          "output_type": "execute_result",
          "data": {
            "text/plain": [
              "<matplotlib.axes._subplots.AxesSubplot at 0x7f948ef8d790>"
            ]
          },
          "metadata": {},
          "execution_count": 27
        },
        {
          "output_type": "display_data",
          "data": {
            "text/plain": [
              "<Figure size 432x288 with 1 Axes>"
            ],
            "image/png": "[encoded data removed]"
          },
          "metadata": {
            "needs_background": "light"
          }
        }
      ]
    },
    {
      "cell_type": "markdown",
      "source": [
        "#Trip duration per vendor"
      ],
      "metadata": {
        "id": "PSf0sYHtBJH4"
      }
    },
    {
      "cell_type": "code",
      "source": [
        "group4 = data.groupby('vendor_id').trip_duration.mean()\n",
        "sns.barplot(group4.index, group4.values)\n",
        "plt.ylabel('Trip Duration (seconds)')\n",
        "plt.xlabel('Vendor')\n",
        "plt.show()"
      ],
      "metadata": {
        "id": "DA8RohP8BKBS",
        "colab": {
          "base_uri": "https://localhost:8080/",
          "height": 279
        },
        "outputId": "173ca834-74a5-44c1-d541-184e42bbcd60"
      },
      "execution_count": null,
      "outputs": [
        {
          "output_type": "display_data",
          "data": {
            "text/plain": [
              "<Figure size 432x288 with 1 Axes>"
            ],
            "image/png": "[encoded data removed]"
          },
          "metadata": {
            "needs_background": "light"
          }
        }
      ]
    },
    {
      "cell_type": "markdown",
      "source": [
        "#Distance v/s Trip duration"
      ],
      "metadata": {
        "id": "iyh93gmeBlwK"
      }
    },
    {
      "cell_type": "code",
      "source": [
        "df = taxi.groupby('passenger_count')['trip_duration'].mean()\n",
        "plt.title('Distribution of trip_duration with respect to the trip_duration')\n",
        "sns.barplot(df.index,df.values)"
      ],
      "metadata": {
        "id": "PIwkShv2uCFZ",
        "colab": {
          "base_uri": "https://localhost:8080/",
          "height": 313
        },
        "outputId": "f0208efa-c24f-4568-d41a-8459f6219b39"
      },
      "execution_count": null,
      "outputs": [
        {
          "output_type": "execute_result",
          "data": {
            "text/plain": [
              "<matplotlib.axes._subplots.AxesSubplot at 0x7f9491a7ae90>"
            ]
          },
          "metadata": {},
          "execution_count": 29
        },
        {
          "output_type": "display_data",
          "data": {
            "text/plain": [
              "<Figure size 432x288 with 1 Axes>"
            ],
            "image/png": "[encoded data removed]"
          },
          "metadata": {
            "needs_background": "light"
          }
        }
      ]
    },
    {
      "cell_type": "code",
      "source": [
        "cal = USFederalHolidayCalendar()\n",
        "holidays = cal.holidays(start=datetime(2016, 3, 1), end=datetime(2016, 4, 1))\n",
        "\n",
        "taxi['holiday'] = (taxi['pickup_datetime'].dt.date.astype('datetime64[ns]').isin(holidays)).astype(int)"
      ],
      "metadata": {
        "id": "S5zpYR6T-vRa"
      },
      "execution_count": null,
      "outputs": []
    },
    {
      "cell_type": "markdown",
      "source": [
        "#Traffic Conditions and Pickup & Dropoff Co-ordinates"
      ],
      "metadata": {
        "id": "IQhej-eo-oqh"
      }
    },
    {
      "cell_type": "code",
      "source": [
        "# Mean Pickup and Dropoff Latitude\n",
        "print('Mean Pickup Latitude: ', taxi['pickup_latitude'].mean())\n",
        "print('Mean Dropoff Latitude: ',taxi['dropoff_latitude'].mean())"
      ],
      "metadata": {
        "id": "GLX_DnyR-tp0",
        "colab": {
          "base_uri": "https://localhost:8080/"
        },
        "outputId": "e0430286-7dd3-4524-f407-bb0cde2ea312"
      },
      "execution_count": null,
      "outputs": [
        {
          "output_type": "stream",
          "name": "stdout",
          "text": [
            "Mean Pickup Latitude:  40.750927045289096\n",
            "Mean Dropoff Latitude:  40.7518012526866\n"
          ]
        }
      ]
    },
    {
      "cell_type": "code",
      "source": [
        "# Mean Pickup and Dropoff Longitude\n",
        "print('Mean Pickup Longitude: ', taxi['pickup_longitude'].mean())\n",
        "print('Mean Dropoff Longitude: ',taxi['dropoff_longitude'].mean())"
      ],
      "metadata": {
        "id": "d-DouRkW_Mvb",
        "colab": {
          "base_uri": "https://localhost:8080/"
        },
        "outputId": "9f7b19c0-78c7-4a1e-a28c-63482eebee91"
      },
      "execution_count": null,
      "outputs": [
        {
          "output_type": "stream",
          "name": "stdout",
          "text": [
            "Mean Pickup Longitude:  -73.97348988334355\n",
            "Mean Dropoff Longitude:  -73.97341996041985\n"
          ]
        }
      ]
    },
    {
      "cell_type": "code",
      "source": [
        "# How much does the Pickup and Dropoff Latitude correlate with the Vendor ID?\n",
        "print('CORR(Vendor ID, Pickup Latitude): ',taxi['vendor_id'].corr(taxi['pickup_latitude']))\n",
        "print('CORR(Vendor ID, Dropoff Latitude): ',taxi['vendor_id'].corr(taxi['dropoff_latitude']))"
      ],
      "metadata": {
        "id": "cGWgxLqr_aUq",
        "colab": {
          "base_uri": "https://localhost:8080/"
        },
        "outputId": "716b1aca-ac49-4a46-a0f9-434d2fd0c13e"
      },
      "execution_count": null,
      "outputs": [
        {
          "output_type": "stream",
          "name": "stdout",
          "text": [
            "CORR(Vendor ID, Pickup Latitude):  0.0018228952993175917\n",
            "CORR(Vendor ID, Dropoff Latitude):  0.004533275826439585\n"
          ]
        }
      ]
    },
    {
      "cell_type": "code",
      "source": [
        "# How much does the Pickup and Dropoff Longitude correlate with the Vendor ID?\n",
        "print('CORR(Vendor ID, Pickup Longitude): ',taxi['vendor_id'].corr(taxi['pickup_longitude']))\n",
        "print('CORR(Vendor ID, Dropoff Longitude): ',taxi['vendor_id'].corr(taxi['dropoff_longitude']))"
      ],
      "metadata": {
        "id": "do2UPMJ0_zqq",
        "colab": {
          "base_uri": "https://localhost:8080/"
        },
        "outputId": "f045714e-6794-4ae0-ce0c-69ffc87d6d3a"
      },
      "execution_count": null,
      "outputs": [
        {
          "output_type": "stream",
          "name": "stdout",
          "text": [
            "CORR(Vendor ID, Pickup Longitude):  0.007751063972570735\n",
            "CORR(Vendor ID, Dropoff Longitude):  0.001495787920510666\n"
          ]
        }
      ]
    },
    {
      "cell_type": "code",
      "source": [
        "# Plot a univariate distribution of observations for latitude and longitude values to get a sense of where the most of the rides\n",
        "# are concentrated in terms of location.\n",
        "fig, ax = plt.subplots(2,2,figsize=(20, 10), sharex=False, sharey = False)\n",
        "sns.despine(left=True)\n",
        "sns.distplot(taxi['pickup_latitude'].values, label = 'pickup_latitude',color=\"g\",bins = 100, ax=ax[0,0])\n",
        "sns.distplot(taxi['dropoff_latitude'].values, label = 'dropoff_latitude',color=\"r\",bins = 100, ax=ax[0,1])\n",
        "sns.distplot(taxi['pickup_longitude'].values, label = 'pickup_longitude',color=\"g\",bins = 100, ax=ax[1,0])\n",
        "sns.distplot(taxi['dropoff_longitude'].values, label = 'dropoff_longitude',color=\"r\",bins = 100, ax=ax[1,1])"
      ],
      "metadata": {
        "id": "CgD9cTdCAF8O",
        "colab": {
          "base_uri": "https://localhost:8080/"
        },
        "outputId": "88c041e5-e8f7-433b-81dd-4f9fe5aafcfe"
      },
      "execution_count": null,
      "outputs": [
        {
          "output_type": "execute_result",
          "data": {
            "text/plain": [
              "<matplotlib.axes._subplots.AxesSubplot at 0x7f94a0329910>"
            ]
          },
          "metadata": {},
          "execution_count": 35
        },
        {
          "output_type": "display_data",
          "data": {
            "text/plain": [
              "<Figure size 1440x720 with 4 Axes>"
            ],
            "image/png": "[encoded data removed]"
          },
          "metadata": {
            "needs_background": "light"
          }
        }
      ]
    },
    {
      "cell_type": "markdown",
      "source": [
        "Latitude: 40 to 41\n",
        "\n",
        "Longitude: -73 to -74"
      ],
      "metadata": {
        "id": "gOcrFceNByYZ"
      }
    },
    {
      "cell_type": "code",
      "source": [
        "# Add bounds to coordinates from the taxiset to avoid Outliers affecting the plots\n",
        "coord = taxi.loc[(taxi.pickup_latitude > 40.6) & (taxi.pickup_latitude < 40.9)]\n",
        "coord = coord.loc[(taxi.dropoff_latitude > 40.6) & (taxi.dropoff_latitude < 40.9)]\n",
        "coord = coord.loc[(taxi.pickup_longitude > -74.05) & (taxi.pickup_longitude < -73.7)]\n",
        "coord = coord.loc[(taxi.dropoff_longitude > -74.05) & (taxi.dropoff_longitude < -73.7)]\n",
        "\n",
        "# Plot the distribution plot again with the same values but this time with the bounds in place for coordinates\n",
        "fig, ax = plt.subplots(2,2,figsize=(20, 10), sharex=False, sharey = False)\n",
        "sns.despine(left=True)\n",
        "sns.distplot(coord['pickup_latitude'].values, label = 'pickup_latitude',color=\"g\",bins = 100, ax=ax[0,0])\n",
        "sns.distplot(coord['dropoff_latitude'].values, label = 'dropoff_latitude',color=\"r\",bins = 100, ax=ax[0,1])\n",
        "sns.distplot(coord['pickup_longitude'].values, label = 'pickup_longitude',color=\"g\",bins = 100, ax=ax[1,0])\n",
        "sns.distplot(coord['dropoff_longitude'].values, label = 'dropoff_longitude',color=\"r\",bins = 100, ax=ax[1,1])\n",
        "plt.setp(ax, yticks=[])\n",
        "plt.tight_layout()"
      ],
      "metadata": {
        "id": "euhR9zsnB0kT",
        "colab": {
          "base_uri": "https://localhost:8080/"
        },
        "outputId": "702ce081-dc5c-4e78-9b3f-9974b9777413"
      },
      "execution_count": null,
      "outputs": [
        {
          "output_type": "display_data",
          "data": {
            "text/plain": [
              "<Figure size 1440x720 with 4 Axes>"
            ],
            "image/png": "[encoded data removed]"
          },
          "metadata": {
            "needs_background": "light"
          }
        }
      ]
    },
    {
      "cell_type": "markdown",
      "source": [
        " most of the trips are concentrated within these bounds of the coordinates\n",
        "\n"
      ],
      "metadata": {
        "id": "9oyRjDZYD0aK"
      }
    },
    {
      "cell_type": "code",
      "source": [
        "#First chech the index of the features and label\n",
        "list(zip( range(0,len(data.columns)),taxi.columns))"
      ],
      "metadata": {
        "id": "LBaC9aTrJlIk",
        "colab": {
          "base_uri": "https://localhost:8080/"
        },
        "outputId": "4c527d7b-cb05-4d68-a7a6-d5a6040f58d7"
      },
      "execution_count": null,
      "outputs": [
        {
          "output_type": "execute_result",
          "data": {
            "text/plain": [
              "[(0, 'id'),\n",
              " (1, 'vendor_id'),\n",
              " (2, 'pickup_datetime'),\n",
              " (3, 'dropoff_datetime'),\n",
              " (4, 'passenger_count'),\n",
              " (5, 'pickup_longitude'),\n",
              " (6, 'pickup_latitude'),\n",
              " (7, 'dropoff_longitude'),\n",
              " (8, 'dropoff_latitude'),\n",
              " (9, 'store_and_fwd_flag'),\n",
              " (10, 'trip_duration'),\n",
              " (11, 'distance'),\n",
              " (12, 'speed'),\n",
              " (13, 'holiday')]"
            ]
          },
          "metadata": {},
          "execution_count": 37
        }
      ]
    },
    {
      "cell_type": "markdown",
      "source": [
        "#Heatmap"
      ],
      "metadata": {
        "id": "tlU4EQgKKDe-"
      }
    },
    {
      "cell_type": "code",
      "source": [
        "plt.figure(figsize=(20,10))\n",
        "sns.heatmap(taxi.corr()*100, annot=True, cmap='inferno')\n",
        "plt.title('Correlation Plot')"
      ],
      "metadata": {
        "id": "as-1y5EBRU6p",
        "colab": {
          "base_uri": "https://localhost:8080/"
        },
        "outputId": "b94a9c4a-0091-48d6-b535-a16e7b85b002"
      },
      "execution_count": null,
      "outputs": [
        {
          "output_type": "execute_result",
          "data": {
            "text/plain": [
              "Text(0.5, 1.0, 'Correlation Plot')"
            ]
          },
          "metadata": {},
          "execution_count": 38
        },
        {
          "output_type": "display_data",
          "data": {
            "text/plain": [
              "<Figure size 1440x720 with 2 Axes>"
            ],
            "image/png": "[encoded data removed]"
          },
          "metadata": {
            "needs_background": "light"
          }
        }
      ]
    },
    {
      "cell_type": "markdown",
      "source": [
        "#Feature engineering"
      ],
      "metadata": {
        "id": "Ws6K6O-u06Yq"
      }
    },
    {
      "cell_type": "code",
      "source": [
        "taxi['pickup_datetime'] = pd.to_datetime(taxi.pickup_datetime)\n",
        "taxi.loc[:, 'pickup_date'] = taxi['pickup_datetime'].dt.date\n",
        "taxi.loc[:, 'pickup_time'] = taxi['pickup_datetime'].dt.time\n",
        "taxi['dropoff_datetime'] = pd.to_datetime(taxi.dropoff_datetime)\n",
        "taxi.loc[:, 'dropoff_date'] = taxi['dropoff_datetime'].dt.date\n",
        "taxi.loc[:, 'dropoff_time'] = taxi['dropoff_datetime'].dt.time\n",
        "taxi.loc[:, 'dropoff_hour'] = taxi['dropoff_datetime'].dt.hour\n",
        "taxi.loc[:, 'dropoff_weekday'] = taxi['dropoff_datetime'].dt.weekday\n",
        "taxi.loc[:, 'dropoff_month'] = taxi['dropoff_datetime'].dt.month\n",
        "taxi.loc[:, 'pickup_weekday'] = taxi['pickup_datetime'].dt.weekday\n",
        "taxi.loc[:, 'pickup_weekofyear'] = taxi['pickup_datetime'].dt.weekofyear\n",
        "taxi.loc[:, 'pickup_hour'] = taxi['pickup_datetime'].dt.hour\n",
        "taxi.loc[:, 'pickup_minute'] = taxi['pickup_datetime'].dt.minute\n",
        "taxi.loc[:, 'pickup_dt'] = (taxi['pickup_datetime'] - taxi['pickup_datetime'].min()).dt.total_seconds()\n",
        "taxi.loc[:, 'pickup_week_hour'] = taxi['pickup_weekday'] * 24 + taxi['pickup_hour']\n",
        "taxi.loc[:, 'pickup_dayofyear'] = taxi['pickup_datetime'].dt.dayofyear\n",
        "taxi.loc[:, 'pickup_month'] = taxi['pickup_datetime'].dt.month"
      ],
      "metadata": {
        "id": "6vKYwKdRzqdM"
      },
      "execution_count": null,
      "outputs": []
    },
    {
      "cell_type": "code",
      "source": [
        "#monthly trips exploration\n",
        "\n",
        "plt.figure(figsize=(10,7))\n",
        "sns.countplot(taxi['pickup_month'], palette='Accent')\n",
        "plt.xticks([0,1,2,3,4,5], labels=['Jan','Feb','March','April','May','June'], rotation=90)\n",
        "plt.title('Overall Monthly trips')"
      ],
      "metadata": {
        "id": "38R691zeaXmm",
        "colab": {
          "base_uri": "https://localhost:8080/"
        },
        "outputId": "374b5e7c-a8fb-44dc-b715-8bde93f207cc"
      },
      "execution_count": null,
      "outputs": [
        {
          "output_type": "execute_result",
          "data": {
            "text/plain": [
              "Text(0.5, 1.0, 'Overall Monthly trips')"
            ]
          },
          "metadata": {},
          "execution_count": 40
        },
        {
          "output_type": "display_data",
          "data": {
            "text/plain": [
              "<Figure size 720x504 with 1 Axes>"
            ],
            "image/png": "[encoded data removed]"
          },
          "metadata": {
            "needs_background": "light"
          }
        }
      ]
    },
    {
      "cell_type": "markdown",
      "source": [
        "Number of trips in a particular month - March and April marking the highest.\n",
        "\n",
        "January being lowest probably due to extreme SnowFall NYC."
      ],
      "metadata": {
        "id": "jm6vKPeybN1C"
      }
    },
    {
      "cell_type": "code",
      "source": [
        "#Analyzing week day trips\n",
        "\n",
        "plt.figure(figsize=(10,7))\n",
        "pickup_week = taxi['pickup_weekday'].value_counts()\n",
        "pickup_week.sort_index().plot(kind='bar', color='maroon')\n",
        "plt.xticks(ticks=[0,1,2,3,4,5,6], labels=['Monday', 'Tuesday', 'Wednesday', 'Thursday', 'Friday', 'Saturday', 'Sunday'], rotation=90)\n",
        "plt.title('Overall Week day Trips')"
      ],
      "metadata": {
        "id": "nskH3aNRbdQj",
        "colab": {
          "base_uri": "https://localhost:8080/"
        },
        "outputId": "4d89d07f-7b43-46c9-9ff2-525188443604"
      },
      "execution_count": null,
      "outputs": [
        {
          "output_type": "execute_result",
          "data": {
            "text/plain": [
              "Text(0.5, 1.0, 'Overall Week day Trips')"
            ]
          },
          "metadata": {},
          "execution_count": 41
        },
        {
          "output_type": "display_data",
          "data": {
            "text/plain": [
              "<Figure size 720x504 with 1 Axes>"
            ],
            "image/png": "[encoded data removed]"
          },
          "metadata": {
            "needs_background": "light"
          }
        }
      ]
    },
    {
      "cell_type": "code",
      "source": [
        "#Analyzing hourly pickups\n",
        "\n",
        "plt.figure(figsize=(20,5))\n",
        "pickup_hour = taxi['pickup_hour'].value_counts()\n",
        "pickup_hour.sort_index().plot(kind='bar', color='gold')\n",
        "plt.title(\"Hourly Pickups\")"
      ],
      "metadata": {
        "id": "6vg66FyBbVcN",
        "colab": {
          "base_uri": "https://localhost:8080/"
        },
        "outputId": "93d97074-ded7-415c-b9b4-a37a99fbcb11"
      },
      "execution_count": null,
      "outputs": [
        {
          "output_type": "execute_result",
          "data": {
            "text/plain": [
              "Text(0.5, 1.0, 'Hourly Pickups')"
            ]
          },
          "metadata": {},
          "execution_count": 42
        },
        {
          "output_type": "display_data",
          "data": {
            "text/plain": [
              "<Figure size 1440x360 with 1 Axes>"
            ],
            "image/png": "[encoded data removed]"
          },
          "metadata": {
            "needs_background": "light"
          }
        }
      ]
    },
    {
      "cell_type": "markdown",
      "source": [
        " Rush hours (5 pm to 10 pm), probably office leaving time."
      ],
      "metadata": {
        "id": "KtNfALwqbxJh"
      }
    },
    {
      "cell_type": "code",
      "source": [
        "plt.figure(figsize=(20,5))\n",
        "pickup_time = taxi['pickup_time'].value_counts()\n",
        "pickup_time.sort_index().plot(kind='line', color='maroon')\n",
        "plt.title('Time Vs No. of Rides')"
      ],
      "metadata": {
        "id": "Pqr2v2Mvb-vd",
        "colab": {
          "base_uri": "https://localhost:8080/"
        },
        "outputId": "ead17d28-1c3e-48f3-c4b6-846c6043d914"
      },
      "execution_count": null,
      "outputs": [
        {
          "output_type": "execute_result",
          "data": {
            "text/plain": [
              "Text(0.5, 1.0, 'Time Vs No. of Rides')"
            ]
          },
          "metadata": {},
          "execution_count": 43
        },
        {
          "output_type": "display_data",
          "data": {
            "text/plain": [
              "<Figure size 1440x360 with 1 Axes>"
            ],
            "image/png": "[encoded data removed]"
          },
          "metadata": {
            "needs_background": "light"
          }
        }
      ]
    },
    {
      "cell_type": "code",
      "source": [],
      "metadata": {
        "id": "RoKdsepf8Hne"
      },
      "execution_count": null,
      "outputs": []
    },
    {
      "cell_type": "code",
      "source": [
        "#monthly trips exploration\n",
        "\n",
        "plt.figure(figsize=(10,7))\n",
        "sns.countplot(taxi['pickup_month'], palette='Accent')\n",
        "plt.xticks([0,1,2,3,4,5], labels=['Jan','Feb','March','April','May','June'], rotation=90)\n",
        "plt.title('Overall Monthly trips')"
      ],
      "metadata": {
        "colab": {
          "base_uri": "https://localhost:8080/"
        },
        "outputId": "a1593e7b-4ca1-4ee5-da16-b9a39b5791e7",
        "id": "2h2agp7G8H7K"
      },
      "execution_count": null,
      "outputs": [
        {
          "output_type": "execute_result",
          "data": {
            "text/plain": [
              "Text(0.5, 1.0, 'Overall Monthly trips')"
            ]
          },
          "metadata": {},
          "execution_count": 44
        },
        {
          "output_type": "display_data",
          "data": {
            "text/plain": [
              "<Figure size 720x504 with 1 Axes>"
            ],
            "image/png": "[encoded data removed]"
          },
          "metadata": {
            "needs_background": "light"
          }
        }
      ]
    },
    {
      "cell_type": "code",
      "source": [
        "# Analyzing the trips per month\n",
        "plt.figure(figsize = (10,6))\n",
        "sns.countplot(taxi.pickup_month)\n",
        "plt.ylabel('Trip Count')\n",
        "plt.xticks([0,1,2,3,4,5], labels=['Jan','Feb','March','April','May','June'], rotation=90)\n",
        "\n",
        "plt.show()"
      ],
      "metadata": {
        "colab": {
          "base_uri": "https://localhost:8080/"
        },
        "id": "XBfuucxV812t",
        "outputId": "c5022c67-6fd2-49e0-e7b7-8d7b5e86c861"
      },
      "execution_count": null,
      "outputs": [
        {
          "output_type": "display_data",
          "data": {
            "text/plain": [
              "<Figure size 720x432 with 1 Axes>"
            ],
            "image/png": "[encoded data removed]"
          },
          "metadata": {
            "needs_background": "light"
          }
        }
      ]
    },
    {
      "cell_type": "markdown",
      "source": [
        "# Distance and Hour"
      ],
      "metadata": {
        "id": "R3gLyli2TPwm"
      }
    },
    {
      "cell_type": "code",
      "source": [
        "# plotting for distance to hour\n",
        "plt.figure(figsize = (10,6))\n",
        "sns.lineplot(y='distance',x='Hour_of_Pickup',taxi=taxi)\n",
        "plt.ylabel('Distance')\n",
        "plt.xlabel('Pickup Hour')\n",
        "plt.show()"
      ],
      "metadata": {
        "colab": {
          "base_uri": "https://localhost:8080/"
        },
        "id": "N64rssm3TUPL",
        "outputId": "a1754788-5426-4538-e6dc-ac73a5e92fbb"
      },
      "execution_count": null,
      "outputs": [
        {
          "output_type": "error",
          "ename": "ValueError",
          "evalue": "ignored",
          "traceback": [
            "\u001b[0;31m---------------------------------------------------------------------------\u001b[0m",
            "\u001b[0;31mValueError\u001b[0m                                Traceback (most recent call last)",
            "\u001b[0;32m<ipython-input-46-da99a33199a8>\u001b[0m in \u001b[0;36m<module>\u001b[0;34m\u001b[0m\n\u001b[1;32m      1\u001b[0m \u001b[0;31m# plotting for distance to hour\u001b[0m\u001b[0;34m\u001b[0m\u001b[0;34m\u001b[0m\u001b[0;34m\u001b[0m\u001b[0m\n\u001b[1;32m      2\u001b[0m \u001b[0mplt\u001b[0m\u001b[0;34m.\u001b[0m\u001b[0mfigure\u001b[0m\u001b[0;34m(\u001b[0m\u001b[0mfigsize\u001b[0m \u001b[0;34m=\u001b[0m \u001b[0;34m(\u001b[0m\u001b[0;36m10\u001b[0m\u001b[0;34m,\u001b[0m\u001b[0;36m6\u001b[0m\u001b[0;34m)\u001b[0m\u001b[0;34m)\u001b[0m\u001b[0;34m\u001b[0m\u001b[0;34m\u001b[0m\u001b[0m\n\u001b[0;32m----> 3\u001b[0;31m \u001b[0msns\u001b[0m\u001b[0;34m.\u001b[0m\u001b[0mlineplot\u001b[0m\u001b[0;34m(\u001b[0m\u001b[0my\u001b[0m\u001b[0;34m=\u001b[0m\u001b[0;34m'distance'\u001b[0m\u001b[0;34m,\u001b[0m\u001b[0mx\u001b[0m\u001b[0;34m=\u001b[0m\u001b[0;34m'Hour_of_Pickup'\u001b[0m\u001b[0;34m,\u001b[0m\u001b[0mtaxi\u001b[0m\u001b[0;34m=\u001b[0m\u001b[0mtaxi\u001b[0m\u001b[0;34m)\u001b[0m\u001b[0;34m\u001b[0m\u001b[0;34m\u001b[0m\u001b[0m\n\u001b[0m\u001b[1;32m      4\u001b[0m \u001b[0mplt\u001b[0m\u001b[0;34m.\u001b[0m\u001b[0mylabel\u001b[0m\u001b[0;34m(\u001b[0m\u001b[0;34m'Distance'\u001b[0m\u001b[0;34m)\u001b[0m\u001b[0;34m\u001b[0m\u001b[0;34m\u001b[0m\u001b[0m\n\u001b[1;32m      5\u001b[0m \u001b[0mplt\u001b[0m\u001b[0;34m.\u001b[0m\u001b[0mxlabel\u001b[0m\u001b[0;34m(\u001b[0m\u001b[0;34m'Pickup Hour'\u001b[0m\u001b[0;34m)\u001b[0m\u001b[0;34m\u001b[0m\u001b[0;34m\u001b[0m\u001b[0m\n",
            "\u001b[0;32m/usr/local/lib/python3.7/dist-packages/seaborn/_decorators.py\u001b[0m in \u001b[0;36minner_f\u001b[0;34m(*args, **kwargs)\u001b[0m\n\u001b[1;32m     44\u001b[0m             )\n\u001b[1;32m     45\u001b[0m         \u001b[0mkwargs\u001b[0m\u001b[0;34m.\u001b[0m\u001b[0mupdate\u001b[0m\u001b[0;34m(\u001b[0m\u001b[0;34m{\u001b[0m\u001b[0mk\u001b[0m\u001b[0;34m:\u001b[0m \u001b[0marg\u001b[0m \u001b[0;32mfor\u001b[0m \u001b[0mk\u001b[0m\u001b[0;34m,\u001b[0m \u001b[0marg\u001b[0m \u001b[0;32min\u001b[0m \u001b[0mzip\u001b[0m\u001b[0;34m(\u001b[0m\u001b[0msig\u001b[0m\u001b[0;34m.\u001b[0m\u001b[0mparameters\u001b[0m\u001b[0;34m,\u001b[0m \u001b[0margs\u001b[0m\u001b[0;34m)\u001b[0m\u001b[0;34m}\u001b[0m\u001b[0;34m)\u001b[0m\u001b[0;34m\u001b[0m\u001b[0;34m\u001b[0m\u001b[0m\n\u001b[0;32m---> 46\u001b[0;31m         \u001b[0;32mreturn\u001b[0m \u001b[0mf\u001b[0m\u001b[0;34m(\u001b[0m\u001b[0;34m**\u001b[0m\u001b[0mkwargs\u001b[0m\u001b[0;34m)\u001b[0m\u001b[0;34m\u001b[0m\u001b[0;34m\u001b[0m\u001b[0m\n\u001b[0m\u001b[1;32m     47\u001b[0m     \u001b[0;32mreturn\u001b[0m \u001b[0minner_f\u001b[0m\u001b[0;34m\u001b[0m\u001b[0;34m\u001b[0m\u001b[0m\n\u001b[1;32m     48\u001b[0m \u001b[0;34m\u001b[0m\u001b[0m\n",
            "\u001b[0;32m/usr/local/lib/python3.7/dist-packages/seaborn/relational.py\u001b[0m in \u001b[0;36mlineplot\u001b[0;34m(x, y, hue, size, style, data, palette, hue_order, hue_norm, sizes, size_order, size_norm, dashes, markers, style_order, units, estimator, ci, n_boot, seed, sort, err_style, err_kws, legend, ax, **kwargs)\u001b[0m\n\u001b[1;32m    693\u001b[0m         \u001b[0mdata\u001b[0m\u001b[0;34m=\u001b[0m\u001b[0mdata\u001b[0m\u001b[0;34m,\u001b[0m \u001b[0mvariables\u001b[0m\u001b[0;34m=\u001b[0m\u001b[0mvariables\u001b[0m\u001b[0;34m,\u001b[0m\u001b[0;34m\u001b[0m\u001b[0;34m\u001b[0m\u001b[0m\n\u001b[1;32m    694\u001b[0m         \u001b[0mestimator\u001b[0m\u001b[0;34m=\u001b[0m\u001b[0mestimator\u001b[0m\u001b[0;34m,\u001b[0m \u001b[0mci\u001b[0m\u001b[0;34m=\u001b[0m\u001b[0mci\u001b[0m\u001b[0;34m,\u001b[0m \u001b[0mn_boot\u001b[0m\u001b[0;34m=\u001b[0m\u001b[0mn_boot\u001b[0m\u001b[0;34m,\u001b[0m \u001b[0mseed\u001b[0m\u001b[0;34m=\u001b[0m\u001b[0mseed\u001b[0m\u001b[0;34m,\u001b[0m\u001b[0;34m\u001b[0m\u001b[0;34m\u001b[0m\u001b[0m\n\u001b[0;32m--> 695\u001b[0;31m         \u001b[0msort\u001b[0m\u001b[0;34m=\u001b[0m\u001b[0msort\u001b[0m\u001b[0;34m,\u001b[0m \u001b[0merr_style\u001b[0m\u001b[0;34m=\u001b[0m\u001b[0merr_style\u001b[0m\u001b[0;34m,\u001b[0m \u001b[0merr_kws\u001b[0m\u001b[0;34m=\u001b[0m\u001b[0merr_kws\u001b[0m\u001b[0;34m,\u001b[0m \u001b[0mlegend\u001b[0m\u001b[0;34m=\u001b[0m\u001b[0mlegend\u001b[0m\u001b[0;34m,\u001b[0m\u001b[0;34m\u001b[0m\u001b[0;34m\u001b[0m\u001b[0m\n\u001b[0m\u001b[1;32m    696\u001b[0m     )\n\u001b[1;32m    697\u001b[0m \u001b[0;34m\u001b[0m\u001b[0m\n",
            "\u001b[0;32m/usr/local/lib/python3.7/dist-packages/seaborn/relational.py\u001b[0m in \u001b[0;36m__init__\u001b[0;34m(self, data, variables, estimator, ci, n_boot, seed, sort, err_style, err_kws, legend)\u001b[0m\n\u001b[1;32m    365\u001b[0m         )\n\u001b[1;32m    366\u001b[0m \u001b[0;34m\u001b[0m\u001b[0m\n\u001b[0;32m--> 367\u001b[0;31m         \u001b[0msuper\u001b[0m\u001b[0;34m(\u001b[0m\u001b[0;34m)\u001b[0m\u001b[0;34m.\u001b[0m\u001b[0m__init__\u001b[0m\u001b[0;34m(\u001b[0m\u001b[0mdata\u001b[0m\u001b[0;34m=\u001b[0m\u001b[0mdata\u001b[0m\u001b[0;34m,\u001b[0m \u001b[0mvariables\u001b[0m\u001b[0;34m=\u001b[0m\u001b[0mvariables\u001b[0m\u001b[0;34m)\u001b[0m\u001b[0;34m\u001b[0m\u001b[0;34m\u001b[0m\u001b[0m\n\u001b[0m\u001b[1;32m    368\u001b[0m \u001b[0;34m\u001b[0m\u001b[0m\n\u001b[1;32m    369\u001b[0m         \u001b[0mself\u001b[0m\u001b[0;34m.\u001b[0m\u001b[0mestimator\u001b[0m \u001b[0;34m=\u001b[0m \u001b[0mestimator\u001b[0m\u001b[0;34m\u001b[0m\u001b[0;34m\u001b[0m\u001b[0m\n",
            "\u001b[0;32m/usr/local/lib/python3.7/dist-packages/seaborn/_core.py\u001b[0m in \u001b[0;36m__init__\u001b[0;34m(self, data, variables)\u001b[0m\n\u001b[1;32m    603\u001b[0m     \u001b[0;32mdef\u001b[0m \u001b[0m__init__\u001b[0m\u001b[0;34m(\u001b[0m\u001b[0mself\u001b[0m\u001b[0;34m,\u001b[0m \u001b[0mdata\u001b[0m\u001b[0;34m=\u001b[0m\u001b[0;32mNone\u001b[0m\u001b[0;34m,\u001b[0m \u001b[0mvariables\u001b[0m\u001b[0;34m=\u001b[0m\u001b[0;34m{\u001b[0m\u001b[0;34m}\u001b[0m\u001b[0;34m)\u001b[0m\u001b[0;34m:\u001b[0m\u001b[0;34m\u001b[0m\u001b[0;34m\u001b[0m\u001b[0m\n\u001b[1;32m    604\u001b[0m \u001b[0;34m\u001b[0m\u001b[0m\n\u001b[0;32m--> 605\u001b[0;31m         \u001b[0mself\u001b[0m\u001b[0;34m.\u001b[0m\u001b[0massign_variables\u001b[0m\u001b[0;34m(\u001b[0m\u001b[0mdata\u001b[0m\u001b[0;34m,\u001b[0m \u001b[0mvariables\u001b[0m\u001b[0;34m)\u001b[0m\u001b[0;34m\u001b[0m\u001b[0;34m\u001b[0m\u001b[0m\n\u001b[0m\u001b[1;32m    606\u001b[0m \u001b[0;34m\u001b[0m\u001b[0m\n\u001b[1;32m    607\u001b[0m         \u001b[0;32mfor\u001b[0m \u001b[0mvar\u001b[0m\u001b[0;34m,\u001b[0m \u001b[0mcls\u001b[0m \u001b[0;32min\u001b[0m \u001b[0mself\u001b[0m\u001b[0;34m.\u001b[0m\u001b[0m_semantic_mappings\u001b[0m\u001b[0;34m.\u001b[0m\u001b[0mitems\u001b[0m\u001b[0;34m(\u001b[0m\u001b[0;34m)\u001b[0m\u001b[0;34m:\u001b[0m\u001b[0;34m\u001b[0m\u001b[0;34m\u001b[0m\u001b[0m\n",
            "\u001b[0;32m/usr/local/lib/python3.7/dist-packages/seaborn/_core.py\u001b[0m in \u001b[0;36massign_variables\u001b[0;34m(self, data, variables)\u001b[0m\n\u001b[1;32m    667\u001b[0m             \u001b[0mself\u001b[0m\u001b[0;34m.\u001b[0m\u001b[0minput_format\u001b[0m \u001b[0;34m=\u001b[0m \u001b[0;34m\"long\"\u001b[0m\u001b[0;34m\u001b[0m\u001b[0;34m\u001b[0m\u001b[0m\n\u001b[1;32m    668\u001b[0m             plot_data, variables = self._assign_variables_longform(\n\u001b[0;32m--> 669\u001b[0;31m                 \u001b[0mdata\u001b[0m\u001b[0;34m,\u001b[0m \u001b[0;34m**\u001b[0m\u001b[0mvariables\u001b[0m\u001b[0;34m,\u001b[0m\u001b[0;34m\u001b[0m\u001b[0;34m\u001b[0m\u001b[0m\n\u001b[0m\u001b[1;32m    670\u001b[0m             )\n\u001b[1;32m    671\u001b[0m \u001b[0;34m\u001b[0m\u001b[0m\n",
            "\u001b[0;32m/usr/local/lib/python3.7/dist-packages/seaborn/_core.py\u001b[0m in \u001b[0;36m_assign_variables_longform\u001b[0;34m(self, data, **kwargs)\u001b[0m\n\u001b[1;32m    901\u001b[0m \u001b[0;34m\u001b[0m\u001b[0m\n\u001b[1;32m    902\u001b[0m                 \u001b[0merr\u001b[0m \u001b[0;34m=\u001b[0m \u001b[0;34mf\"Could not interpret value `{val}` for parameter `{key}`\"\u001b[0m\u001b[0;34m\u001b[0m\u001b[0;34m\u001b[0m\u001b[0m\n\u001b[0;32m--> 903\u001b[0;31m                 \u001b[0;32mraise\u001b[0m \u001b[0mValueError\u001b[0m\u001b[0;34m(\u001b[0m\u001b[0merr\u001b[0m\u001b[0;34m)\u001b[0m\u001b[0;34m\u001b[0m\u001b[0;34m\u001b[0m\u001b[0m\n\u001b[0m\u001b[1;32m    904\u001b[0m \u001b[0;34m\u001b[0m\u001b[0m\n\u001b[1;32m    905\u001b[0m             \u001b[0;32melse\u001b[0m\u001b[0;34m:\u001b[0m\u001b[0;34m\u001b[0m\u001b[0;34m\u001b[0m\u001b[0m\n",
            "\u001b[0;31mValueError\u001b[0m: Could not interpret value `Hour_of_Pickup` for parameter `x`"
          ]
        },
        {
          "output_type": "display_data",
          "data": {
            "text/plain": [
              "<Figure size 720x432 with 0 Axes>"
            ]
          },
          "metadata": {}
        }
      ]
    },
    {
      "cell_type": "markdown",
      "source": [
        "# Distance and Trip Duration"
      ],
      "metadata": {
        "id": "iBZMLdIfAol2"
      }
    },
    {
      "cell_type": "code",
      "source": [
        "# We should remove those trips which covered 0 km distance.\n",
        "taxi = taxi[~(taxi.distance == 0)]\n",
        "\n",
        "# Plotting graph for trip duration and Distance\n",
        "plt.figure(figsize = (10,6))\n",
        "sns.regplot(taxi.distance, taxi.trip_duration)\n",
        "plt.ylabel('Trip Duration')\n",
        "plt.xlabel('Distance')\n",
        "plt.show()\n"
      ],
      "metadata": {
        "id": "sioQlqLxQuEZ"
      },
      "execution_count": null,
      "outputs": []
    }
  ]
}