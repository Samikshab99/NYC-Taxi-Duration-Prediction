{
  "nbformat": 4,
  "nbformat_minor": 0,
  "metadata": {
    "kernelspec": {
      "display_name": "Python 3",
      "language": "python",
      "name": "python3"
    },
    "language_info": {
      "codemirror_mode": {
        "name": "ipython",
        "version": 3
      },
      "file_extension": ".py",
      "mimetype": "text/x-python",
      "name": "python",
      "nbconvert_exporter": "python",
      "pygments_lexer": "ipython3",
      "version": "3.6.6"
    },
    "colab": {
      "name": "Copy of NYC Taxi Trip Time Prediction - Capstone Project.ipynb",
      "provenance": [],
      "collapsed_sections": [],
      "include_colab_link": true
    }
  },
  "cells": [
    {
      "cell_type": "markdown",
      "metadata": {
        "id": "view-in-github",
        "colab_type": "text"
      },
      "source": [
        "<a href=\"https://colab.research.google.com/github/Samikshab99/NYC-Taxi-Duration-Prediction/blob/main/Copy_of_NYC_Taxi_Trip_Time_Prediction_Capstone_Project.ipynb\" target=\"_parent\"><img src=\"https://colab.research.google.com/assets/colab-badge.svg\" alt=\"Open In Colab\"/></a>"
      ]
    },
    {
      "cell_type": "markdown",
      "metadata": {
        "id": "tOGC-qoyhJeX"
      },
      "source": [
        "# <b><u> Project Title : Taxi trip time Prediction : Predicting total ride duration of taxi trips in New York City</u></b>"
      ]
    },
    {
      "cell_type": "markdown",
      "metadata": {
        "id": "Y06xIdG26kRF"
      },
      "source": [
        "## <b> Problem Description </b>\n",
        "\n",
        "### Your task is to build a model that predicts the total ride duration of taxi trips in New York City. Your primary dataset is one released by the NYC Taxi and Limousine Commission, which includes pickup time, geo-coordinates, number of passengers, and several other variables."
      ]
    },
    {
      "cell_type": "markdown",
      "metadata": {
        "id": "WWeU1f9bwqQq"
      },
      "source": [
        "## <b> Data Description </b>\n",
        "\n",
        "### The dataset is based on the 2016 NYC Yellow Cab trip record data made available in Big Query on Google Cloud Platform. The data was originally published by the NYC Taxi and Limousine Commission (TLC). The data was sampled and cleaned for the purposes of this project. Based on individual trip attributes, you should predict the duration of each trip in the test set.\n",
        "\n",
        "### <b>NYC Taxi Data.csv</b> - the training set (contains 1458644 trip records)\n",
        "\n",
        "\n",
        "### Data fields\n",
        "* #### id - a unique identifier for each trip\n",
        "* #### vendor_id - a code indicating the provider associated with the trip record\n",
        "* #### pickup_datetime - date and time when the meter was engaged\n",
        "* #### dropoff_datetime - date and time when the meter was disengaged\n",
        "* #### passenger_count - the number of passengers in the vehicle (driver entered value)\n",
        "* #### pickup_longitude - the longitude where the meter was engaged\n",
        "* #### pickup_latitude - the latitude where the meter was engaged\n",
        "* #### dropoff_longitude - the longitude where the meter was disengaged\n",
        "* #### dropoff_latitude - the latitude where the meter was disengaged\n",
        "* #### store_and_fwd_flag - This flag indicates whether the trip record was held in vehicle memory before sending to the vendor because the vehicle did not have a connection to the server - Y=store and forward; N=not a store and forward trip\n",
        "* #### trip_duration - duration of the trip in seconds"
      ]
    },
    {
      "cell_type": "code",
      "source": [
        "import pandas as pd\n",
        "import numpy as np\n",
        "\n",
        "import seaborn as sns\n",
        "import matplotlib.pyplot as plt\n",
        "import plotly.express as px\n",
        "import matplotlib\n",
        "import datetime as dt\n",
        "from math import radians, cos, sin, asin, sqrt\n",
        "from datetime import datetime, timedelta\n",
        "from math import radians, cos, sin, asin, sqrt\n",
        "from pandas.tseries.holiday import USFederalHolidayCalendar  \n",
        "import datetime as dt\n",
        "\n",
        "from sklearn.linear_model import LinearRegression\n",
        "from sklearn.ensemble import RandomForestRegressor\n",
        "from xgboost import XGBRegressor\n",
        "from sklearn import metrics\n",
        "from sklearn.model_selection import train_test_split, GridSearchCV\n",
        "\n",
        "import statsmodels.formula.api as sm\n",
        "from sklearn.model_selection import learning_curve\n",
        "from sklearn.model_selection import ShuffleSplit\n",
        "import warnings; warnings.simplefilter('ignore')\n"
      ],
      "metadata": {
        "id": "LpveLwkDmx_R"
      },
      "execution_count": 40,
      "outputs": []
    },
    {
      "cell_type": "code",
      "metadata": {
        "id": "dByMsuzT8Tnw",
        "colab": {
          "base_uri": "https://localhost:8080/"
        },
        "outputId": "861c60c6-9117-48ba-c2ae-aa156fe609a1"
      },
      "source": [
        "from google.colab import drive\n",
        "drive.mount('/content/drive')"
      ],
      "execution_count": 41,
      "outputs": [
        {
          "output_type": "stream",
          "name": "stdout",
          "text": [
            "Drive already mounted at /content/drive; to attempt to forcibly remount, call drive.mount(\"/content/drive\", force_remount=True).\n"
          ]
        }
      ]
    },
    {
      "cell_type": "code",
      "source": [
        "taxi = pd.read_csv(\"/content/drive/MyDrive/NYC Taxi Data.csv\")\n",
        "taxi"
      ],
      "metadata": {
        "colab": {
          "base_uri": "https://localhost:8080/",
          "height": 661
        },
        "id": "pb7ahqm1mR2S",
        "outputId": "b33072ec-69e1-4536-de7d-b9cf7884c8a5"
      },
      "execution_count": 42,
      "outputs": [
        {
          "output_type": "execute_result",
          "data": {
            "text/plain": [
              "                id  vendor_id      pickup_datetime     dropoff_datetime  \\\n",
              "0        id2875421          2  2016-03-14 17:24:55  2016-03-14 17:32:30   \n",
              "1        id2377394          1  2016-06-12 00:43:35  2016-06-12 00:54:38   \n",
              "2        id3858529          2  2016-01-19 11:35:24  2016-01-19 12:10:48   \n",
              "3        id3504673          2  2016-04-06 19:32:31  2016-04-06 19:39:40   \n",
              "4        id2181028          2  2016-03-26 13:30:55  2016-03-26 13:38:10   \n",
              "...            ...        ...                  ...                  ...   \n",
              "1458639  id2376096          2  2016-04-08 13:31:04  2016-04-08 13:44:02   \n",
              "1458640  id1049543          1  2016-01-10 07:35:15  2016-01-10 07:46:10   \n",
              "1458641  id2304944          2  2016-04-22 06:57:41  2016-04-22 07:10:25   \n",
              "1458642  id2714485          1  2016-01-05 15:56:26  2016-01-05 16:02:39   \n",
              "1458643  id1209952          1  2016-04-05 14:44:25  2016-04-05 14:47:43   \n",
              "\n",
              "         passenger_count  pickup_longitude  pickup_latitude  \\\n",
              "0                      1            -73.98            40.77   \n",
              "1                      1            -73.98            40.74   \n",
              "2                      1            -73.98            40.76   \n",
              "3                      1            -74.01            40.72   \n",
              "4                      1            -73.97            40.79   \n",
              "...                  ...               ...              ...   \n",
              "1458639                4            -73.98            40.75   \n",
              "1458640                1            -74.00            40.75   \n",
              "1458641                1            -73.96            40.77   \n",
              "1458642                1            -73.98            40.75   \n",
              "1458643                1            -73.98            40.78   \n",
              "\n",
              "         dropoff_longitude  dropoff_latitude store_and_fwd_flag  trip_duration  \n",
              "0                   -73.96             40.77                  N            455  \n",
              "1                   -74.00             40.73                  N            663  \n",
              "2                   -74.01             40.71                  N           2124  \n",
              "3                   -74.01             40.71                  N            429  \n",
              "4                   -73.97             40.78                  N            435  \n",
              "...                    ...               ...                ...            ...  \n",
              "1458639             -73.99             40.74                  N            778  \n",
              "1458640             -73.97             40.80                  N            655  \n",
              "1458641             -74.00             40.71                  N            764  \n",
              "1458642             -73.97             40.76                  N            373  \n",
              "1458643             -73.97             40.79                  N            198  \n",
              "\n",
              "[1458644 rows x 11 columns]"
            ],
            "text/html": [
              "\n",
              "  <div id=\"df-770f1a14-c9d3-4588-8159-c74a38eae5a2\">\n",
              "    <div class=\"colab-df-container\">\n",
              "      <div>\n",
              "<style scoped>\n",
              "    .dataframe tbody tr th:only-of-type {\n",
              "        vertical-align: middle;\n",
              "    }\n",
              "\n",
              "    .dataframe tbody tr th {\n",
              "        vertical-align: top;\n",
              "    }\n",
              "\n",
              "    .dataframe thead th {\n",
              "        text-align: right;\n",
              "    }\n",
              "</style>\n",
              "<table border=\"1\" class=\"dataframe\">\n",
              "  <thead>\n",
              "    <tr style=\"text-align: right;\">\n",
              "      <th></th>\n",
              "      <th>id</th>\n",
              "      <th>vendor_id</th>\n",
              "      <th>pickup_datetime</th>\n",
              "      <th>dropoff_datetime</th>\n",
              "      <th>passenger_count</th>\n",
              "      <th>pickup_longitude</th>\n",
              "      <th>pickup_latitude</th>\n",
              "      <th>dropoff_longitude</th>\n",
              "      <th>dropoff_latitude</th>\n",
              "      <th>store_and_fwd_flag</th>\n",
              "      <th>trip_duration</th>\n",
              "    </tr>\n",
              "  </thead>\n",
              "  <tbody>\n",
              "    <tr>\n",
              "      <th>0</th>\n",
              "      <td>id2875421</td>\n",
              "      <td>2</td>\n",
              "      <td>2016-03-14 17:24:55</td>\n",
              "      <td>2016-03-14 17:32:30</td>\n",
              "      <td>1</td>\n",
              "      <td>-73.98</td>\n",
              "      <td>40.77</td>\n",
              "      <td>-73.96</td>\n",
              "      <td>40.77</td>\n",
              "      <td>N</td>\n",
              "      <td>455</td>\n",
              "    </tr>\n",
              "    <tr>\n",
              "      <th>1</th>\n",
              "      <td>id2377394</td>\n",
              "      <td>1</td>\n",
              "      <td>2016-06-12 00:43:35</td>\n",
              "      <td>2016-06-12 00:54:38</td>\n",
              "      <td>1</td>\n",
              "      <td>-73.98</td>\n",
              "      <td>40.74</td>\n",
              "      <td>-74.00</td>\n",
              "      <td>40.73</td>\n",
              "      <td>N</td>\n",
              "      <td>663</td>\n",
              "    </tr>\n",
              "    <tr>\n",
              "      <th>2</th>\n",
              "      <td>id3858529</td>\n",
              "      <td>2</td>\n",
              "      <td>2016-01-19 11:35:24</td>\n",
              "      <td>2016-01-19 12:10:48</td>\n",
              "      <td>1</td>\n",
              "      <td>-73.98</td>\n",
              "      <td>40.76</td>\n",
              "      <td>-74.01</td>\n",
              "      <td>40.71</td>\n",
              "      <td>N</td>\n",
              "      <td>2124</td>\n",
              "    </tr>\n",
              "    <tr>\n",
              "      <th>3</th>\n",
              "      <td>id3504673</td>\n",
              "      <td>2</td>\n",
              "      <td>2016-04-06 19:32:31</td>\n",
              "      <td>2016-04-06 19:39:40</td>\n",
              "      <td>1</td>\n",
              "      <td>-74.01</td>\n",
              "      <td>40.72</td>\n",
              "      <td>-74.01</td>\n",
              "      <td>40.71</td>\n",
              "      <td>N</td>\n",
              "      <td>429</td>\n",
              "    </tr>\n",
              "    <tr>\n",
              "      <th>4</th>\n",
              "      <td>id2181028</td>\n",
              "      <td>2</td>\n",
              "      <td>2016-03-26 13:30:55</td>\n",
              "      <td>2016-03-26 13:38:10</td>\n",
              "      <td>1</td>\n",
              "      <td>-73.97</td>\n",
              "      <td>40.79</td>\n",
              "      <td>-73.97</td>\n",
              "      <td>40.78</td>\n",
              "      <td>N</td>\n",
              "      <td>435</td>\n",
              "    </tr>\n",
              "    <tr>\n",
              "      <th>...</th>\n",
              "      <td>...</td>\n",
              "      <td>...</td>\n",
              "      <td>...</td>\n",
              "      <td>...</td>\n",
              "      <td>...</td>\n",
              "      <td>...</td>\n",
              "      <td>...</td>\n",
              "      <td>...</td>\n",
              "      <td>...</td>\n",
              "      <td>...</td>\n",
              "      <td>...</td>\n",
              "    </tr>\n",
              "    <tr>\n",
              "      <th>1458639</th>\n",
              "      <td>id2376096</td>\n",
              "      <td>2</td>\n",
              "      <td>2016-04-08 13:31:04</td>\n",
              "      <td>2016-04-08 13:44:02</td>\n",
              "      <td>4</td>\n",
              "      <td>-73.98</td>\n",
              "      <td>40.75</td>\n",
              "      <td>-73.99</td>\n",
              "      <td>40.74</td>\n",
              "      <td>N</td>\n",
              "      <td>778</td>\n",
              "    </tr>\n",
              "    <tr>\n",
              "      <th>1458640</th>\n",
              "      <td>id1049543</td>\n",
              "      <td>1</td>\n",
              "      <td>2016-01-10 07:35:15</td>\n",
              "      <td>2016-01-10 07:46:10</td>\n",
              "      <td>1</td>\n",
              "      <td>-74.00</td>\n",
              "      <td>40.75</td>\n",
              "      <td>-73.97</td>\n",
              "      <td>40.80</td>\n",
              "      <td>N</td>\n",
              "      <td>655</td>\n",
              "    </tr>\n",
              "    <tr>\n",
              "      <th>1458641</th>\n",
              "      <td>id2304944</td>\n",
              "      <td>2</td>\n",
              "      <td>2016-04-22 06:57:41</td>\n",
              "      <td>2016-04-22 07:10:25</td>\n",
              "      <td>1</td>\n",
              "      <td>-73.96</td>\n",
              "      <td>40.77</td>\n",
              "      <td>-74.00</td>\n",
              "      <td>40.71</td>\n",
              "      <td>N</td>\n",
              "      <td>764</td>\n",
              "    </tr>\n",
              "    <tr>\n",
              "      <th>1458642</th>\n",
              "      <td>id2714485</td>\n",
              "      <td>1</td>\n",
              "      <td>2016-01-05 15:56:26</td>\n",
              "      <td>2016-01-05 16:02:39</td>\n",
              "      <td>1</td>\n",
              "      <td>-73.98</td>\n",
              "      <td>40.75</td>\n",
              "      <td>-73.97</td>\n",
              "      <td>40.76</td>\n",
              "      <td>N</td>\n",
              "      <td>373</td>\n",
              "    </tr>\n",
              "    <tr>\n",
              "      <th>1458643</th>\n",
              "      <td>id1209952</td>\n",
              "      <td>1</td>\n",
              "      <td>2016-04-05 14:44:25</td>\n",
              "      <td>2016-04-05 14:47:43</td>\n",
              "      <td>1</td>\n",
              "      <td>-73.98</td>\n",
              "      <td>40.78</td>\n",
              "      <td>-73.97</td>\n",
              "      <td>40.79</td>\n",
              "      <td>N</td>\n",
              "      <td>198</td>\n",
              "    </tr>\n",
              "  </tbody>\n",
              "</table>\n",
              "<p>1458644 rows × 11 columns</p>\n",
              "</div>\n",
              "      <button class=\"colab-df-convert\" onclick=\"convertToInteractive('df-770f1a14-c9d3-4588-8159-c74a38eae5a2')\"\n",
              "              title=\"Convert this dataframe to an interactive table.\"\n",
              "              style=\"display:none;\">\n",
              "        \n",
              "  <svg xmlns=\"http://www.w3.org/2000/svg\" height=\"24px\"viewBox=\"0 0 24 24\"\n",
              "       width=\"24px\">\n",
              "    <path d=\"M0 0h24v24H0V0z\" fill=\"none\"/>\n",
              "    <path d=\"M18.56 5.44l.94 2.06.94-2.06 2.06-.94-2.06-.94-.94-2.06-.94 2.06-2.06.94zm-11 1L8.5 8.5l.94-2.06 2.06-.94-2.06-.94L8.5 2.5l-.94 2.06-2.06.94zm10 10l.94 2.06.94-2.06 2.06-.94-2.06-.94-.94-2.06-.94 2.06-2.06.94z\"/><path d=\"M17.41 7.96l-1.37-1.37c-.4-.4-.92-.59-1.43-.59-.52 0-1.04.2-1.43.59L10.3 9.45l-7.72 7.72c-.78.78-.78 2.05 0 2.83L4 21.41c.39.39.9.59 1.41.59.51 0 1.02-.2 1.41-.59l7.78-7.78 2.81-2.81c.8-.78.8-2.07 0-2.86zM5.41 20L4 18.59l7.72-7.72 1.47 1.35L5.41 20z\"/>\n",
              "  </svg>\n",
              "      </button>\n",
              "      \n",
              "  <style>\n",
              "    .colab-df-container {\n",
              "      display:flex;\n",
              "      flex-wrap:wrap;\n",
              "      gap: 12px;\n",
              "    }\n",
              "\n",
              "    .colab-df-convert {\n",
              "      background-color: #E8F0FE;\n",
              "      border: none;\n",
              "      border-radius: 50%;\n",
              "      cursor: pointer;\n",
              "      display: none;\n",
              "      fill: #1967D2;\n",
              "      height: 32px;\n",
              "      padding: 0 0 0 0;\n",
              "      width: 32px;\n",
              "    }\n",
              "\n",
              "    .colab-df-convert:hover {\n",
              "      background-color: #E2EBFA;\n",
              "      box-shadow: 0px 1px 2px rgba(60, 64, 67, 0.3), 0px 1px 3px 1px rgba(60, 64, 67, 0.15);\n",
              "      fill: #174EA6;\n",
              "    }\n",
              "\n",
              "    [theme=dark] .colab-df-convert {\n",
              "      background-color: #3B4455;\n",
              "      fill: #D2E3FC;\n",
              "    }\n",
              "\n",
              "    [theme=dark] .colab-df-convert:hover {\n",
              "      background-color: #434B5C;\n",
              "      box-shadow: 0px 1px 3px 1px rgba(0, 0, 0, 0.15);\n",
              "      filter: drop-shadow(0px 1px 2px rgba(0, 0, 0, 0.3));\n",
              "      fill: #FFFFFF;\n",
              "    }\n",
              "  </style>\n",
              "\n",
              "      <script>\n",
              "        const buttonEl =\n",
              "          document.querySelector('#df-770f1a14-c9d3-4588-8159-c74a38eae5a2 button.colab-df-convert');\n",
              "        buttonEl.style.display =\n",
              "          google.colab.kernel.accessAllowed ? 'block' : 'none';\n",
              "\n",
              "        async function convertToInteractive(key) {\n",
              "          const element = document.querySelector('#df-770f1a14-c9d3-4588-8159-c74a38eae5a2');\n",
              "          const dataTable =\n",
              "            await google.colab.kernel.invokeFunction('convertToInteractive',\n",
              "                                                     [key], {});\n",
              "          if (!dataTable) return;\n",
              "\n",
              "          const docLinkHtml = 'Like what you see? Visit the ' +\n",
              "            '<a target=\"_blank\" href=https://colab.research.google.com/notebooks/data_table.ipynb>data table notebook</a>'\n",
              "            + ' to learn more about interactive tables.';\n",
              "          element.innerHTML = '';\n",
              "          dataTable['output_type'] = 'display_data';\n",
              "          await google.colab.output.renderOutput(dataTable, element);\n",
              "          const docLink = document.createElement('div');\n",
              "          docLink.innerHTML = docLinkHtml;\n",
              "          element.appendChild(docLink);\n",
              "        }\n",
              "      </script>\n",
              "    </div>\n",
              "  </div>\n",
              "  "
            ]
          },
          "metadata": {},
          "execution_count": 42
        }
      ]
    },
    {
      "cell_type": "code",
      "source": [
        "taxi.info()"
      ],
      "metadata": {
        "colab": {
          "base_uri": "https://localhost:8080/"
        },
        "id": "g6dsqX3-nLGr",
        "outputId": "805970fc-230a-4d9a-e719-73e3eed2c976"
      },
      "execution_count": 43,
      "outputs": [
        {
          "output_type": "stream",
          "name": "stdout",
          "text": [
            "<class 'pandas.core.frame.DataFrame'>\n",
            "RangeIndex: 1458644 entries, 0 to 1458643\n",
            "Data columns (total 11 columns):\n",
            " #   Column              Non-Null Count    Dtype  \n",
            "---  ------              --------------    -----  \n",
            " 0   id                  1458644 non-null  object \n",
            " 1   vendor_id           1458644 non-null  int64  \n",
            " 2   pickup_datetime     1458644 non-null  object \n",
            " 3   dropoff_datetime    1458644 non-null  object \n",
            " 4   passenger_count     1458644 non-null  int64  \n",
            " 5   pickup_longitude    1458644 non-null  float64\n",
            " 6   pickup_latitude     1458644 non-null  float64\n",
            " 7   dropoff_longitude   1458644 non-null  float64\n",
            " 8   dropoff_latitude    1458644 non-null  float64\n",
            " 9   store_and_fwd_flag  1458644 non-null  object \n",
            " 10  trip_duration       1458644 non-null  int64  \n",
            "dtypes: float64(4), int64(3), object(4)\n",
            "memory usage: 122.4+ MB\n"
          ]
        }
      ]
    },
    {
      "cell_type": "code",
      "source": [
        "taxi.describe()"
      ],
      "metadata": {
        "colab": {
          "base_uri": "https://localhost:8080/",
          "height": 300
        },
        "id": "KHx1AW29qnfL",
        "outputId": "c8d6833a-d15c-474b-eb8c-812357abb951"
      },
      "execution_count": 44,
      "outputs": [
        {
          "output_type": "execute_result",
          "data": {
            "text/plain": [
              "       vendor_id  passenger_count  pickup_longitude  pickup_latitude  \\\n",
              "count 1458644.00       1458644.00        1458644.00       1458644.00   \n",
              "mean        1.53             1.66            -73.97            40.75   \n",
              "std         0.50             1.31              0.07             0.03   \n",
              "min         1.00             0.00           -121.93            34.36   \n",
              "25%         1.00             1.00            -73.99            40.74   \n",
              "50%         2.00             1.00            -73.98            40.75   \n",
              "75%         2.00             2.00            -73.97            40.77   \n",
              "max         2.00             9.00            -61.34            51.88   \n",
              "\n",
              "       dropoff_longitude  dropoff_latitude  trip_duration  \n",
              "count         1458644.00        1458644.00     1458644.00  \n",
              "mean              -73.97             40.75         959.49  \n",
              "std                 0.07              0.04        5237.43  \n",
              "min              -121.93             32.18           1.00  \n",
              "25%               -73.99             40.74         397.00  \n",
              "50%               -73.98             40.75         662.00  \n",
              "75%               -73.96             40.77        1075.00  \n",
              "max               -61.34             43.92     3526282.00  "
            ],
            "text/html": [
              "\n",
              "  <div id=\"df-62c10e17-4c60-41d8-b4ea-a306738ab072\">\n",
              "    <div class=\"colab-df-container\">\n",
              "      <div>\n",
              "<style scoped>\n",
              "    .dataframe tbody tr th:only-of-type {\n",
              "        vertical-align: middle;\n",
              "    }\n",
              "\n",
              "    .dataframe tbody tr th {\n",
              "        vertical-align: top;\n",
              "    }\n",
              "\n",
              "    .dataframe thead th {\n",
              "        text-align: right;\n",
              "    }\n",
              "</style>\n",
              "<table border=\"1\" class=\"dataframe\">\n",
              "  <thead>\n",
              "    <tr style=\"text-align: right;\">\n",
              "      <th></th>\n",
              "      <th>vendor_id</th>\n",
              "      <th>passenger_count</th>\n",
              "      <th>pickup_longitude</th>\n",
              "      <th>pickup_latitude</th>\n",
              "      <th>dropoff_longitude</th>\n",
              "      <th>dropoff_latitude</th>\n",
              "      <th>trip_duration</th>\n",
              "    </tr>\n",
              "  </thead>\n",
              "  <tbody>\n",
              "    <tr>\n",
              "      <th>count</th>\n",
              "      <td>1458644.00</td>\n",
              "      <td>1458644.00</td>\n",
              "      <td>1458644.00</td>\n",
              "      <td>1458644.00</td>\n",
              "      <td>1458644.00</td>\n",
              "      <td>1458644.00</td>\n",
              "      <td>1458644.00</td>\n",
              "    </tr>\n",
              "    <tr>\n",
              "      <th>mean</th>\n",
              "      <td>1.53</td>\n",
              "      <td>1.66</td>\n",
              "      <td>-73.97</td>\n",
              "      <td>40.75</td>\n",
              "      <td>-73.97</td>\n",
              "      <td>40.75</td>\n",
              "      <td>959.49</td>\n",
              "    </tr>\n",
              "    <tr>\n",
              "      <th>std</th>\n",
              "      <td>0.50</td>\n",
              "      <td>1.31</td>\n",
              "      <td>0.07</td>\n",
              "      <td>0.03</td>\n",
              "      <td>0.07</td>\n",
              "      <td>0.04</td>\n",
              "      <td>5237.43</td>\n",
              "    </tr>\n",
              "    <tr>\n",
              "      <th>min</th>\n",
              "      <td>1.00</td>\n",
              "      <td>0.00</td>\n",
              "      <td>-121.93</td>\n",
              "      <td>34.36</td>\n",
              "      <td>-121.93</td>\n",
              "      <td>32.18</td>\n",
              "      <td>1.00</td>\n",
              "    </tr>\n",
              "    <tr>\n",
              "      <th>25%</th>\n",
              "      <td>1.00</td>\n",
              "      <td>1.00</td>\n",
              "      <td>-73.99</td>\n",
              "      <td>40.74</td>\n",
              "      <td>-73.99</td>\n",
              "      <td>40.74</td>\n",
              "      <td>397.00</td>\n",
              "    </tr>\n",
              "    <tr>\n",
              "      <th>50%</th>\n",
              "      <td>2.00</td>\n",
              "      <td>1.00</td>\n",
              "      <td>-73.98</td>\n",
              "      <td>40.75</td>\n",
              "      <td>-73.98</td>\n",
              "      <td>40.75</td>\n",
              "      <td>662.00</td>\n",
              "    </tr>\n",
              "    <tr>\n",
              "      <th>75%</th>\n",
              "      <td>2.00</td>\n",
              "      <td>2.00</td>\n",
              "      <td>-73.97</td>\n",
              "      <td>40.77</td>\n",
              "      <td>-73.96</td>\n",
              "      <td>40.77</td>\n",
              "      <td>1075.00</td>\n",
              "    </tr>\n",
              "    <tr>\n",
              "      <th>max</th>\n",
              "      <td>2.00</td>\n",
              "      <td>9.00</td>\n",
              "      <td>-61.34</td>\n",
              "      <td>51.88</td>\n",
              "      <td>-61.34</td>\n",
              "      <td>43.92</td>\n",
              "      <td>3526282.00</td>\n",
              "    </tr>\n",
              "  </tbody>\n",
              "</table>\n",
              "</div>\n",
              "      <button class=\"colab-df-convert\" onclick=\"convertToInteractive('df-62c10e17-4c60-41d8-b4ea-a306738ab072')\"\n",
              "              title=\"Convert this dataframe to an interactive table.\"\n",
              "              style=\"display:none;\">\n",
              "        \n",
              "  <svg xmlns=\"http://www.w3.org/2000/svg\" height=\"24px\"viewBox=\"0 0 24 24\"\n",
              "       width=\"24px\">\n",
              "    <path d=\"M0 0h24v24H0V0z\" fill=\"none\"/>\n",
              "    <path d=\"M18.56 5.44l.94 2.06.94-2.06 2.06-.94-2.06-.94-.94-2.06-.94 2.06-2.06.94zm-11 1L8.5 8.5l.94-2.06 2.06-.94-2.06-.94L8.5 2.5l-.94 2.06-2.06.94zm10 10l.94 2.06.94-2.06 2.06-.94-2.06-.94-.94-2.06-.94 2.06-2.06.94z\"/><path d=\"M17.41 7.96l-1.37-1.37c-.4-.4-.92-.59-1.43-.59-.52 0-1.04.2-1.43.59L10.3 9.45l-7.72 7.72c-.78.78-.78 2.05 0 2.83L4 21.41c.39.39.9.59 1.41.59.51 0 1.02-.2 1.41-.59l7.78-7.78 2.81-2.81c.8-.78.8-2.07 0-2.86zM5.41 20L4 18.59l7.72-7.72 1.47 1.35L5.41 20z\"/>\n",
              "  </svg>\n",
              "      </button>\n",
              "      \n",
              "  <style>\n",
              "    .colab-df-container {\n",
              "      display:flex;\n",
              "      flex-wrap:wrap;\n",
              "      gap: 12px;\n",
              "    }\n",
              "\n",
              "    .colab-df-convert {\n",
              "      background-color: #E8F0FE;\n",
              "      border: none;\n",
              "      border-radius: 50%;\n",
              "      cursor: pointer;\n",
              "      display: none;\n",
              "      fill: #1967D2;\n",
              "      height: 32px;\n",
              "      padding: 0 0 0 0;\n",
              "      width: 32px;\n",
              "    }\n",
              "\n",
              "    .colab-df-convert:hover {\n",
              "      background-color: #E2EBFA;\n",
              "      box-shadow: 0px 1px 2px rgba(60, 64, 67, 0.3), 0px 1px 3px 1px rgba(60, 64, 67, 0.15);\n",
              "      fill: #174EA6;\n",
              "    }\n",
              "\n",
              "    [theme=dark] .colab-df-convert {\n",
              "      background-color: #3B4455;\n",
              "      fill: #D2E3FC;\n",
              "    }\n",
              "\n",
              "    [theme=dark] .colab-df-convert:hover {\n",
              "      background-color: #434B5C;\n",
              "      box-shadow: 0px 1px 3px 1px rgba(0, 0, 0, 0.15);\n",
              "      filter: drop-shadow(0px 1px 2px rgba(0, 0, 0, 0.3));\n",
              "      fill: #FFFFFF;\n",
              "    }\n",
              "  </style>\n",
              "\n",
              "      <script>\n",
              "        const buttonEl =\n",
              "          document.querySelector('#df-62c10e17-4c60-41d8-b4ea-a306738ab072 button.colab-df-convert');\n",
              "        buttonEl.style.display =\n",
              "          google.colab.kernel.accessAllowed ? 'block' : 'none';\n",
              "\n",
              "        async function convertToInteractive(key) {\n",
              "          const element = document.querySelector('#df-62c10e17-4c60-41d8-b4ea-a306738ab072');\n",
              "          const dataTable =\n",
              "            await google.colab.kernel.invokeFunction('convertToInteractive',\n",
              "                                                     [key], {});\n",
              "          if (!dataTable) return;\n",
              "\n",
              "          const docLinkHtml = 'Like what you see? Visit the ' +\n",
              "            '<a target=\"_blank\" href=https://colab.research.google.com/notebooks/data_table.ipynb>data table notebook</a>'\n",
              "            + ' to learn more about interactive tables.';\n",
              "          element.innerHTML = '';\n",
              "          dataTable['output_type'] = 'display_data';\n",
              "          await google.colab.output.renderOutput(dataTable, element);\n",
              "          const docLink = document.createElement('div');\n",
              "          docLink.innerHTML = docLinkHtml;\n",
              "          element.appendChild(docLink);\n",
              "        }\n",
              "      </script>\n",
              "    </div>\n",
              "  </div>\n",
              "  "
            ]
          },
          "metadata": {},
          "execution_count": 44
        }
      ]
    },
    {
      "cell_type": "code",
      "source": [
        "taxi.shape"
      ],
      "metadata": {
        "colab": {
          "base_uri": "https://localhost:8080/"
        },
        "id": "xc5wDgRNPV44",
        "outputId": "688cc612-0c5b-473a-e1db-194fa405c6f0"
      },
      "execution_count": 45,
      "outputs": [
        {
          "output_type": "execute_result",
          "data": {
            "text/plain": [
              "(1458644, 11)"
            ]
          },
          "metadata": {},
          "execution_count": 45
        }
      ]
    },
    {
      "cell_type": "code",
      "source": [
        "print(\"There are %d unique id's in Training dataset, which is equal to the number of records\"%(taxi.id.nunique()))"
      ],
      "metadata": {
        "colab": {
          "base_uri": "https://localhost:8080/"
        },
        "id": "FMX-7LEdPjOM",
        "outputId": "395855e9-692a-4af2-c6e3-3e463dd3d866"
      },
      "execution_count": 46,
      "outputs": [
        {
          "output_type": "stream",
          "name": "stdout",
          "text": [
            "There are 1458644 unique id's in Training dataset, which is equal to the number of records\n"
          ]
        }
      ]
    },
    {
      "cell_type": "code",
      "source": [
        "#Check for NaN values\n",
        "taxi.isnull().sum()"
      ],
      "metadata": {
        "colab": {
          "base_uri": "https://localhost:8080/"
        },
        "id": "KY4NmyNYPrKu",
        "outputId": "4751501d-59f8-458c-841c-8b2429a66f39"
      },
      "execution_count": 47,
      "outputs": [
        {
          "output_type": "execute_result",
          "data": {
            "text/plain": [
              "id                    0\n",
              "vendor_id             0\n",
              "pickup_datetime       0\n",
              "dropoff_datetime      0\n",
              "passenger_count       0\n",
              "pickup_longitude      0\n",
              "pickup_latitude       0\n",
              "dropoff_longitude     0\n",
              "dropoff_latitude      0\n",
              "store_and_fwd_flag    0\n",
              "trip_duration         0\n",
              "dtype: int64"
            ]
          },
          "metadata": {},
          "execution_count": 47
        }
      ]
    },
    {
      "cell_type": "code",
      "source": [
        "#Convert timestamp to datetime format to fetch the other details as listed below\n",
        "taxi['pickup_datetime'] = pd.to_datetime(taxi['pickup_datetime'])\n",
        "taxi['dropoff_datetime'] = pd.to_datetime(taxi['dropoff_datetime'])"
      ],
      "metadata": {
        "id": "csY3l1_APyOp"
      },
      "execution_count": 48,
      "outputs": []
    },
    {
      "cell_type": "code",
      "source": [
        "#Calculate Speed in km/h for further insights\n",
        "taxi['speed'] = (taxi.distance/(taxi.trip_duration/3600))"
      ],
      "metadata": {
        "colab": {
          "base_uri": "https://localhost:8080/",
          "height": 304
        },
        "id": "kLXaxHEJR2Gv",
        "outputId": "6790528b-7e31-42af-8aee-2c1e73aac032"
      },
      "execution_count": 50,
      "outputs": [
        {
          "output_type": "error",
          "ename": "AttributeError",
          "evalue": "ignored",
          "traceback": [
            "\u001b[0;31m---------------------------------------------------------------------------\u001b[0m",
            "\u001b[0;31mAttributeError\u001b[0m                            Traceback (most recent call last)",
            "\u001b[0;32m<ipython-input-50-899fd1041166>\u001b[0m in \u001b[0;36m<module>\u001b[0;34m\u001b[0m\n\u001b[1;32m      1\u001b[0m \u001b[0;31m#Calculate Speed in km/h for further insights\u001b[0m\u001b[0;34m\u001b[0m\u001b[0;34m\u001b[0m\u001b[0;34m\u001b[0m\u001b[0m\n\u001b[0;32m----> 2\u001b[0;31m \u001b[0mtaxi\u001b[0m\u001b[0;34m[\u001b[0m\u001b[0;34m'speed'\u001b[0m\u001b[0;34m]\u001b[0m \u001b[0;34m=\u001b[0m \u001b[0;34m(\u001b[0m\u001b[0mtaxi\u001b[0m\u001b[0;34m.\u001b[0m\u001b[0mdistance\u001b[0m\u001b[0;34m/\u001b[0m\u001b[0;34m(\u001b[0m\u001b[0mtaxi\u001b[0m\u001b[0;34m.\u001b[0m\u001b[0mtrip_duration\u001b[0m\u001b[0;34m/\u001b[0m\u001b[0;36m3600\u001b[0m\u001b[0;34m)\u001b[0m\u001b[0;34m)\u001b[0m\u001b[0;34m\u001b[0m\u001b[0;34m\u001b[0m\u001b[0m\n\u001b[0m",
            "\u001b[0;32m/usr/local/lib/python3.7/dist-packages/pandas/core/generic.py\u001b[0m in \u001b[0;36m__getattr__\u001b[0;34m(self, name)\u001b[0m\n\u001b[1;32m   5485\u001b[0m         ):\n\u001b[1;32m   5486\u001b[0m             \u001b[0;32mreturn\u001b[0m \u001b[0mself\u001b[0m\u001b[0;34m[\u001b[0m\u001b[0mname\u001b[0m\u001b[0;34m]\u001b[0m\u001b[0;34m\u001b[0m\u001b[0;34m\u001b[0m\u001b[0m\n\u001b[0;32m-> 5487\u001b[0;31m         \u001b[0;32mreturn\u001b[0m \u001b[0mobject\u001b[0m\u001b[0;34m.\u001b[0m\u001b[0m__getattribute__\u001b[0m\u001b[0;34m(\u001b[0m\u001b[0mself\u001b[0m\u001b[0;34m,\u001b[0m \u001b[0mname\u001b[0m\u001b[0;34m)\u001b[0m\u001b[0;34m\u001b[0m\u001b[0;34m\u001b[0m\u001b[0m\n\u001b[0m\u001b[1;32m   5488\u001b[0m \u001b[0;34m\u001b[0m\u001b[0m\n\u001b[1;32m   5489\u001b[0m     \u001b[0;32mdef\u001b[0m \u001b[0m__setattr__\u001b[0m\u001b[0;34m(\u001b[0m\u001b[0mself\u001b[0m\u001b[0;34m,\u001b[0m \u001b[0mname\u001b[0m\u001b[0;34m:\u001b[0m \u001b[0mstr\u001b[0m\u001b[0;34m,\u001b[0m \u001b[0mvalue\u001b[0m\u001b[0;34m)\u001b[0m \u001b[0;34m->\u001b[0m \u001b[0;32mNone\u001b[0m\u001b[0;34m:\u001b[0m\u001b[0;34m\u001b[0m\u001b[0;34m\u001b[0m\u001b[0m\n",
            "\u001b[0;31mAttributeError\u001b[0m: 'DataFrame' object has no attribute 'distance'"
          ]
        }
      ]
    },
    {
      "cell_type": "code",
      "source": [
        "taxi.dtypes.reset_index()"
      ],
      "metadata": {
        "colab": {
          "base_uri": "https://localhost:8080/",
          "height": 394
        },
        "id": "X9s7dzexSBI6",
        "outputId": "384e90d0-213d-4e42-b15b-e2c9675469a5"
      },
      "execution_count": 51,
      "outputs": [
        {
          "output_type": "execute_result",
          "data": {
            "text/plain": [
              "                 index               0\n",
              "0                   id          object\n",
              "1            vendor_id           int64\n",
              "2      pickup_datetime  datetime64[ns]\n",
              "3     dropoff_datetime  datetime64[ns]\n",
              "4      passenger_count           int64\n",
              "5     pickup_longitude         float64\n",
              "6      pickup_latitude         float64\n",
              "7    dropoff_longitude         float64\n",
              "8     dropoff_latitude         float64\n",
              "9   store_and_fwd_flag          object\n",
              "10       trip_duration           int64"
            ],
            "text/html": [
              "\n",
              "  <div id=\"df-daaca2da-cd01-4fcf-9815-3cb33903365f\">\n",
              "    <div class=\"colab-df-container\">\n",
              "      <div>\n",
              "<style scoped>\n",
              "    .dataframe tbody tr th:only-of-type {\n",
              "        vertical-align: middle;\n",
              "    }\n",
              "\n",
              "    .dataframe tbody tr th {\n",
              "        vertical-align: top;\n",
              "    }\n",
              "\n",
              "    .dataframe thead th {\n",
              "        text-align: right;\n",
              "    }\n",
              "</style>\n",
              "<table border=\"1\" class=\"dataframe\">\n",
              "  <thead>\n",
              "    <tr style=\"text-align: right;\">\n",
              "      <th></th>\n",
              "      <th>index</th>\n",
              "      <th>0</th>\n",
              "    </tr>\n",
              "  </thead>\n",
              "  <tbody>\n",
              "    <tr>\n",
              "      <th>0</th>\n",
              "      <td>id</td>\n",
              "      <td>object</td>\n",
              "    </tr>\n",
              "    <tr>\n",
              "      <th>1</th>\n",
              "      <td>vendor_id</td>\n",
              "      <td>int64</td>\n",
              "    </tr>\n",
              "    <tr>\n",
              "      <th>2</th>\n",
              "      <td>pickup_datetime</td>\n",
              "      <td>datetime64[ns]</td>\n",
              "    </tr>\n",
              "    <tr>\n",
              "      <th>3</th>\n",
              "      <td>dropoff_datetime</td>\n",
              "      <td>datetime64[ns]</td>\n",
              "    </tr>\n",
              "    <tr>\n",
              "      <th>4</th>\n",
              "      <td>passenger_count</td>\n",
              "      <td>int64</td>\n",
              "    </tr>\n",
              "    <tr>\n",
              "      <th>5</th>\n",
              "      <td>pickup_longitude</td>\n",
              "      <td>float64</td>\n",
              "    </tr>\n",
              "    <tr>\n",
              "      <th>6</th>\n",
              "      <td>pickup_latitude</td>\n",
              "      <td>float64</td>\n",
              "    </tr>\n",
              "    <tr>\n",
              "      <th>7</th>\n",
              "      <td>dropoff_longitude</td>\n",
              "      <td>float64</td>\n",
              "    </tr>\n",
              "    <tr>\n",
              "      <th>8</th>\n",
              "      <td>dropoff_latitude</td>\n",
              "      <td>float64</td>\n",
              "    </tr>\n",
              "    <tr>\n",
              "      <th>9</th>\n",
              "      <td>store_and_fwd_flag</td>\n",
              "      <td>object</td>\n",
              "    </tr>\n",
              "    <tr>\n",
              "      <th>10</th>\n",
              "      <td>trip_duration</td>\n",
              "      <td>int64</td>\n",
              "    </tr>\n",
              "  </tbody>\n",
              "</table>\n",
              "</div>\n",
              "      <button class=\"colab-df-convert\" onclick=\"convertToInteractive('df-daaca2da-cd01-4fcf-9815-3cb33903365f')\"\n",
              "              title=\"Convert this dataframe to an interactive table.\"\n",
              "              style=\"display:none;\">\n",
              "        \n",
              "  <svg xmlns=\"http://www.w3.org/2000/svg\" height=\"24px\"viewBox=\"0 0 24 24\"\n",
              "       width=\"24px\">\n",
              "    <path d=\"M0 0h24v24H0V0z\" fill=\"none\"/>\n",
              "    <path d=\"M18.56 5.44l.94 2.06.94-2.06 2.06-.94-2.06-.94-.94-2.06-.94 2.06-2.06.94zm-11 1L8.5 8.5l.94-2.06 2.06-.94-2.06-.94L8.5 2.5l-.94 2.06-2.06.94zm10 10l.94 2.06.94-2.06 2.06-.94-2.06-.94-.94-2.06-.94 2.06-2.06.94z\"/><path d=\"M17.41 7.96l-1.37-1.37c-.4-.4-.92-.59-1.43-.59-.52 0-1.04.2-1.43.59L10.3 9.45l-7.72 7.72c-.78.78-.78 2.05 0 2.83L4 21.41c.39.39.9.59 1.41.59.51 0 1.02-.2 1.41-.59l7.78-7.78 2.81-2.81c.8-.78.8-2.07 0-2.86zM5.41 20L4 18.59l7.72-7.72 1.47 1.35L5.41 20z\"/>\n",
              "  </svg>\n",
              "      </button>\n",
              "      \n",
              "  <style>\n",
              "    .colab-df-container {\n",
              "      display:flex;\n",
              "      flex-wrap:wrap;\n",
              "      gap: 12px;\n",
              "    }\n",
              "\n",
              "    .colab-df-convert {\n",
              "      background-color: #E8F0FE;\n",
              "      border: none;\n",
              "      border-radius: 50%;\n",
              "      cursor: pointer;\n",
              "      display: none;\n",
              "      fill: #1967D2;\n",
              "      height: 32px;\n",
              "      padding: 0 0 0 0;\n",
              "      width: 32px;\n",
              "    }\n",
              "\n",
              "    .colab-df-convert:hover {\n",
              "      background-color: #E2EBFA;\n",
              "      box-shadow: 0px 1px 2px rgba(60, 64, 67, 0.3), 0px 1px 3px 1px rgba(60, 64, 67, 0.15);\n",
              "      fill: #174EA6;\n",
              "    }\n",
              "\n",
              "    [theme=dark] .colab-df-convert {\n",
              "      background-color: #3B4455;\n",
              "      fill: #D2E3FC;\n",
              "    }\n",
              "\n",
              "    [theme=dark] .colab-df-convert:hover {\n",
              "      background-color: #434B5C;\n",
              "      box-shadow: 0px 1px 3px 1px rgba(0, 0, 0, 0.15);\n",
              "      filter: drop-shadow(0px 1px 2px rgba(0, 0, 0, 0.3));\n",
              "      fill: #FFFFFF;\n",
              "    }\n",
              "  </style>\n",
              "\n",
              "      <script>\n",
              "        const buttonEl =\n",
              "          document.querySelector('#df-daaca2da-cd01-4fcf-9815-3cb33903365f button.colab-df-convert');\n",
              "        buttonEl.style.display =\n",
              "          google.colab.kernel.accessAllowed ? 'block' : 'none';\n",
              "\n",
              "        async function convertToInteractive(key) {\n",
              "          const element = document.querySelector('#df-daaca2da-cd01-4fcf-9815-3cb33903365f');\n",
              "          const dataTable =\n",
              "            await google.colab.kernel.invokeFunction('convertToInteractive',\n",
              "                                                     [key], {});\n",
              "          if (!dataTable) return;\n",
              "\n",
              "          const docLinkHtml = 'Like what you see? Visit the ' +\n",
              "            '<a target=\"_blank\" href=https://colab.research.google.com/notebooks/data_table.ipynb>data table notebook</a>'\n",
              "            + ' to learn more about interactive tables.';\n",
              "          element.innerHTML = '';\n",
              "          dataTable['output_type'] = 'display_data';\n",
              "          await google.colab.output.renderOutput(dataTable, element);\n",
              "          const docLink = document.createElement('div');\n",
              "          docLink.innerHTML = docLinkHtml;\n",
              "          element.appendChild(docLink);\n",
              "        }\n",
              "      </script>\n",
              "    </div>\n",
              "  </div>\n",
              "  "
            ]
          },
          "metadata": {},
          "execution_count": 51
        }
      ]
    },
    {
      "cell_type": "code",
      "source": [
        "#Dummify all the categorical features like \"store_and_fwd_flag, vendor_id, passenger_count\" except the label i.e. \"trip_duration\"\n",
        "\n",
        "dummy = pd.get_dummies(taxi.store_and_fwd_flag, prefix='flag')\n",
        "dummy.drop(dummy.columns[0], axis=1, inplace=True) #avoid dummy trap\n",
        "data = pd.concat([taxi,dummy], axis = 1)\n",
        "\n",
        "dummy = pd.get_dummies(taxi.vendor_id, prefix='vendor_id')\n",
        "dummy.drop(dummy.columns[0], axis=1, inplace=True) #avoid dummy trap\n",
        "data = pd.concat([taxi,dummy], axis = 1)\n",
        "\n",
        "\n",
        "dummy = pd.get_dummies(taxi.passenger_count, prefix='passenger_count')\n",
        "dummy.drop(dummy.columns[0], axis=1, inplace=True) #avoid dummy trap\n",
        "data = pd.concat([taxi,dummy], axis = 1)"
      ],
      "metadata": {
        "id": "YtNiZ4-ASMsz"
      },
      "execution_count": 52,
      "outputs": []
    },
    {
      "cell_type": "code",
      "source": [
        "data.head()"
      ],
      "metadata": {
        "colab": {
          "base_uri": "https://localhost:8080/",
          "height": 357
        },
        "id": "JPDkC7zdTrx2",
        "outputId": "86610587-e3ae-4f60-d787-72f9a3fe3256"
      },
      "execution_count": 53,
      "outputs": [
        {
          "output_type": "execute_result",
          "data": {
            "text/plain": [
              "          id  vendor_id     pickup_datetime    dropoff_datetime  \\\n",
              "0  id2875421          2 2016-03-14 17:24:55 2016-03-14 17:32:30   \n",
              "1  id2377394          1 2016-06-12 00:43:35 2016-06-12 00:54:38   \n",
              "2  id3858529          2 2016-01-19 11:35:24 2016-01-19 12:10:48   \n",
              "3  id3504673          2 2016-04-06 19:32:31 2016-04-06 19:39:40   \n",
              "4  id2181028          2 2016-03-26 13:30:55 2016-03-26 13:38:10   \n",
              "\n",
              "   passenger_count  pickup_longitude  pickup_latitude  dropoff_longitude  \\\n",
              "0                1            -73.98            40.77             -73.96   \n",
              "1                1            -73.98            40.74             -74.00   \n",
              "2                1            -73.98            40.76             -74.01   \n",
              "3                1            -74.01            40.72             -74.01   \n",
              "4                1            -73.97            40.79             -73.97   \n",
              "\n",
              "   dropoff_latitude store_and_fwd_flag  trip_duration  passenger_count_1  \\\n",
              "0             40.77                  N            455                  1   \n",
              "1             40.73                  N            663                  1   \n",
              "2             40.71                  N           2124                  1   \n",
              "3             40.71                  N            429                  1   \n",
              "4             40.78                  N            435                  1   \n",
              "\n",
              "   passenger_count_2  passenger_count_3  passenger_count_4  passenger_count_5  \\\n",
              "0                  0                  0                  0                  0   \n",
              "1                  0                  0                  0                  0   \n",
              "2                  0                  0                  0                  0   \n",
              "3                  0                  0                  0                  0   \n",
              "4                  0                  0                  0                  0   \n",
              "\n",
              "   passenger_count_6  passenger_count_7  passenger_count_8  passenger_count_9  \n",
              "0                  0                  0                  0                  0  \n",
              "1                  0                  0                  0                  0  \n",
              "2                  0                  0                  0                  0  \n",
              "3                  0                  0                  0                  0  \n",
              "4                  0                  0                  0                  0  "
            ],
            "text/html": [
              "\n",
              "  <div id=\"df-8dc2c14e-7ff7-4d73-9ef9-40bd5762e16c\">\n",
              "    <div class=\"colab-df-container\">\n",
              "      <div>\n",
              "<style scoped>\n",
              "    .dataframe tbody tr th:only-of-type {\n",
              "        vertical-align: middle;\n",
              "    }\n",
              "\n",
              "    .dataframe tbody tr th {\n",
              "        vertical-align: top;\n",
              "    }\n",
              "\n",
              "    .dataframe thead th {\n",
              "        text-align: right;\n",
              "    }\n",
              "</style>\n",
              "<table border=\"1\" class=\"dataframe\">\n",
              "  <thead>\n",
              "    <tr style=\"text-align: right;\">\n",
              "      <th></th>\n",
              "      <th>id</th>\n",
              "      <th>vendor_id</th>\n",
              "      <th>pickup_datetime</th>\n",
              "      <th>dropoff_datetime</th>\n",
              "      <th>passenger_count</th>\n",
              "      <th>pickup_longitude</th>\n",
              "      <th>pickup_latitude</th>\n",
              "      <th>dropoff_longitude</th>\n",
              "      <th>dropoff_latitude</th>\n",
              "      <th>store_and_fwd_flag</th>\n",
              "      <th>trip_duration</th>\n",
              "      <th>passenger_count_1</th>\n",
              "      <th>passenger_count_2</th>\n",
              "      <th>passenger_count_3</th>\n",
              "      <th>passenger_count_4</th>\n",
              "      <th>passenger_count_5</th>\n",
              "      <th>passenger_count_6</th>\n",
              "      <th>passenger_count_7</th>\n",
              "      <th>passenger_count_8</th>\n",
              "      <th>passenger_count_9</th>\n",
              "    </tr>\n",
              "  </thead>\n",
              "  <tbody>\n",
              "    <tr>\n",
              "      <th>0</th>\n",
              "      <td>id2875421</td>\n",
              "      <td>2</td>\n",
              "      <td>2016-03-14 17:24:55</td>\n",
              "      <td>2016-03-14 17:32:30</td>\n",
              "      <td>1</td>\n",
              "      <td>-73.98</td>\n",
              "      <td>40.77</td>\n",
              "      <td>-73.96</td>\n",
              "      <td>40.77</td>\n",
              "      <td>N</td>\n",
              "      <td>455</td>\n",
              "      <td>1</td>\n",
              "      <td>0</td>\n",
              "      <td>0</td>\n",
              "      <td>0</td>\n",
              "      <td>0</td>\n",
              "      <td>0</td>\n",
              "      <td>0</td>\n",
              "      <td>0</td>\n",
              "      <td>0</td>\n",
              "    </tr>\n",
              "    <tr>\n",
              "      <th>1</th>\n",
              "      <td>id2377394</td>\n",
              "      <td>1</td>\n",
              "      <td>2016-06-12 00:43:35</td>\n",
              "      <td>2016-06-12 00:54:38</td>\n",
              "      <td>1</td>\n",
              "      <td>-73.98</td>\n",
              "      <td>40.74</td>\n",
              "      <td>-74.00</td>\n",
              "      <td>40.73</td>\n",
              "      <td>N</td>\n",
              "      <td>663</td>\n",
              "      <td>1</td>\n",
              "      <td>0</td>\n",
              "      <td>0</td>\n",
              "      <td>0</td>\n",
              "      <td>0</td>\n",
              "      <td>0</td>\n",
              "      <td>0</td>\n",
              "      <td>0</td>\n",
              "      <td>0</td>\n",
              "    </tr>\n",
              "    <tr>\n",
              "      <th>2</th>\n",
              "      <td>id3858529</td>\n",
              "      <td>2</td>\n",
              "      <td>2016-01-19 11:35:24</td>\n",
              "      <td>2016-01-19 12:10:48</td>\n",
              "      <td>1</td>\n",
              "      <td>-73.98</td>\n",
              "      <td>40.76</td>\n",
              "      <td>-74.01</td>\n",
              "      <td>40.71</td>\n",
              "      <td>N</td>\n",
              "      <td>2124</td>\n",
              "      <td>1</td>\n",
              "      <td>0</td>\n",
              "      <td>0</td>\n",
              "      <td>0</td>\n",
              "      <td>0</td>\n",
              "      <td>0</td>\n",
              "      <td>0</td>\n",
              "      <td>0</td>\n",
              "      <td>0</td>\n",
              "    </tr>\n",
              "    <tr>\n",
              "      <th>3</th>\n",
              "      <td>id3504673</td>\n",
              "      <td>2</td>\n",
              "      <td>2016-04-06 19:32:31</td>\n",
              "      <td>2016-04-06 19:39:40</td>\n",
              "      <td>1</td>\n",
              "      <td>-74.01</td>\n",
              "      <td>40.72</td>\n",
              "      <td>-74.01</td>\n",
              "      <td>40.71</td>\n",
              "      <td>N</td>\n",
              "      <td>429</td>\n",
              "      <td>1</td>\n",
              "      <td>0</td>\n",
              "      <td>0</td>\n",
              "      <td>0</td>\n",
              "      <td>0</td>\n",
              "      <td>0</td>\n",
              "      <td>0</td>\n",
              "      <td>0</td>\n",
              "      <td>0</td>\n",
              "    </tr>\n",
              "    <tr>\n",
              "      <th>4</th>\n",
              "      <td>id2181028</td>\n",
              "      <td>2</td>\n",
              "      <td>2016-03-26 13:30:55</td>\n",
              "      <td>2016-03-26 13:38:10</td>\n",
              "      <td>1</td>\n",
              "      <td>-73.97</td>\n",
              "      <td>40.79</td>\n",
              "      <td>-73.97</td>\n",
              "      <td>40.78</td>\n",
              "      <td>N</td>\n",
              "      <td>435</td>\n",
              "      <td>1</td>\n",
              "      <td>0</td>\n",
              "      <td>0</td>\n",
              "      <td>0</td>\n",
              "      <td>0</td>\n",
              "      <td>0</td>\n",
              "      <td>0</td>\n",
              "      <td>0</td>\n",
              "      <td>0</td>\n",
              "    </tr>\n",
              "  </tbody>\n",
              "</table>\n",
              "</div>\n",
              "      <button class=\"colab-df-convert\" onclick=\"convertToInteractive('df-8dc2c14e-7ff7-4d73-9ef9-40bd5762e16c')\"\n",
              "              title=\"Convert this dataframe to an interactive table.\"\n",
              "              style=\"display:none;\">\n",
              "        \n",
              "  <svg xmlns=\"http://www.w3.org/2000/svg\" height=\"24px\"viewBox=\"0 0 24 24\"\n",
              "       width=\"24px\">\n",
              "    <path d=\"M0 0h24v24H0V0z\" fill=\"none\"/>\n",
              "    <path d=\"M18.56 5.44l.94 2.06.94-2.06 2.06-.94-2.06-.94-.94-2.06-.94 2.06-2.06.94zm-11 1L8.5 8.5l.94-2.06 2.06-.94-2.06-.94L8.5 2.5l-.94 2.06-2.06.94zm10 10l.94 2.06.94-2.06 2.06-.94-2.06-.94-.94-2.06-.94 2.06-2.06.94z\"/><path d=\"M17.41 7.96l-1.37-1.37c-.4-.4-.92-.59-1.43-.59-.52 0-1.04.2-1.43.59L10.3 9.45l-7.72 7.72c-.78.78-.78 2.05 0 2.83L4 21.41c.39.39.9.59 1.41.59.51 0 1.02-.2 1.41-.59l7.78-7.78 2.81-2.81c.8-.78.8-2.07 0-2.86zM5.41 20L4 18.59l7.72-7.72 1.47 1.35L5.41 20z\"/>\n",
              "  </svg>\n",
              "      </button>\n",
              "      \n",
              "  <style>\n",
              "    .colab-df-container {\n",
              "      display:flex;\n",
              "      flex-wrap:wrap;\n",
              "      gap: 12px;\n",
              "    }\n",
              "\n",
              "    .colab-df-convert {\n",
              "      background-color: #E8F0FE;\n",
              "      border: none;\n",
              "      border-radius: 50%;\n",
              "      cursor: pointer;\n",
              "      display: none;\n",
              "      fill: #1967D2;\n",
              "      height: 32px;\n",
              "      padding: 0 0 0 0;\n",
              "      width: 32px;\n",
              "    }\n",
              "\n",
              "    .colab-df-convert:hover {\n",
              "      background-color: #E2EBFA;\n",
              "      box-shadow: 0px 1px 2px rgba(60, 64, 67, 0.3), 0px 1px 3px 1px rgba(60, 64, 67, 0.15);\n",
              "      fill: #174EA6;\n",
              "    }\n",
              "\n",
              "    [theme=dark] .colab-df-convert {\n",
              "      background-color: #3B4455;\n",
              "      fill: #D2E3FC;\n",
              "    }\n",
              "\n",
              "    [theme=dark] .colab-df-convert:hover {\n",
              "      background-color: #434B5C;\n",
              "      box-shadow: 0px 1px 3px 1px rgba(0, 0, 0, 0.15);\n",
              "      filter: drop-shadow(0px 1px 2px rgba(0, 0, 0, 0.3));\n",
              "      fill: #FFFFFF;\n",
              "    }\n",
              "  </style>\n",
              "\n",
              "      <script>\n",
              "        const buttonEl =\n",
              "          document.querySelector('#df-8dc2c14e-7ff7-4d73-9ef9-40bd5762e16c button.colab-df-convert');\n",
              "        buttonEl.style.display =\n",
              "          google.colab.kernel.accessAllowed ? 'block' : 'none';\n",
              "\n",
              "        async function convertToInteractive(key) {\n",
              "          const element = document.querySelector('#df-8dc2c14e-7ff7-4d73-9ef9-40bd5762e16c');\n",
              "          const dataTable =\n",
              "            await google.colab.kernel.invokeFunction('convertToInteractive',\n",
              "                                                     [key], {});\n",
              "          if (!dataTable) return;\n",
              "\n",
              "          const docLinkHtml = 'Like what you see? Visit the ' +\n",
              "            '<a target=\"_blank\" href=https://colab.research.google.com/notebooks/data_table.ipynb>data table notebook</a>'\n",
              "            + ' to learn more about interactive tables.';\n",
              "          element.innerHTML = '';\n",
              "          dataTable['output_type'] = 'display_data';\n",
              "          await google.colab.output.renderOutput(dataTable, element);\n",
              "          const docLink = document.createElement('div');\n",
              "          docLink.innerHTML = docLinkHtml;\n",
              "          element.appendChild(docLink);\n",
              "        }\n",
              "      </script>\n",
              "    </div>\n",
              "  </div>\n",
              "  "
            ]
          },
          "metadata": {},
          "execution_count": 53
        }
      ]
    },
    {
      "cell_type": "markdown",
      "source": [
        "#taxi Preprocessing"
      ],
      "metadata": {
        "id": "la0DPwXKq99O"
      }
    },
    {
      "cell_type": "code",
      "source": [
        "m = np.mean(taxi['trip_duration'])\n",
        "std = np.std(taxi['trip_duration'])\n",
        "taxi = taxi[taxi['trip_duration'] <= m + 2*std]\n",
        "taxi = taxi[taxi['trip_duration'] >= m- 2*std]\n",
        "taxi.trip_duration"
      ],
      "metadata": {
        "id": "Aj6edwAkrCfG",
        "colab": {
          "base_uri": "https://localhost:8080/"
        },
        "outputId": "8ad6a8c8-02c1-4388-a1f0-bdf62089cc1e"
      },
      "execution_count": 54,
      "outputs": [
        {
          "output_type": "execute_result",
          "data": {
            "text/plain": [
              "0           455\n",
              "1           663\n",
              "2          2124\n",
              "3           429\n",
              "4           435\n",
              "           ... \n",
              "1458639     778\n",
              "1458640     655\n",
              "1458641     764\n",
              "1458642     373\n",
              "1458643     198\n",
              "Name: trip_duration, Length: 1456540, dtype: int64"
            ]
          },
          "metadata": {},
          "execution_count": 54
        }
      ]
    },
    {
      "cell_type": "code",
      "source": [
        "print(min(taxi['dropoff_latitude']))\n",
        "print(max(taxi['dropoff_latitude']))\n",
        "print(min(taxi['dropoff_longitude']))\n",
        "print(max(taxi['dropoff_longitude']))"
      ],
      "metadata": {
        "colab": {
          "base_uri": "https://localhost:8080/"
        },
        "id": "HinZyLWSrXo1",
        "outputId": "8decf844-ff6e-489b-905f-2597bd757f1b"
      },
      "execution_count": 55,
      "outputs": [
        {
          "output_type": "stream",
          "name": "stdout",
          "text": [
            "32.1811408996582\n",
            "43.92102813720703\n",
            "-121.9333038330078\n",
            "-61.33552932739258\n"
          ]
        }
      ]
    },
    {
      "cell_type": "markdown",
      "source": [
        "#EDA"
      ],
      "metadata": {
        "id": "GmSTTa4KscFP"
      }
    },
    {
      "cell_type": "markdown",
      "source": [
        "**Passengers**"
      ],
      "metadata": {
        "id": "Mm__atrLULSF"
      }
    },
    {
      "cell_type": "code",
      "source": [
        "pd.options.display.float_format = '{:.2f}'.format #To suppres scientific notation.\n",
        "taxi.passenger_count.value_counts()"
      ],
      "metadata": {
        "colab": {
          "base_uri": "https://localhost:8080/"
        },
        "id": "VnfgRYhyUJs3",
        "outputId": "174b193a-c192-448b-b6ef-ef158aa3a867"
      },
      "execution_count": 56,
      "outputs": [
        {
          "output_type": "execute_result",
          "data": {
            "text/plain": [
              "1    1032274\n",
              "2     210008\n",
              "5      77869\n",
              "3      59777\n",
              "6      48200\n",
              "4      28348\n",
              "0         59\n",
              "7          3\n",
              "9          1\n",
              "8          1\n",
              "Name: passenger_count, dtype: int64"
            ]
          },
          "metadata": {},
          "execution_count": 56
        }
      ]
    },
    {
      "cell_type": "code",
      "source": [
        "plt.figure(figsize = (20,5))\n",
        "sns.countplot(taxi.passenger_count)\n",
        "plt.show()"
      ],
      "metadata": {
        "colab": {
          "base_uri": "https://localhost:8080/",
          "height": 345
        },
        "id": "r2gPMs_SUX3k",
        "outputId": "35d1c6f0-8ccb-4694-d688-c1e31f44efc9"
      },
      "execution_count": 57,
      "outputs": [
        {
          "output_type": "display_data",
          "data": {
            "text/plain": [
              "<Figure size 1440x360 with 1 Axes>"
            ],
            "image/png": "[encoded data removed]"
          },
          "metadata": {
            "needs_background": "light"
          }
        }
      ]
    },
    {
      "cell_type": "markdown",
      "source": [
        "There are some trips with 0 passenger count.\n",
        "Few trips consisted of even 7, 8 or 9 passengers. \n",
        "Most of trip consist of passenger either 1 or 2.\n",
        "\n",
        "\n"
      ],
      "metadata": {
        "id": "a29idfeqUwTU"
      }
    },
    {
      "cell_type": "code",
      "source": [
        "data.passenger_count.describe()"
      ],
      "metadata": {
        "colab": {
          "base_uri": "https://localhost:8080/"
        },
        "id": "1x7l3zMCVKZv",
        "outputId": "f74cddff-4642-45a4-e390-9a715b1b49a4"
      },
      "execution_count": 58,
      "outputs": [
        {
          "output_type": "execute_result",
          "data": {
            "text/plain": [
              "count   1458644.00\n",
              "mean          1.66\n",
              "std           1.31\n",
              "min           0.00\n",
              "25%           1.00\n",
              "50%           1.00\n",
              "75%           2.00\n",
              "max           9.00\n",
              "Name: passenger_count, dtype: float64"
            ]
          },
          "metadata": {},
          "execution_count": 58
        }
      ]
    },
    {
      "cell_type": "markdown",
      "source": [
        "**Vendor**"
      ],
      "metadata": {
        "id": "-iYYmW7NVYnn"
      }
    },
    {
      "cell_type": "code",
      "source": [
        "sns.countplot(data.vendor_id)\n",
        "plt.show()"
      ],
      "metadata": {
        "colab": {
          "base_uri": "https://localhost:8080/",
          "height": 280
        },
        "id": "GQwEdkIXVblk",
        "outputId": "c3f696ea-643b-4156-9995-3375d62da017"
      },
      "execution_count": 59,
      "outputs": [
        {
          "output_type": "display_data",
          "data": {
            "text/plain": [
              "<Figure size 432x288 with 1 Axes>"
            ],
            "image/png": "[encoded data removed]"
          },
          "metadata": {
            "needs_background": "light"
          }
        }
      ]
    },
    {
      "cell_type": "markdown",
      "source": [
        "**Trip duration**"
      ],
      "metadata": {
        "id": "jGbobAYTWf6X"
      }
    },
    {
      "cell_type": "code",
      "source": [
        "taxi.trip_duration.describe()"
      ],
      "metadata": {
        "colab": {
          "base_uri": "https://localhost:8080/"
        },
        "id": "bqIktVs7Wkkt",
        "outputId": "7e37f490-27fd-4946-989c-5e31db9e6ca9"
      },
      "execution_count": 60,
      "outputs": [
        {
          "output_type": "execute_result",
          "data": {
            "text/plain": [
              "count   1456540.00\n",
              "mean        836.86\n",
              "std         658.93\n",
              "min           1.00\n",
              "25%         397.00\n",
              "50%         662.00\n",
              "75%        1073.00\n",
              "max       11411.00\n",
              "Name: trip_duration, dtype: float64"
            ]
          },
          "metadata": {},
          "execution_count": 60
        }
      ]
    },
    {
      "cell_type": "code",
      "source": [
        "plt.figure(figsize = (20,5))\n",
        "sns.boxplot(taxi.trip_duration)\n",
        "plt.show()"
      ],
      "metadata": {
        "id": "DZ8trYaPWtVS",
        "colab": {
          "base_uri": "https://localhost:8080/",
          "height": 335
        },
        "outputId": "217595cb-118c-4978-91c9-919609583b2f"
      },
      "execution_count": 61,
      "outputs": [
        {
          "output_type": "display_data",
          "data": {
            "text/plain": [
              "<Figure size 1440x360 with 1 Axes>"
            ],
            "image/png": "[encoded data removed]"
          },
          "metadata": {
            "needs_background": "light"
          }
        }
      ]
    },
    {
      "cell_type": "markdown",
      "source": [
        "Some trip durations are over 100000 seconds which are clear outliers and should be removed.\n"
      ],
      "metadata": {
        "id": "7nDwzKi9XkNA"
      }
    },
    {
      "cell_type": "code",
      "source": [
        "taxi.trip_duration.groupby(pd.cut(taxi.trip_duration, np.arange(1,7200,600))).count().plot(kind='barh')\n",
        "plt.xlabel('Trip Counts')\n",
        "plt.ylabel('Trip Duration (seconds)')\n",
        "plt.show()"
      ],
      "metadata": {
        "colab": {
          "base_uri": "https://localhost:8080/",
          "height": 279
        },
        "id": "grB7FmGaXyE1",
        "outputId": "9277875a-7b2e-4cdf-d8ee-efe01f5c96ff"
      },
      "execution_count": 62,
      "outputs": [
        {
          "output_type": "display_data",
          "data": {
            "text/plain": [
              "<Figure size 432x288 with 1 Axes>"
            ],
            "image/png": "[encoded data removed]"
          },
          "metadata": {
            "needs_background": "light"
          }
        }
      ]
    },
    {
      "cell_type": "markdown",
      "source": [
        "We can observe that most of the trips took 0 - 30 mins to complete i.e. approx 1800 secs"
      ],
      "metadata": {
        "id": "BLtHBa3eYxjh"
      }
    },
    {
      "cell_type": "markdown",
      "source": [
        "**Store_and_fwd_flag**\n",
        "\n",
        "Y=store and forward; N=not a store and forward trip\n",
        "\n",
        "\n"
      ],
      "metadata": {
        "id": "hTHu4beiel05"
      }
    },
    {
      "cell_type": "code",
      "source": [
        "taxi.vendor_id[taxi.store_and_fwd_flag == 1].value_counts()"
      ],
      "metadata": {
        "colab": {
          "base_uri": "https://localhost:8080/"
        },
        "id": "YmTMhJ86fPzK",
        "outputId": "ef59fad1-ed66-4d48-bf47-2ac6ff9f7a77"
      },
      "execution_count": 63,
      "outputs": [
        {
          "output_type": "execute_result",
          "data": {
            "text/plain": [
              "Series([], Name: vendor_id, dtype: int64)"
            ]
          },
          "metadata": {},
          "execution_count": 63
        }
      ]
    },
    {
      "cell_type": "markdown",
      "source": [
        "**Total trips Per Hour**"
      ],
      "metadata": {
        "id": "2xQeTEuufkGr"
      }
    },
    {
      "cell_type": "code",
      "source": [
        ""
      ],
      "metadata": {
        "id": "J_zn2tzGfsen"
      },
      "execution_count": 63,
      "outputs": []
    },
    {
      "cell_type": "markdown",
      "source": [
        "##Trip Duration per hour"
      ],
      "metadata": {
        "id": "1xVmj1PgFwLi"
      }
    },
    {
      "cell_type": "code",
      "source": [
        "calendar = USFederalHolidayCalendar()\n",
        "holidays = calendar.holidays()\n",
        "\n",
        "taxi['pickup_holiday'] = pd.to_datetime(taxi.pickup_datetime.dt.date).isin(holidays)\n",
        "taxi['pickup_holiday'] = taxi.pickup_holiday.map(lambda x: 1 if x == True else 0)\n",
        "taxi['pickup_near_holiday'] = (pd.to_datetime(taxi.pickup_datetime.dt.date).isin(holidays + timedelta(days=1)) | pd.to_datetime(taxi.pickup_datetime.dt.date).isin(holidays - timedelta(days=1)))\n",
        "taxi['pickup_near_holiday'] = taxi.pickup_near_holiday.map(lambda x: 1 if x == True else 0)"
      ],
      "metadata": {
        "id": "otYqUayK1BLA"
      },
      "execution_count": 64,
      "outputs": []
    },
    {
      "cell_type": "markdown",
      "source": [
        "##Trip duration per weekday"
      ],
      "metadata": {
        "id": "4JzyMvJlF-n2"
      }
    },
    {
      "cell_type": "markdown",
      "source": [
        "## Trip duration per month"
      ],
      "metadata": {
        "id": "wpFSrdnIO5kc"
      }
    },
    {
      "cell_type": "code",
      "source": [
        "taxi.columns"
      ],
      "metadata": {
        "colab": {
          "base_uri": "https://localhost:8080/"
        },
        "id": "EOABetwyse2u",
        "outputId": "03886eaf-1f9c-4ced-d995-a8c89a1857d2"
      },
      "execution_count": 65,
      "outputs": [
        {
          "output_type": "execute_result",
          "data": {
            "text/plain": [
              "Index(['id', 'vendor_id', 'pickup_datetime', 'dropoff_datetime',\n",
              "       'passenger_count', 'pickup_longitude', 'pickup_latitude',\n",
              "       'dropoff_longitude', 'dropoff_latitude', 'store_and_fwd_flag',\n",
              "       'trip_duration', 'pickup_holiday', 'pickup_near_holiday'],\n",
              "      dtype='object')"
            ]
          },
          "metadata": {},
          "execution_count": 65
        }
      ]
    },
    {
      "cell_type": "code",
      "source": [
        "plt.title(\"Distribution of trip duration\")\n",
        "sns.histplot(taxi['trip_duration'],bins=100)"
      ],
      "metadata": {
        "colab": {
          "base_uri": "https://localhost:8080/",
          "height": 313
        },
        "id": "uI7_J47csk5D",
        "outputId": "dc8a7f12-f967-4616-8693-d099c25dc45d"
      },
      "execution_count": 66,
      "outputs": [
        {
          "output_type": "execute_result",
          "data": {
            "text/plain": [
              "<matplotlib.axes._subplots.AxesSubplot at 0x7f8f57b6c650>"
            ]
          },
          "metadata": {},
          "execution_count": 66
        },
        {
          "output_type": "display_data",
          "data": {
            "text/plain": [
              "<Figure size 432x288 with 1 Axes>"
            ],
            "image/png": "[encoded data removed]"
          },
          "metadata": {
            "needs_background": "light"
          }
        }
      ]
    },
    {
      "cell_type": "markdown",
      "source": [
        "#Trip duration per vendor"
      ],
      "metadata": {
        "id": "PSf0sYHtBJH4"
      }
    },
    {
      "cell_type": "code",
      "source": [
        "group4 = data.groupby('vendor_id').trip_duration.mean()\n",
        "sns.barplot(group4.index, group4.values)\n",
        "plt.ylabel('Trip Duration (seconds)')\n",
        "plt.xlabel('Vendor')\n",
        "plt.show()"
      ],
      "metadata": {
        "colab": {
          "base_uri": "https://localhost:8080/",
          "height": 279
        },
        "id": "DA8RohP8BKBS",
        "outputId": "50b417d5-95e6-41de-ab29-a053f6a2b09c"
      },
      "execution_count": 67,
      "outputs": [
        {
          "output_type": "display_data",
          "data": {
            "text/plain": [
              "<Figure size 432x288 with 1 Axes>"
            ],
            "image/png": "[encoded data removed]"
          },
          "metadata": {
            "needs_background": "light"
          }
        }
      ]
    },
    {
      "cell_type": "markdown",
      "source": [
        "#Distance v/s Trip duration"
      ],
      "metadata": {
        "id": "iyh93gmeBlwK"
      }
    },
    {
      "cell_type": "code",
      "source": [
        "df = taxi.groupby('passenger_count')['trip_duration'].mean()\n",
        "plt.title('Distribution of trip_duration with respect to the trip_duration')\n",
        "sns.barplot(df.index,df.values)"
      ],
      "metadata": {
        "colab": {
          "base_uri": "https://localhost:8080/",
          "height": 313
        },
        "id": "PIwkShv2uCFZ",
        "outputId": "3a8d0b26-3494-44ad-f57a-e1d48282147e"
      },
      "execution_count": 70,
      "outputs": [
        {
          "output_type": "execute_result",
          "data": {
            "text/plain": [
              "<matplotlib.axes._subplots.AxesSubplot at 0x7f8f6bfd5b10>"
            ]
          },
          "metadata": {},
          "execution_count": 70
        },
        {
          "output_type": "display_data",
          "data": {
            "text/plain": [
              "<Figure size 432x288 with 1 Axes>"
            ],
            "image/png": "[encoded data removed]"
          },
          "metadata": {
            "needs_background": "light"
          }
        }
      ]
    },
    {
      "cell_type": "markdown",
      "source": [
        "#Feature engineering"
      ],
      "metadata": {
        "id": "Ws6K6O-u06Yq"
      }
    },
    {
      "cell_type": "code",
      "source": [
        "taxi['pickup_datetime'] = pd.to_datetime(taxi.pickup_datetime)\n",
        "taxi.loc[:, 'pickup_date'] = taxi['pickup_datetime'].dt.date\n",
        "taxi.loc[:, 'pickup_time'] = taxi['pickup_datetime'].dt.time\n",
        "taxi['dropoff_datetime'] = pd.to_datetime(taxi.dropoff_datetime)\n",
        "taxi.loc[:, 'dropoff_date'] = taxi['dropoff_datetime'].dt.date\n",
        "taxi.loc[:, 'dropoff_time'] = taxi['dropoff_datetime'].dt.time\n",
        "taxi.loc[:, 'dropoff_hour'] = taxi['dropoff_datetime'].dt.hour\n",
        "taxi.loc[:, 'dropoff_weekday'] = taxi['dropoff_datetime'].dt.weekday\n",
        "taxi.loc[:, 'dropoff_month'] = taxi['dropoff_datetime'].dt.month\n",
        "taxi.loc[:, 'pickup_weekday'] = taxi['pickup_datetime'].dt.weekday\n",
        "taxi.loc[:, 'pickup_weekofyear'] = taxi['pickup_datetime'].dt.weekofyear\n",
        "taxi.loc[:, 'pickup_hour'] = taxi['pickup_datetime'].dt.hour\n",
        "taxi.loc[:, 'pickup_minute'] = taxi['pickup_datetime'].dt.minute\n",
        "taxi.loc[:, 'pickup_dt'] = (taxi['pickup_datetime'] - taxi['pickup_datetime'].min()).dt.total_seconds()\n",
        "taxi.loc[:, 'pickup_week_hour'] = taxi['pickup_weekday'] * 24 + taxi['pickup_hour']\n",
        "taxi.loc[:, 'pickup_dayofyear'] = taxi['pickup_datetime'].dt.dayofyear\n",
        "taxi.loc[:, 'pickup_month'] = taxi['pickup_datetime'].dt.month"
      ],
      "metadata": {
        "id": "6vKYwKdRzqdM"
      },
      "execution_count": 72,
      "outputs": []
    },
    {
      "cell_type": "code",
      "source": [
        "cal = USFederalHolidayCalendar()\n",
        "holidays = cal.holidays(start=datetime(2016, 3, 1), end=datetime(2016, 4, 1))\n",
        "\n",
        "taxi['holiday'] = (taxi['pickup_datetime'].dt.date.astype('datetime64[ns]').isin(holidays)).astype(int)"
      ],
      "metadata": {
        "id": "S5zpYR6T-vRa"
      },
      "execution_count": 74,
      "outputs": []
    },
    {
      "cell_type": "markdown",
      "source": [
        "#Traffic Conditions and Pickup & Dropoff Co-ordinates"
      ],
      "metadata": {
        "id": "IQhej-eo-oqh"
      }
    },
    {
      "cell_type": "code",
      "source": [
        "# Mean Pickup and Dropoff Latitude\n",
        "print('Mean Pickup Latitude: ', taxi['pickup_latitude'].mean())\n",
        "print('Mean Dropoff Latitude: ',taxi['dropoff_latitude'].mean())"
      ],
      "metadata": {
        "colab": {
          "base_uri": "https://localhost:8080/"
        },
        "id": "GLX_DnyR-tp0",
        "outputId": "9f9b03d9-dcd3-456f-feb0-0e8b4a5571b8"
      },
      "execution_count": 75,
      "outputs": [
        {
          "output_type": "stream",
          "name": "stdout",
          "text": [
            "Mean Pickup Latitude:  40.750927045289096\n",
            "Mean Dropoff Latitude:  40.7518012526866\n"
          ]
        }
      ]
    },
    {
      "cell_type": "code",
      "source": [
        "# Mean Pickup and Dropoff Longitude\n",
        "print('Mean Pickup Longitude: ', taxi['pickup_longitude'].mean())\n",
        "print('Mean Dropoff Longitude: ',taxi['dropoff_longitude'].mean())"
      ],
      "metadata": {
        "colab": {
          "base_uri": "https://localhost:8080/"
        },
        "id": "d-DouRkW_Mvb",
        "outputId": "666f8582-0136-4157-c193-1f6f95ba857c"
      },
      "execution_count": 76,
      "outputs": [
        {
          "output_type": "stream",
          "name": "stdout",
          "text": [
            "Mean Pickup Longitude:  -73.97348988334355\n",
            "Mean Dropoff Longitude:  -73.97341996041985\n"
          ]
        }
      ]
    },
    {
      "cell_type": "code",
      "source": [
        "# How much does the Pickup and Dropoff Latitude correlate with the Vendor ID?\n",
        "print('CORR(Vendor ID, Pickup Latitude): ',taxi['vendor_id'].corr(taxi['pickup_latitude']))\n",
        "print('CORR(Vendor ID, Dropoff Latitude): ',taxi['vendor_id'].corr(taxi['dropoff_latitude']))"
      ],
      "metadata": {
        "colab": {
          "base_uri": "https://localhost:8080/"
        },
        "id": "cGWgxLqr_aUq",
        "outputId": "beacf100-17b8-464d-9709-f042470eb52c"
      },
      "execution_count": 77,
      "outputs": [
        {
          "output_type": "stream",
          "name": "stdout",
          "text": [
            "CORR(Vendor ID, Pickup Latitude):  0.0018228952993175917\n",
            "CORR(Vendor ID, Dropoff Latitude):  0.004533275826439585\n"
          ]
        }
      ]
    },
    {
      "cell_type": "code",
      "source": [
        "# How much does the Pickup and Dropoff Longitude correlate with the Vendor ID?\n",
        "print('CORR(Vendor ID, Pickup Longitude): ',taxi['vendor_id'].corr(taxi['pickup_longitude']))\n",
        "print('CORR(Vendor ID, Dropoff Longitude): ',taxi['vendor_id'].corr(taxi['dropoff_longitude']))"
      ],
      "metadata": {
        "colab": {
          "base_uri": "https://localhost:8080/"
        },
        "id": "do2UPMJ0_zqq",
        "outputId": "31b576a3-f084-4ff5-de39-7fb3aeac8c31"
      },
      "execution_count": 78,
      "outputs": [
        {
          "output_type": "stream",
          "name": "stdout",
          "text": [
            "CORR(Vendor ID, Pickup Longitude):  0.007751063972570735\n",
            "CORR(Vendor ID, Dropoff Longitude):  0.001495787920510666\n"
          ]
        }
      ]
    },
    {
      "cell_type": "code",
      "source": [
        "# Plot a univariate distribution of observations for latitude and longitude values to get a sense of where the most of the rides\n",
        "# are concentrated in terms of location.\n",
        "fig, ax = plt.subplots(2,2,figsize=(20, 10), sharex=False, sharey = False)\n",
        "sns.despine(left=True)\n",
        "sns.distplot(taxi['pickup_latitude'].values, label = 'pickup_latitude',color=\"g\",bins = 100, ax=ax[0,0])\n",
        "sns.distplot(taxi['dropoff_latitude'].values, label = 'dropoff_latitude',color=\"r\",bins = 100, ax=ax[0,1])\n",
        "sns.distplot(taxi['pickup_longitude'].values, label = 'pickup_longitude',color=\"g\",bins = 100, ax=ax[1,0])\n",
        "sns.distplot(taxi['dropoff_longitude'].values, label = 'dropoff_longitude',color=\"r\",bins = 100, ax=ax[1,1])"
      ],
      "metadata": {
        "colab": {
          "base_uri": "https://localhost:8080/",
          "height": 609
        },
        "id": "CgD9cTdCAF8O",
        "outputId": "a9bbd7b1-ad43-41c3-d22f-fc6d1cb535c4"
      },
      "execution_count": 79,
      "outputs": [
        {
          "output_type": "execute_result",
          "data": {
            "text/plain": [
              "<matplotlib.axes._subplots.AxesSubplot at 0x7f8f6c43f850>"
            ]
          },
          "metadata": {},
          "execution_count": 79
        },
        {
          "output_type": "display_data",
          "data": {
            "text/plain": [
              "<Figure size 1440x720 with 4 Axes>"
            ],
            "image/png": "[encoded data removed]"
          },
          "metadata": {
            "needs_background": "light"
          }
        }
      ]
    },
    {
      "cell_type": "markdown",
      "source": [
        "Latitude: 40 to 41\n",
        "\n",
        "Longitude: -73 to -74"
      ],
      "metadata": {
        "id": "gOcrFceNByYZ"
      }
    },
    {
      "cell_type": "code",
      "source": [
        "# Add bounds to coordinates from the taxiset to avoid Outliers affecting the plots\n",
        "coord = taxi.loc[(taxi.pickup_latitude > 40.6) & (taxi.pickup_latitude < 40.9)]\n",
        "coord = coord.loc[(taxi.dropoff_latitude > 40.6) & (taxi.dropoff_latitude < 40.9)]\n",
        "coord = coord.loc[(taxi.pickup_longitude > -74.05) & (taxi.pickup_longitude < -73.7)]\n",
        "coord = coord.loc[(taxi.dropoff_longitude > -74.05) & (taxi.dropoff_longitude < -73.7)]\n",
        "\n",
        "# Plot the distribution plot again with the same values but this time with the bounds in place for coordinates\n",
        "fig, ax = plt.subplots(2,2,figsize=(20, 10), sharex=False, sharey = False)\n",
        "sns.despine(left=True)\n",
        "sns.distplot(coord['pickup_latitude'].values, label = 'pickup_latitude',color=\"g\",bins = 100, ax=ax[0,0])\n",
        "sns.distplot(coord['dropoff_latitude'].values, label = 'dropoff_latitude',color=\"r\",bins = 100, ax=ax[0,1])\n",
        "sns.distplot(coord['pickup_longitude'].values, label = 'pickup_longitude',color=\"g\",bins = 100, ax=ax[1,0])\n",
        "sns.distplot(coord['dropoff_longitude'].values, label = 'dropoff_longitude',color=\"r\",bins = 100, ax=ax[1,1])\n",
        "plt.setp(ax, yticks=[])\n",
        "plt.tight_layout()"
      ],
      "metadata": {
        "colab": {
          "base_uri": "https://localhost:8080/",
          "height": 720
        },
        "id": "euhR9zsnB0kT",
        "outputId": "0689a2bd-08c9-40f0-a6f4-ba54ae7fd7e3"
      },
      "execution_count": 80,
      "outputs": [
        {
          "output_type": "display_data",
          "data": {
            "text/plain": [
              "<Figure size 1440x720 with 4 Axes>"
            ],
            "image/png": "[encoded data removed]"
          },
          "metadata": {
            "needs_background": "light"
          }
        }
      ]
    },
    {
      "cell_type": "markdown",
      "source": [
        " most of the trips are concentrated within these bounds of the coordinates\n",
        "\n"
      ],
      "metadata": {
        "id": "9oyRjDZYD0aK"
      }
    }
  ]
}